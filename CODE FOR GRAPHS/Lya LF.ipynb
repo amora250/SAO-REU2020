{
 "cells": [
  {
   "cell_type": "markdown",
   "metadata": {},
   "source": [
    "# Importing and calling data files\n"
   ]
  },
  {
   "cell_type": "code",
   "execution_count": 838,
   "metadata": {
    "ExecuteTime": {
     "end_time": "2020-06-30T19:29:38.468244Z",
     "start_time": "2020-06-30T19:29:38.409784Z"
    }
   },
   "outputs": [],
   "source": [
    "import numpy as np\n",
    "import matplotlib as mpl\n",
    "import matplotlib.pyplot as plt\n",
    "import matplotlib.lines as mlines\n",
    "import pandas as pd\n",
    "import os\n",
    "import reionizer\n",
    "import astropy\n",
    "import astropy.cosmology\n",
    "from astropy.cosmology import Planck15 as P15\n",
    "from astropy import units as u\n",
    "from astropy import constants as const\n",
    "from scipy import interpolate\n",
    "\n",
    "\n",
    "#Call UV LF data files\n",
    "LFz_data_dir = os.environ['LYA_DATA_DIR']+'data/models/' #calls directory\n",
    "LFz_dir = LFz_data_dir+'MTT15_UVLF/LF_pred/' #inside models folder call MTT15_UVLF/LF_pred/ folder\n",
    "LFz_files = sorted(reionizer.insensitive_glob(LFz_dir+'LF_pred_z*.txt')) \n",
    "#calls each file in modelled data * will be replaced with corresponding zval\n",
    "\n",
    "#Calling EW files and their Muv values\n",
    "pW_data_dir = os.environ['LYA_DATA_DIR']+'data/models/' \n",
    "pW_dir = pW_data_dir+'M18_z=7.0_lnpWobs_Muv/' #inside models folder call M18_z=7.0_lnpWobs_Muv folder\n",
    "pW_files = sorted(reionizer.insensitive_glob(pW_dir+'ln_pWobs_*.txt')) #calls each file in modelled data * will be replaced with corresponding xHI"
   ]
  },
  {
   "cell_type": "markdown",
   "metadata": {},
   "source": [
    "# Methodology\n",
    "## Defining function to call files\n"
   ]
  },
  {
   "cell_type": "code",
   "execution_count": 839,
   "metadata": {
    "ExecuteTime": {
     "end_time": "2020-06-30T19:29:39.783072Z",
     "start_time": "2020-06-30T19:29:39.575409Z"
    }
   },
   "outputs": [],
   "source": [
    "#Function used to load files\n",
    "def load_uvf_pandas(ufl_filename): \n",
    "    \"\"\"\n",
    "    Load table into pandas df\n",
    "    \"\"\"\n",
    "    uvf_tab_df = pd.read_csv(ufl_filename, skiprows=1, delim_whitespace=True)\n",
    "    \n",
    "    # Shuffle the column names to remove the '#' from the first column\n",
    "    uvf_tab_df.columns = np.roll(uvf_tab_df.columns, -1)\n",
    "\n",
    "    # Cut off the last (empty) column\n",
    "    uvf_tab_df = uvf_tab_df.iloc[:, :-1]\n",
    "\n",
    "    return uvf_tab_df\n",
    "\n",
    "\n",
    "\n",
    "#Call UV LF files by calling file name at specific z value \n",
    "LFz_tab = np.array([float(f.split('LF_pred_z')[-1].split('.txt')[0]) for f in LFz_files]) \n",
    "\n",
    "\n",
    "#Call xHI, EW files\n",
    "xHI_tab = np.array([float(f.split('xHI=')[-1].split('.txt')[0]) for f in pW_files]) \n",
    "\n",
    "\n",
    "#Call EW file with xHI = 0.01 \n",
    "pW_tab = load_uvf_pandas(pW_files[0]) \n",
    "\n",
    "#Get Muv values from EW file as an array to use\n",
    "Muv_EW = np.array([float(Muv_val) for Muv_val in pW_tab.columns[1:]])"
   ]
  },
  {
   "cell_type": "markdown",
   "metadata": {},
   "source": [
    "## Defining constants and evaluating equations for given z value. Interpolating data between UV LF and Lya EW"
   ]
  },
  {
   "cell_type": "code",
   "execution_count": 848,
   "metadata": {
    "ExecuteTime": {
     "end_time": "2020-06-30T19:36:06.941053Z",
     "start_time": "2020-06-30T19:36:06.662047Z"
    }
   },
   "outputs": [
    {
     "name": "stdout",
     "output_type": "stream",
     "text": [
      "1\n",
      "2\n"
     ]
    }
   ],
   "source": [
    "#Constants and constraints\n",
    "xHI_array = np.array([0.01]) #chosen xHI value\n",
    "zval_test = np.array([5.9]) #chosen redshifts\n",
    "Muv_array = np.array([-18.0,-22.0,-16.0]) #chosen Muv to test lum_lya vs Muv similar to EW vs Muv\n",
    "beta = -2.0 #usually -2 for high z galaxies as per spectrum as power law\n",
    "pc_10 = 10 * u.pc #1 pc to Mpc\n",
    "wl_lya = 1216 * u.Angstrom #angstrom\n",
    "wl_uv = 1500 * u.Angstrom #angstrom\n",
    "f0 = 3.631e-20 * (u.erg/u.s) * (u.cm**(-2)) * (u.Hz**(-1)) #flux_0 in erg s^-1 cm^-2 Hz^-1\n",
    "c = const.c #speed of light\n",
    "\n",
    "\n",
    "for zz,zval2 in enumerate (LFz_tab): \n",
    "    if zval2 in zval_test:\n",
    "        \n",
    "        LF_tab = load_uvf_pandas(LFz_files[zz]) #load in files\n",
    "        \n",
    "        #Get Muv values from file as an array to use\n",
    "        Muv_EW = np.array([float(Muv_val) for Muv_val in pW_tab.columns[1:]])\n",
    "        \n",
    "        #Interpolating UV LF Muv and ndens values into a 1d array\n",
    "        LF_interp = interpolate.interp1d(LF_tab['Muv'],LF_tab['ndens']) #old values\n",
    "        new_ndens = LF_interp(Muv_EW)\n",
    "        \n",
    "\n",
    "        d_l = P15.luminosity_distance(zval2) #define distance modulus\n",
    "\n",
    "        #Define apparent magnitude equation\n",
    "        def muv(Muv_EW,d_l,zval2): \n",
    "            p1 = Muv_EW\n",
    "            p2 = 5*(np.log10((d_l/pc_10).to(u.pc/u.pc))) #convert d_l/pc_10 to pc units and then dimensionless\n",
    "            p3 = 2.5*(beta+1.0)*np.log10(zval2+1.0)\n",
    "            ans = p1 + p2 + p3\n",
    "            \n",
    "            return ans\n",
    "        muv = muv(Muv_EW,d_l,zval2)\n",
    "        \n",
    "        \n",
    "        #Flux density of UV continuum at Lya wavelength from Muv for given zvals\n",
    "        fd_uv = f0 * (10**(-0.4*muv)) *(c/(wl_lya**2)) *((wl_lya/wl_uv)**(beta+2.0))\n",
    "        fd_units = fd_uv.to(u.erg/u.s* (u.cm**(-2))/u.Angstrom) ##use this to show units\n",
    "        \n",
    "        #Jacobian - partial EW / partial Lya Luminosity for given zvals \n",
    "        jacobian = 1/((4*np.pi*d_l**2.)*fd_units)\n",
    "        \n",
    "        for xx,xHI in enumerate (xHI_tab): #for each index and corresponding xHI value in list of xHI, call specific data file\n",
    "            if xHI in xHI_array:\n",
    "                pW_tab = load_uvf_pandas(pW_files[xx])\n",
    "                \n",
    "                # Flux_Lya\n",
    "                f_lya = np.outer(pW_tab['W'],fd_units) * u.Angstrom\n",
    "                \n",
    "                #drops first column of EW values\n",
    "                new_pW_tab = np.exp(pW_tab.drop('W',axis=1))\n",
    "                #new_pW_tab = pW_tab.drop('W',axis=1)\n",
    "                \n",
    "                #EW values for each Muv in EW file\n",
    "                pEW_vals = np.array(new_pW_tab) \n",
    "                \n",
    "                # P(Lya|Muv)\n",
    "                pLya = jacobian * pEW_vals #Jacobian (1D) * EW_vals (2D) = pLya (2D) \n",
    "                \n",
    "                \n",
    "                #Luminosity_Lya\n",
    "                lum_lya = (f_lya * (4*np.pi*d_l**2.)).to(u.erg/u.s)\n",
    "                \n",
    "                \n",
    "                #Normalizes pLya to correctly plot lum_lya vs pLya\n",
    "                A1 = pLya[0] #first term of p(L) integral, where these lum = 0 (the height in y)(-inf to 0)\n",
    "                integral = np.trapz(pLya[1:].T,lum_lya.value[1:].T) #second term for lum>0 (L>0 to inf) transposed to correct matrix \n",
    "                sum_int = A1 + integral #This is whole integral of p(L)dL\n",
    "                norm_pLya = pLya / sum_int #new normalized pLya, divide original pLya values by integral to normalize\n",
    "\n",
    "                new_A1 = norm_pLya[0]\n",
    "                integral2 = np.trapz(norm_pLya[1:].T,lum_lya.value[1:].T)\n",
    "                new_sum = new_A1 + integral2 #verifies that new normalized integral adds up to 1 \n",
    "                assert(new_sum.value.all() == 1.)\n",
    "                \n",
    "                # UV ndens, phi(Muv) * normalized P(Lya|Muv) \n",
    "                LF_product = new_ndens * norm_pLya\n",
    "                \n",
    "                \n",
    "                print(fd_uv.ndim)\n",
    "                print(norm_pLya.ndim)\n",
    "                \n",
    "                #Interpolating pLya and ndens values into a 1d array\n",
    "                #LF_interp = interpolate.interp1d(lum_lya,norm_pLya) #old values, MUST BE 1D\n",
    "                #new_pLya = LF_interp(lum_lya)\n",
    "                \n",
    "                lower = np.amin(Muv_EW)\n",
    "                upper = np.amax(Muv_EW)\n",
    "                limits = np.array([lower,upper])\n",
    "                lyalf = np.trapz(LF_product, limits)                \n",
    "                \n",
    "                \n",
    "                \n",
    "                if zval2 == 5.9:\n",
    "                    my_color = 'gray'               \n",
    "                else:\n",
    "                    my_color = 'purple'  \n",
    "                    \n",
    "        #Within if statement, this is for identifying xHI legend (values and corresponding colors)\n",
    "                for mm,Muv in enumerate (Muv_array):\n",
    "                    if mm == 0: #first item in Muv_array, i.e. -18.0 (will show xHI values and corresponding colors as solid)\n",
    "                        ls = 'solid'\n",
    "                        label = 'z = %.1f'%zval2\n",
    "                    elif mm == 1: #second item in Muv_array, i.e. -22.0 (will not show on xHI legend)\n",
    "                        ls = 'dashed'\n",
    "                        label = None\n",
    "                    elif mm == 2: \n",
    "                        ls = 'dashdot'\n",
    "                    \n",
    "                    #plt.loglog(lum_lya[:,mm], norm_pLya[:,mm], ls=ls, color = my_color, label = label)#[:,mm] gets corresponding column than row [mm]\n",
    "                    #plt.semilogy(lum_lya[:,mm],pW_tab['W'], ls=ls, color = my_color, label = label)#[:,mm] gets corresponding column than row [mm]\n",
    "\n",
    "# leg_zval = plt.legend(frameon=False, handletextpad=0.5)\n",
    "# plt.gca().add_artist(leg_zval)\n",
    "\n",
    "# #This is the legend for Muv values, -18.0 is solid, -22.0 is dashed\n",
    "# line2 = mlines.Line2D([], [], color='k', label=r'$M_\\mathrm{UV} = %.1f$' % Muv_array[0])\n",
    "# line3 = mlines.Line2D([], [], color='k', ls='dashed', label=r'$M_\\mathrm{UV} = %.1f$' % Muv_array[1])\n",
    "# line1 = mlines.Line2D([], [], color='k', ls='dashdot', label=r'$M_\\mathrm{UV} = %.1f$' % Muv_array[2])\n",
    "# plt.legend(handles=[line1, line2, line3], loc='lower left', frameon=False, handletextpad=0.5, handlelength=1.5)\n",
    "\n",
    "# plt.ylim(1e-50,1e-44)\n",
    "# plt.xlabel(r'${L(\\mathrm{L_\\alpha})}$, [$erg/s$]')\n",
    "# plt.ylabel('')\n",
    "# plt.ylabel(r'${ P (L_\\alpha \\;|\\; M_\\mathrm{UV})}$')\n",
    "# #ylabel [$\\mathrm{\\AA} cm^2 s/erg Mpc^2$]\n",
    "# plt.tight_layout()\n",
    "# #Save the figure\n",
    "# plt.savefig('LvsPLya.pdf', dpi=300, bbox_inches='tight')\n",
    "\n",
    "# plt.show()\n",
    "\n",
    "\n",
    "#         # Plot UV LF values vs interpolated Muv that is the same as EW \n",
    "#         plt.semilogy(LF_tab['Muv'],LF_tab['ndens'],label = 'z = %.1f'%zval2) #UV LF values (181 Muv vals)\n",
    "#         plt.plot(Muv_EW,new_ndens,'o')#EW Values along UV LF plot (61 Muv vals)\n",
    "#         #Muv values for EW are restricted in range, we'll have to extend range, use same EW PD > -23 and < -17 \n",
    "#         plt.legend()\n",
    "#         plt.xlabel('$M_\\mathrm{UV}$')\n",
    "#         plt.ylabel(r'$\\phi(M_\\mathrm{UV})\\ Mpc^-3$')\n",
    "#         plt.show()\n",
    "\n",
    "\n",
    "        ## Plot jacobian vs Muv\n",
    "        # Shows a positive linear relationship b/t Muv and jacobian, (fd_uv vs Muv shows neg. LR)\n",
    "        # As Muv becomes fainter, value for jacobian increases, they're inversely proportional?\n",
    "#         plt.semilogx(jacobian, Muv_EW, label = 'z = %.1f'%zval2)\n",
    "        \n",
    "# plt.legend()\n",
    "# plt.xlabel(r'$\\partial EW/\\partial L_\\alpha$, [$\\mathrm{\\AA} cm^2 s/erg Mpc^2$]')\n",
    "# plt.ylabel('$M_\\mathrm{UV}$')\n",
    "# plt.title('Jacobian vs $M_\\mathrm{UV}$ for a Given Redshift ')\n",
    "        \n",
    "# #Save the figure\n",
    "# plt.savefig('JvsMuv.pdf', dpi=300, bbox_inches='tight')\n",
    "\n",
    "# plt.show()\n",
    "        \n",
    "\n",
    "        "
   ]
  },
  {
   "cell_type": "markdown",
   "metadata": {},
   "source": [
    "# Test "
   ]
  },
  {
   "cell_type": "code",
   "execution_count": 487,
   "metadata": {
    "ExecuteTime": {
     "end_time": "2020-06-25T13:51:02.941544Z",
     "start_time": "2020-06-25T13:51:02.924975Z"
    }
   },
   "outputs": [
    {
     "name": "stdout",
     "output_type": "stream",
     "text": [
      "(10000,)\n"
     ]
    }
   ],
   "source": [
    "#TEST integration\n",
    "lower = np.amin(Muv_EW)\n",
    "upper = np.amax(Muv_EW)\n",
    "limits = np.array([lower,upper])\n",
    "integral = np.trapz(product, x = limits, dx = Muv_EW)\n",
    "print(integral.shape)"
   ]
  },
  {
   "cell_type": "code",
   "execution_count": 373,
   "metadata": {
    "ExecuteTime": {
     "end_time": "2020-06-24T15:20:57.548551Z",
     "start_time": "2020-06-24T15:20:57.537683Z"
    }
   },
   "outputs": [
    {
     "name": "stdout",
     "output_type": "stream",
     "text": [
      "[-22. -18.]\n"
     ]
    }
   ],
   "source": [
    "#TEST\n",
    "Muv_18 = Muv_EW[10]\n",
    "Muv_22 = Muv_EW[50]\n",
    "Muv_test = np.array([Muv_18,Muv_22])\n",
    "print(Muv_test)"
   ]
  },
  {
   "cell_type": "code",
   "execution_count": 810,
   "metadata": {
    "ExecuteTime": {
     "end_time": "2020-06-29T20:33:00.130436Z",
     "start_time": "2020-06-29T20:33:00.098821Z"
    }
   },
   "outputs": [
    {
     "name": "stdout",
     "output_type": "stream",
     "text": [
      "1\n"
     ]
    }
   ],
   "source": [
    "A1 = pLya[0] #first term of p(L) integral, where these lum = 0 (the height in y)(-inf to 0)\n",
    "integral = np.trapz(pLya[1:].T,lum_lya.value[1:].T) #second term for lum>0 (L>0 to inf) transposed to correct matrix \n",
    "sum_int = A1 + integral #This is whole integral of p(L)dL\n",
    "norm_pLya = pLya / sum_int #new normalized pLya, divide original pLya values by integral to normalize\n",
    "\n",
    "new_A1 = norm_pLya[0]\n",
    "integral2 = np.trapz(norm_pLya[1:].T,lum_lya.value[1:].T)\n",
    "new_sum = new_A1 + integral2 #verifies that new normalized integral adds up to 1 \n",
    "assert (new_sum.value.all() == 1.)\n",
    "\n",
    "\n",
    "\n",
    "lower = np.amin(Muv_EW)\n",
    "upper = np.amax(Muv_EW)\n",
    "limits = np.array([lower,upper])\n",
    "lyalf = np.trapz(LF_product, x = limits)\n",
    "print(lyalf)"
   ]
  },
  {
   "cell_type": "code",
   "execution_count": null,
   "metadata": {},
   "outputs": [],
   "source": []
  }
 ],
 "metadata": {
  "kernelspec": {
   "display_name": "Python 3",
   "language": "python",
   "name": "python3"
  },
  "language_info": {
   "codemirror_mode": {
    "name": "ipython",
    "version": 3
   },
   "file_extension": ".py",
   "mimetype": "text/x-python",
   "name": "python",
   "nbconvert_exporter": "python",
   "pygments_lexer": "ipython3",
   "version": "3.7.6"
  },
  "toc": {
   "base_numbering": 1,
   "nav_menu": {},
   "number_sections": true,
   "sideBar": true,
   "skip_h1_title": false,
   "title_cell": "Table of Contents",
   "title_sidebar": "Contents",
   "toc_cell": false,
   "toc_position": {
    "height": "calc(100% - 180px)",
    "left": "10px",
    "top": "150px",
    "width": "165px"
   },
   "toc_section_display": true,
   "toc_window_display": false
  }
 },
 "nbformat": 4,
 "nbformat_minor": 4
}
