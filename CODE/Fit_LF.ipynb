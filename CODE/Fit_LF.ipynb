{
 "cells": [
  {
   "cell_type": "code",
   "execution_count": 93,
   "metadata": {
    "ExecuteTime": {
     "end_time": "2020-09-08T17:17:32.245364Z",
     "start_time": "2020-09-08T17:17:32.024618Z"
    }
   },
   "outputs": [],
   "source": [
    "import numpy as np\n",
    "import matplotlib.pyplot as plt\n",
    "import run_LF as LF\n",
    "\n",
    "%matplotlib inline\n",
    "plt.style.use(['seaborn-poster','seaborn-ticks'])"
   ]
  },
  {
   "cell_type": "code",
   "execution_count": 260,
   "metadata": {
    "ExecuteTime": {
     "end_time": "2020-09-16T19:48:25.585324Z",
     "start_time": "2020-09-16T19:48:24.756688Z"
    }
   },
   "outputs": [],
   "source": [
    "%reload_ext autoreload\n",
    "%autoreload 2"
   ]
  },
  {
   "cell_type": "markdown",
   "metadata": {},
   "source": [
    "# Defining observational variables from Konno, Ouchi data"
   ]
  },
  {
   "cell_type": "code",
   "execution_count": 289,
   "metadata": {
    "ExecuteTime": {
     "end_time": "2020-09-16T21:53:21.958782Z",
     "start_time": "2020-09-16T21:53:21.666579Z"
    }
   },
   "outputs": [],
   "source": [
    "Ouchi_info6 = LF.ouchi_data_plt(zval_test = 6.6, plot = False, mean = False)\n",
    "Konno_info6 = LF.konno_data_plt(zval_test = 6.6, plot = False, mean = False)\n",
    "Konno_info7 = LF.konno_data_plt(zval_test = 7.3, plot = False, mean = False)\n",
    "Shibuya_info7 = LF.shibuya_data_plt(zval_test = 7.3, plot = False, mean = False)\n",
    "Zheng_info70 = LF.zheng_data_plt(zval_test = 7.0, plot = False, mean = False)\n",
    "Ota_info70 = LF.ota_data_plt(zval_test = 7.0, plot = False, mean = False)"
   ]
  },
  {
   "cell_type": "code",
   "execution_count": 264,
   "metadata": {
    "ExecuteTime": {
     "end_time": "2020-09-16T19:48:44.595407Z",
     "start_time": "2020-09-16T19:48:44.402791Z"
    }
   },
   "outputs": [],
   "source": [
    "# z = 6.6\n",
    "log_L6 = np.concatenate((Ouchi_info6[0], Konno_info6[0]), axis=None)\n",
    "ndens6 = np.concatenate((Ouchi_info6[1], Konno_info6[1]), axis=None)\n",
    "yerror_l6 = np.concatenate((Ouchi_info6[2][0], Konno_info6[2][0]), axis=None)\n",
    "yerror_u6 = np.concatenate((Ouchi_info6[2][1], Konno_info6[2][1]), axis=None)"
   ]
  },
  {
   "cell_type": "code",
   "execution_count": 291,
   "metadata": {
    "ExecuteTime": {
     "end_time": "2020-09-16T21:53:28.594773Z",
     "start_time": "2020-09-16T21:53:28.418236Z"
    }
   },
   "outputs": [],
   "source": [
    "# z = 7.0\n",
    "log_L70 = np.concatenate((Zheng_info70[0], Ota_info70[0]), axis=None)\n",
    "ndens70 = np.concatenate((Zheng_info70[1], Ota_info70[1]), axis=None)\n",
    "yerror_l70 = np.concatenate((Zheng_info70[2][0], Ota_info70[2][0]), axis=None)\n",
    "yerror_u70 = np.concatenate((Zheng_info70[2][1], Ota_info70[2][1]), axis=None)"
   ]
  },
  {
   "cell_type": "code",
   "execution_count": 292,
   "metadata": {
    "ExecuteTime": {
     "end_time": "2020-09-16T21:53:33.664121Z",
     "start_time": "2020-09-16T21:53:33.484299Z"
    }
   },
   "outputs": [],
   "source": [
    "# z = 7.3\n",
    "log_L7 = Konno_info7[0]\n",
    "ndens7 = Konno_info7[1]\n",
    "yerror_l7 = Konno_info7[2][0]\n",
    "yerror_u7 = Konno_info7[2][1]\n",
    "# log_L7 = np.concatenate((Shibuya_info7[0], Konno_info7[0]), axis=None)\n",
    "# ndens7 = np.concatenate((Shibuya_info7[1], Konno_info7[1]), axis=None)\n",
    "# yerror_l7 = np.concatenate((Shibuya_info7[2][0], Konno_info7[2][0]), axis=None)\n",
    "# yerror_u7 = np.concatenate((Shibuya_info7[2][1], Konno_info7[2][1]), axis=None)"
   ]
  },
  {
   "cell_type": "markdown",
   "metadata": {},
   "source": [
    "# Establishing prior, likelihood, & posterior"
   ]
  },
  {
   "cell_type": "code",
   "execution_count": 293,
   "metadata": {
    "ExecuteTime": {
     "end_time": "2020-09-16T21:53:35.154266Z",
     "start_time": "2020-09-16T21:53:34.843070Z"
    }
   },
   "outputs": [
    {
     "name": "stderr",
     "output_type": "stream",
     "text": [
      "/Applications/anaconda3/lib/python3.7/site-packages/ipykernel_launcher.py:27: RuntimeWarning: divide by zero encountered in log\n"
     ]
    },
    {
     "data": {
      "text/plain": [
       "<matplotlib.collections.PathCollection at 0x7f89e92e8f90>"
      ]
     },
     "execution_count": 293,
     "metadata": {},
     "output_type": "execute_result"
    },
    {
     "data": {
      "image/png": "[encoded data removed]",
      "text/plain": [
       "<Figure size 640x480 with 1 Axes>"
      ]
     },
     "metadata": {},
     "output_type": "display_data"
    }
   ],
   "source": [
    "xHI_min = 0.\n",
    "xHI_max = 0.95\n",
    "\n",
    "# xHI_grid = np.linspace(-0.1,1.1)\n",
    "xHI_grid = np.arange(-0.1, 1.1, 0.01)\n",
    "def log_prior(theta):\n",
    "    \"\"\"\n",
    "    Returns log(prior) for a given parameter vector\n",
    "    \n",
    "    Parameters\n",
    "    ----------\n",
    "    theta: list, array-like\n",
    "        List of parameters in the form [slope, intercept]\n",
    "    \n",
    "    Returns\n",
    "    -------\n",
    "    ln_prior: float\n",
    "        Natural log of the prior probability function\n",
    "    \"\"\"\n",
    "    xHI = theta\n",
    "    prob_xHI = np.zeros(len(xHI))\n",
    "    \n",
    "    \n",
    "    prob_xHI[(xHI_min <= xHI) & (xHI <= xHI_max)] = 1. # Log prior (not worrying about normalization)\n",
    "\n",
    "\n",
    "    ln_prior = np.log(prob_xHI)  # Log of the probability\n",
    "    return ln_prior\n",
    "# plt.scatter(xHI_grid, [np.exp(log_prior(xHI)) for xHI in xHI_grid])\n",
    "plt.scatter(xHI_grid, np.exp(log_prior(xHI_grid)))"
   ]
  },
  {
   "cell_type": "code",
   "execution_count": 294,
   "metadata": {
    "ExecuteTime": {
     "end_time": "2020-09-16T21:53:36.186796Z",
     "start_time": "2020-09-16T21:53:36.004017Z"
    }
   },
   "outputs": [],
   "source": [
    "def log_likelihood(theta, x, y, dy_l, dy_u, z):\n",
    "    \"\"\"\n",
    "    Returns log(likelihood) for a given parameter vector\n",
    "    \n",
    "    Parameters\n",
    "    ----------\n",
    "    theta: list, array-like\n",
    "        List of parameters in the form [slope, intercept]\n",
    "    x: list, array-like\n",
    "        x-values of your data\n",
    "    y: list, array-like\n",
    "        y-values of your data\n",
    "    dy: list, array-like\n",
    "        Uncertainties on the y-values of your data\n",
    "    \n",
    "    Returns\n",
    "    -------\n",
    "    ln_like: float\n",
    "        Natural log of the likelihood function\n",
    "    \"\"\"\n",
    "    xHI_mod = theta\n",
    "    \n",
    "    #Nearest neighbor to xHI list\n",
    "    idx = (np.abs(LF.xHI_list - xHI_mod)).argmin()\n",
    "    xHI_grid_match = LF.xHI_list[idx]\n",
    "    \n",
    "    y_model = LF.xHI_model(xHI_grid_match, obs_L = x, zval= z)\n",
    "    \n",
    "    #Defining split-likelihood\n",
    "    #chi2 use split\n",
    "    A = (np.sqrt(2.*np.pi)*(((dy_u + dy_l)/2.)**2.))**(-1)\n",
    "    \n",
    "    likelihood = A * np.exp(-0.5* ((y_model - y)**2.)/(dy_u**2.))\n",
    "\n",
    "    likelihood2 = A * np.exp(-0.5* ((y_model - y)**2.)/(dy_l**2.))\n",
    "    \n",
    "    likelihood[y_model >= y] = likelihood2[y_model >= y]\n",
    "    ln_like = np.sum(np.log(likelihood))\n",
    "   \n",
    "    return ln_like\n"
   ]
  },
  {
   "cell_type": "code",
   "execution_count": 302,
   "metadata": {
    "ExecuteTime": {
     "end_time": "2020-09-16T22:17:31.448710Z",
     "start_time": "2020-09-16T22:15:26.706295Z"
    }
   },
   "outputs": [
    {
     "name": "stderr",
     "output_type": "stream",
     "text": [
      "/Applications/anaconda3/lib/python3.7/site-packages/ipykernel_launcher.py:27: RuntimeWarning: divide by zero encountered in log\n",
      "/Applications/anaconda3/lib/python3.7/site-packages/ipykernel_launcher.py:33: RuntimeWarning: divide by zero encountered in true_divide\n",
      "/Applications/anaconda3/lib/python3.7/site-packages/ipykernel_launcher.py:38: RuntimeWarning: divide by zero encountered in log\n"
     ]
    }
   ],
   "source": [
    "def log_posterior(theta, x, y, dy_l, dy_u, z):\n",
    "    \"\"\"\n",
    "    Returns log(posterior) for a given parameter vector\n",
    "    \n",
    "    Parameters\n",
    "    ----------\n",
    "    theta: list, array-like\n",
    "        List of parameters in the form [slope, intercept]\n",
    "    x: list, array-like\n",
    "        x-values of your data\n",
    "    y: list, array-like\n",
    "        y-values of your data\n",
    "    dy: list, array-like\n",
    "        Uncertainties on the y-values of your data\n",
    "    \n",
    "    Returns\n",
    "    -------\n",
    "    ln_post: float\n",
    "        Natural log of the posterior probability function\n",
    "    \"\"\"\n",
    "\n",
    "    ln_post = log_prior(theta) + np.array([log_likelihood(t, x, y, dy_l, dy_u, z) for t in theta])  # From Bayes Theorem\n",
    "    return ln_post\n",
    "log_post6 = log_posterior(theta = xHI_grid, x = log_L6, y = ndens6, dy_l = yerror_l6, dy_u = yerror_u6, z = 6.6)\n",
    "log_post70 = log_posterior(theta = xHI_grid, x = log_L70, y = ndens70, dy_l = yerror_l70, dy_u = yerror_u70, z = 7.0)\n",
    "log_post7 = log_posterior(theta = xHI_grid, x = log_L7, y = ndens7, dy_l = yerror_l7, dy_u = yerror_u7, z = 7.3)"
   ]
  },
  {
   "cell_type": "markdown",
   "metadata": {},
   "source": [
    "# Fit LF z = 6.6"
   ]
  },
  {
   "cell_type": "code",
   "execution_count": 303,
   "metadata": {
    "ExecuteTime": {
     "end_time": "2020-09-16T22:17:34.334383Z",
     "start_time": "2020-09-16T22:17:34.086627Z"
    }
   },
   "outputs": [],
   "source": [
    "# z = 6.6 \n",
    "linear_post6 = np.exp(log_post6)\n",
    "integral_post6 = np.trapz(linear_post6,xHI_grid)\n",
    "normalized_post6 = linear_post6 / integral_post6"
   ]
  },
  {
   "cell_type": "code",
   "execution_count": 304,
   "metadata": {
    "ExecuteTime": {
     "end_time": "2020-09-16T22:17:34.585672Z",
     "start_time": "2020-09-16T22:17:34.353140Z"
    }
   },
   "outputs": [
    {
     "name": "stdout",
     "output_type": "stream",
     "text": [
      "0.07293964504622646\n",
      "0.15895709539263628\n"
     ]
    }
   ],
   "source": [
    "# Confidence interval information, z = 6.6\n",
    "CDF_6 = np.cumsum(normalized_post6*np.gradient(xHI_grid))\n",
    "CDF_norm_6 = CDF_6/CDF_6.max()\n",
    "\n",
    "# 68% Confidence Interval upper limit\n",
    "z6_CI68 = np.interp(0.68, CDF_norm_6, xHI_grid)\n",
    "print(z6_CI68)\n",
    "\n",
    "# 95% Confidence Interval upper limit\n",
    "z6_CI95 = np.interp(0.95, CDF_norm_6, xHI_grid)\n",
    "print(z6_CI95)"
   ]
  },
  {
   "cell_type": "code",
   "execution_count": 305,
   "metadata": {
    "ExecuteTime": {
     "end_time": "2020-09-16T22:17:35.163549Z",
     "start_time": "2020-09-16T22:17:34.683278Z"
    }
   },
   "outputs": [
    {
     "data": {
      "text/plain": [
       "<matplotlib.lines.Line2D at 0x7f89e8d49dd0>"
      ]
     },
     "execution_count": 305,
     "metadata": {},
     "output_type": "execute_result"
    },
    {
     "data": {
      "image/png": "[encoded data removed]",
      "text/plain": [
       "<Figure size 640x480 with 1 Axes>"
      ]
     },
     "metadata": {},
     "output_type": "display_data"
    }
   ],
   "source": [
    "plt.plot(xHI_grid, normalized_post6)\n",
    "plt.axvline(z6_CI68, color = 'red', lw = 0.5)\n",
    "plt.axvline(z6_CI95, color = 'green', lw = 0.5)"
   ]
  },
  {
   "cell_type": "code",
   "execution_count": 306,
   "metadata": {
    "ExecuteTime": {
     "end_time": "2020-09-16T22:17:37.199728Z",
     "start_time": "2020-09-16T22:17:35.170357Z"
    }
   },
   "outputs": [
    {
     "data": {
      "text/plain": [
       "<matplotlib.lines.Line2D at 0x7f89e9ae40d0>"
      ]
     },
     "execution_count": 306,
     "metadata": {},
     "output_type": "execute_result"
    },
    {
     "data": {
      "image/png": "[encoded data removed]",
      "text/plain": [
       "<Figure size 640x480 with 1 Axes>"
      ]
     },
     "metadata": {},
     "output_type": "display_data"
    }
   ],
   "source": [
    "plt.plot(xHI_grid, CDF_norm_6)\n",
    "\n",
    "# 68% CI upper limit\n",
    "plt.axhline(0.68, color = 'red', lw = 0.5)\n",
    "plt.axvline(z6_CI68, color = 'red', lw = 0.5)\n",
    "\n",
    "# 95% CI upper limit\n",
    "plt.axhline(0.95, color = 'green', lw = 0.5)\n",
    "plt.axvline(z6_CI95, color = 'green', lw = 0.5)"
   ]
  },
  {
   "cell_type": "markdown",
   "metadata": {},
   "source": [
    "# Fit LF z = 7.0"
   ]
  },
  {
   "cell_type": "code",
   "execution_count": 307,
   "metadata": {
    "ExecuteTime": {
     "end_time": "2020-09-16T22:17:37.574181Z",
     "start_time": "2020-09-16T22:17:37.211911Z"
    }
   },
   "outputs": [],
   "source": [
    "# z = 7.0\n",
    "linear_post70 = np.exp(log_post70)\n",
    "integral_post70 = np.trapz(linear_post70,xHI_grid)\n",
    "normalized_post70 = linear_post70 / integral_post70"
   ]
  },
  {
   "cell_type": "code",
   "execution_count": 308,
   "metadata": {
    "ExecuteTime": {
     "end_time": "2020-09-16T22:17:38.157768Z",
     "start_time": "2020-09-16T22:17:37.586766Z"
    }
   },
   "outputs": [
    {
     "name": "stdout",
     "output_type": "stream",
     "text": [
      "0.4556780100775677\n",
      "0.4963986400255544\n",
      "0.5196216157017205\n",
      "0.4136386570790949\n",
      "0.5283783774533936\n"
     ]
    }
   ],
   "source": [
    "# Confidence interval information, z = 7.0\n",
    "\n",
    "CDF_70 = np.cumsum(normalized_post70*np.gradient(xHI_grid))\n",
    "CDF_norm_70 = CDF_70/CDF_70.max()\n",
    "\n",
    "\n",
    "# 68% Confidence Interval lower, median, upper limit\n",
    "z70_CI16 = np.interp(0.16, CDF_norm_70, xHI_grid)\n",
    "z70_CI50 = np.interp(0.5, CDF_norm_70, xHI_grid)\n",
    "z70_CI84 = np.interp(0.84, CDF_norm_70, xHI_grid)\n",
    "print(z70_CI16)\n",
    "print(z70_CI50)\n",
    "print(z70_CI84)\n",
    "\n",
    "# 95% Confidence Interval lower, upper limit\n",
    "z70_CI025 = np.interp(0.025, CDF_norm_70, xHI_grid)\n",
    "z70_CI975 = np.interp(0.975, CDF_norm_70, xHI_grid)\n",
    "print(z70_CI025)\n",
    "print(z70_CI975)"
   ]
  },
  {
   "cell_type": "code",
   "execution_count": 309,
   "metadata": {
    "ExecuteTime": {
     "end_time": "2020-09-16T22:17:38.909272Z",
     "start_time": "2020-09-16T22:17:38.174095Z"
    }
   },
   "outputs": [
    {
     "data": {
      "text/plain": [
       "<matplotlib.lines.Line2D at 0x7f89e65a6350>"
      ]
     },
     "execution_count": 309,
     "metadata": {},
     "output_type": "execute_result"
    },
    {
     "data": {
      "image/png": "[encoded data removed]",
      "text/plain": [
       "<Figure size 640x480 with 1 Axes>"
      ]
     },
     "metadata": {},
     "output_type": "display_data"
    }
   ],
   "source": [
    "plt.plot(xHI_grid, normalized_post70)\n",
    "\n",
    "# 68% CI lower, median, upper limit\n",
    "plt.axvline(z70_CI16, color = 'red', lw = 0.5)\n",
    "plt.axvline(z70_CI50, color = 'red', lw = 0.5)\n",
    "plt.axvline(z70_CI84, color = 'red', lw = 0.5)\n",
    "\n",
    "# 95% CI lower, upper limit\n",
    "plt.axvline(z70_CI025, color = 'green', lw = 0.5)\n",
    "plt.axvline(z70_CI975, color = 'green', lw = 0.5)"
   ]
  },
  {
   "cell_type": "markdown",
   "metadata": {},
   "source": [
    "# Fit LF z = 7.3"
   ]
  },
  {
   "cell_type": "code",
   "execution_count": 285,
   "metadata": {
    "ExecuteTime": {
     "end_time": "2020-09-16T21:46:15.698538Z",
     "start_time": "2020-09-16T21:46:15.482815Z"
    }
   },
   "outputs": [],
   "source": [
    "# z = 7.3\n",
    "linear_post7 = np.exp(log_post7)\n",
    "integral_post7 = np.trapz(linear_post7,xHI_grid)\n",
    "normalized_post7 = linear_post7 / integral_post7"
   ]
  },
  {
   "cell_type": "code",
   "execution_count": 286,
   "metadata": {
    "ExecuteTime": {
     "end_time": "2020-09-16T21:46:16.355199Z",
     "start_time": "2020-09-16T21:46:16.176010Z"
    }
   },
   "outputs": [
    {
     "name": "stdout",
     "output_type": "stream",
     "text": [
      "0.6663370001526867\n",
      "0.7662426990074139\n",
      "0.8778757270664179\n",
      "0.5872322540032084\n",
      "0.937532542006216\n"
     ]
    }
   ],
   "source": [
    "# Confidence interval information, z = 7.3\n",
    "\n",
    "CDF_7 = np.cumsum(normalized_post7*np.gradient(xHI_grid))\n",
    "CDF_norm_7 = CDF_7/CDF_7.max()\n",
    "\n",
    "# 68% Confidence Interval lower, median, upper limit\n",
    "z7_CI16 = np.interp(0.16, CDF_norm_7, xHI_grid)\n",
    "z7_CI50 = np.interp(0.5, CDF_norm_7, xHI_grid)\n",
    "z7_CI84 = np.interp(0.84, CDF_norm_7, xHI_grid)\n",
    "print(z7_CI16)\n",
    "print(z7_CI50)\n",
    "print(z7_CI84)\n",
    "\n",
    "# 95% Confidence Interval lower, upper limit\n",
    "z7_CI025 = np.interp(0.025, CDF_norm_7, xHI_grid)\n",
    "z7_CI975 = np.interp(0.975, CDF_norm_7, xHI_grid)\n",
    "print(z7_CI025)\n",
    "print(z7_CI975)"
   ]
  },
  {
   "cell_type": "code",
   "execution_count": 287,
   "metadata": {
    "ExecuteTime": {
     "end_time": "2020-09-16T21:46:17.534752Z",
     "start_time": "2020-09-16T21:46:17.050728Z"
    }
   },
   "outputs": [
    {
     "data": {
      "text/plain": [
       "<matplotlib.lines.Line2D at 0x7f89e8ffce50>"
      ]
     },
     "execution_count": 287,
     "metadata": {},
     "output_type": "execute_result"
    },
    {
     "data": {
      "image/png": "[encoded data removed]",
      "text/plain": [
       "<Figure size 640x480 with 1 Axes>"
      ]
     },
     "metadata": {},
     "output_type": "display_data"
    }
   ],
   "source": [
    "plt.plot(xHI_grid, normalized_post7)\n",
    "\n",
    "# 68% CI lower, median, upper limit\n",
    "plt.axvline(z7_CI16, color = 'red', lw = 0.5)\n",
    "plt.axvline(z7_CI50, color = 'red', lw = 0.5)\n",
    "plt.axvline(z7_CI84, color = 'red', lw = 0.5)\n",
    "\n",
    "# 95% CI lower, upper limit\n",
    "plt.axvline(z7_CI025, color = 'green', lw = 0.5)\n",
    "plt.axvline(z7_CI975, color = 'green', lw = 0.5)"
   ]
  },
  {
   "cell_type": "code",
   "execution_count": 288,
   "metadata": {
    "ExecuteTime": {
     "end_time": "2020-09-16T21:46:18.520722Z",
     "start_time": "2020-09-16T21:46:18.175288Z"
    }
   },
   "outputs": [
    {
     "data": {
      "text/plain": [
       "<matplotlib.lines.Line2D at 0x7f89e919ddd0>"
      ]
     },
     "execution_count": 288,
     "metadata": {},
     "output_type": "execute_result"
    },
    {
     "data": {
      "image/png": "[encoded data removed]",
      "text/plain": [
       "<Figure size 640x480 with 1 Axes>"
      ]
     },
     "metadata": {},
     "output_type": "display_data"
    }
   ],
   "source": [
    "plt.plot(xHI_grid, CDF_norm_7)\n",
    "\n",
    "# 68% CI lower, median, upper limit\n",
    "plt.axhline(0.16, color = 'red', lw = 0.5)\n",
    "plt.axhline(0.5, color = 'red', lw = 0.5)\n",
    "plt.axhline(0.84, color = 'red', lw = 0.5)\n",
    "plt.axvline(z7_CI16, color = 'red', lw = 0.5)\n",
    "plt.axvline(z7_CI50, color = 'red', lw = 0.5)\n",
    "plt.axvline(z7_CI84, color = 'red', lw = 0.5)\n",
    "\n",
    "# 95% CI lower, upper limit\n",
    "plt.axhline(0.025, color = 'green', lw = 0.5)\n",
    "plt.axhline(0.975, color = 'green', lw = 0.5)\n",
    "plt.axvline(z7_CI025, color = 'green', lw = 0.5)\n",
    "plt.axvline(z7_CI975, color = 'green', lw = 0.5)\n"
   ]
  },
  {
   "cell_type": "markdown",
   "metadata": {},
   "source": [
    "# Test Code"
   ]
  },
  {
   "cell_type": "code",
   "execution_count": 97,
   "metadata": {
    "ExecuteTime": {
     "end_time": "2020-09-08T17:17:41.570506Z",
     "start_time": "2020-09-08T17:17:41.322145Z"
    }
   },
   "outputs": [
    {
     "name": "stdout",
     "output_type": "stream",
     "text": [
      "[0.00238276 0.04630646 0.01056031 0.0020145  0.00582859 0.02128509\n",
      " 0.00389536 0.15348608 0.21498316 0.01358588]\n",
      "[1.0488135  1.21518937 1.10276338 1.04488318 0.9236548  1.14589411\n",
      " 0.93758721 1.391773   1.46366276 0.88344152]\n",
      "[ 0.00238276  0.04630646  0.01056031  0.0020145  -0.00582859  0.02128509\n",
      " -0.00389536  0.15348608  0.21498316 -0.01358588]\n"
     ]
    }
   ],
   "source": [
    "#Test Cell\n",
    "np.random.seed(0)\n",
    "\n",
    "y_model = np.ones(10)\n",
    "y = np.random.rand(10)+0.5\n",
    "likelihood = (y_model - y)**2.\n",
    "print(likelihood)\n",
    "print(y)\n",
    "# likelihood[y_model >= y] = 0\n",
    "# print(likelihood)\n",
    "\n",
    "likelihood2 = -(y_model - y)**2.\n",
    "# print(likelihood2)\n",
    "likelihood[y_model >= y] = likelihood2[y_model >= y]\n",
    "print(likelihood)"
   ]
  }
 ],
 "metadata": {
  "kernelspec": {
   "display_name": "Python 3",
   "language": "python",
   "name": "python3"
  },
  "language_info": {
   "codemirror_mode": {
    "name": "ipython",
    "version": 3
   },
   "file_extension": ".py",
   "mimetype": "text/x-python",
   "name": "python",
   "nbconvert_exporter": "python",
   "pygments_lexer": "ipython3",
   "version": "3.7.6"
  },
  "toc": {
   "base_numbering": 1,
   "nav_menu": {},
   "number_sections": true,
   "sideBar": true,
   "skip_h1_title": false,
   "title_cell": "Table of Contents",
   "title_sidebar": "Contents",
   "toc_cell": false,
   "toc_position": {},
   "toc_section_display": true,
   "toc_window_display": false
  }
 },
 "nbformat": 4,
 "nbformat_minor": 4
}
