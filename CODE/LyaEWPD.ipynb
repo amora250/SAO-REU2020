{
 "cells": [
  {
   "cell_type": "markdown",
   "metadata": {},
   "source": [
    "# Import packages and call variables"
   ]
  },
  {
   "cell_type": "code",
   "execution_count": 18,
   "metadata": {
    "ExecuteTime": {
     "end_time": "2020-12-04T22:31:35.912209Z",
     "start_time": "2020-12-04T22:31:35.679936Z"
    }
   },
   "outputs": [
    {
     "name": "stderr",
     "output_type": "stream",
     "text": [
      "/Users/alexamia/Desktop/REU2020/SAO-REU2020/CODE/run_LF.py:38: RuntimeWarning: divide by zero encountered in log10\n",
      "  log10_lg = np.log10(lum_grid) #log10 luminosity grid in order to plot it on log10 scale similar to past works\n"
     ]
    }
   ],
   "source": [
    "import numpy as np\n",
    "import matplotlib.pyplot as plt\n",
    "import pandas as pd\n",
    "import os\n",
    "import reionizer\n",
    "import matplotlib.lines as mlines\n",
    "import run_LF as LF\n",
    "\n",
    "\n",
    "\n",
    "## this is manipulated data from original code in README\n",
    "\n",
    "#/Users/alexamia/Desktop/REU2020_DATA/REU2020/data/models/M18_z\\=7.0_lnpWobs_Muv\n",
    "# Colors\n",
    "from palettable.colorbrewer.sequential import Purples_6\n",
    "from palettable.colorbrewer.sequential import Oranges_6\n",
    "from palettable.colorbrewer.sequential import Greens_6\n",
    "from palettable.colorbrewer.sequential import Blues_6\n",
    "from palettable.colorbrewer.sequential import Reds_6\n",
    "\n",
    "seqcols = [Blues_6.hex_colors, Greens_6.hex_colors, Purples_6.hex_colors, Oranges_6.hex_colors]\n",
    "\n",
    "pW_data_dir = os.environ['LYA_DATA_DIR']+'data/models/' \n",
    "pW_dir = pW_data_dir+'M18_z=7.0_lnpWobs_Muv/' #inside models folder call M18_z=7.0_lnpWobs_Muv folder\n",
    "pW_files = sorted(reionizer.insensitive_glob(pW_dir+'ln_pWobs_*.txt')) #calls each file in modelled data * will be replaced with corresponding xHI\n",
    "\n",
    "#Call xHI files\n",
    "xHI_tab = np.array([float(f.split('xHI=')[-1].split('.txt')[0]) for f in pW_files]) \n",
    "#For each float in pW_files, call each xHI, -1 returns last item and 0 returns first item, so it gets xHI=___.txt\n",
    "\n",
    "\n",
    "def load_pW_pandas(lypW_filename): ##defined parameter as my_function then eventually paseed lnpW_file into it\n",
    "    \"\"\"\n",
    "    Load table into pandas df\n",
    "    \"\"\"\n",
    "    lnpW_tab_df = pd.read_csv(lypW_filename, skiprows=1, delim_whitespace=True)\n",
    "    \n",
    "    # Shuffle the column names to remove the '#' from the first column\n",
    "    lnpW_tab_df.columns = np.roll(lnpW_tab_df.columns, -1)\n",
    "\n",
    "    # Cut off the last (empty) column\n",
    "    lnpW_tab_df = lnpW_tab_df.iloc[:, :-1]\n",
    "\n",
    "    return lnpW_tab_df\n",
    "\n",
    "#Now call arrays for corresponding xHI values and Muvs being looked at\n",
    "xHI_array = np.array([0.01,0.05, 0.36, 0.66, 0.87])\n",
    "Muv_array = np.array([-18.0,-22.0])\n"
   ]
  },
  {
   "cell_type": "markdown",
   "metadata": {},
   "source": [
    "# Plotting data"
   ]
  },
  {
   "cell_type": "code",
   "execution_count": 31,
   "metadata": {
    "ExecuteTime": {
     "end_time": "2020-12-04T22:35:26.629676Z",
     "start_time": "2020-12-04T22:35:26.160744Z"
    }
   },
   "outputs": [
    {
     "ename": "AttributeError",
     "evalue": "'list' object has no attribute 'ndim'",
     "output_type": "error",
     "traceback": [
      "\u001b[0;31m---------------------------------------------------------------------------\u001b[0m",
      "\u001b[0;31mAttributeError\u001b[0m                            Traceback (most recent call last)",
      "\u001b[0;32m<ipython-input-31-cb46120ca361>\u001b[0m in \u001b[0;36m<module>\u001b[0;34m\u001b[0m\n\u001b[1;32m     43\u001b[0m \u001b[0;34m\u001b[0m\u001b[0m\n\u001b[1;32m     44\u001b[0m \u001b[0mMaxG\u001b[0m \u001b[0;34m=\u001b[0m \u001b[0;34m[\u001b[0m\u001b[0mp0W_DijkstraWyithe\u001b[0m\u001b[0;34m(\u001b[0m\u001b[0mMuv\u001b[0m\u001b[0;34m=\u001b[0m \u001b[0mMuv\u001b[0m\u001b[0;34m,\u001b[0m \u001b[0mW\u001b[0m \u001b[0;34m=\u001b[0m \u001b[0mpW_tab\u001b[0m\u001b[0;34m[\u001b[0m\u001b[0;34m'W'\u001b[0m\u001b[0;34m]\u001b[0m\u001b[0;34m,\u001b[0m \u001b[0mz\u001b[0m\u001b[0;34m=\u001b[0m\u001b[0;36m6.\u001b[0m\u001b[0;34m,\u001b[0m \u001b[0mnorm\u001b[0m\u001b[0;34m=\u001b[0m\u001b[0;32mTrue\u001b[0m\u001b[0;34m)\u001b[0m \u001b[0;32mfor\u001b[0m \u001b[0mMuv\u001b[0m \u001b[0;32min\u001b[0m \u001b[0mLF\u001b[0m\u001b[0;34m.\u001b[0m\u001b[0mMuv_grid\u001b[0m\u001b[0;34m]\u001b[0m\u001b[0;34m\u001b[0m\u001b[0;34m\u001b[0m\u001b[0m\n\u001b[0;32m---> 45\u001b[0;31m \u001b[0mprint\u001b[0m\u001b[0;34m(\u001b[0m\u001b[0mMaxG\u001b[0m\u001b[0;34m.\u001b[0m\u001b[0mndim\u001b[0m\u001b[0;34m)\u001b[0m\u001b[0;34m\u001b[0m\u001b[0;34m\u001b[0m\u001b[0m\n\u001b[0m",
      "\u001b[0;31mAttributeError\u001b[0m: 'list' object has no attribute 'ndim'"
     ]
    }
   ],
   "source": [
    "# Max G EW data\n",
    "\n",
    "def DW_Wc(Muv, z=6.):\n",
    "    # Scale length\n",
    "    Wc0    = 23.\n",
    "    dWdMuv = 7.\n",
    "    dWdz   = 6.\n",
    "    if Muv < -19.:\n",
    "        return Wc0 + dWdMuv * (Muv + 21.9) + dWdz * (z - 4.)\n",
    "    if Muv >= -19.:\n",
    "        return Wc0 + dWdMuv * (-19. + 21.9) + dWdz * (z - 4.)\n",
    "def DW_Wmin(Muv):\n",
    "    # Min W for normalisation\n",
    "    if Muv < -21.5:\n",
    "        wmin = 20.\n",
    "    elif -21.5 <= Muv <= -19.:\n",
    "        wmin = 20. - 6. * (Muv + 21.5) ** 2.\n",
    "    else:\n",
    "        wmin = -17.5\n",
    "    return -wmin\n",
    "def DW_delta(Muv):\n",
    "    # Factor for delta function at W=0 for truncated DW12 PDF\n",
    "    A = 1. - np.exp(DW_Wmin(Muv)/DW_Wc(Muv))\n",
    "    return A\n",
    "def p0W_DijkstraWyithe(Muv, W, z=6., norm=True):\n",
    "    \"\"\"\n",
    "    Intrinsic rest-frame equivalent width distribution\n",
    "    Dijkstra & Wyithe 2012\n",
    "        Defined for -21.5 < Muv < -19\n",
    "    Lots of typos, so use Gronke+2015 to get params\n",
    "    \"\"\"\n",
    "    dW   = np.median(np.gradient(W))\n",
    "    Wmax = 1000.\n",
    "    # Normalization\n",
    "    a = - DW_Wmin(Muv)\n",
    "    N = np.exp(-a / DW_Wc(Muv, z)) / DW_Wc(Muv, z)\n",
    "    pW   = N * np.exp(-W / DW_Wc(Muv, z))\n",
    "    pW[W < -a]   = 0.\n",
    "    pW[W > Wmax] = 0.\n",
    "    if norm:\n",
    "        pW = pW / np.trapz(pW, W)\n",
    "    return pW\n",
    "\n",
    "MaxG = [p0W_DijkstraWyithe(Muv= Muv, W = pW_tab['W'], z=6., norm=True) for Muv in LF.Muv_grid]\n"
   ]
  },
  {
   "cell_type": "code",
   "execution_count": 29,
   "metadata": {
    "ExecuteTime": {
     "end_time": "2020-12-04T22:35:00.163380Z",
     "start_time": "2020-12-04T22:34:59.613921Z"
    },
    "scrolled": false
   },
   "outputs": [
    {
     "ename": "ValueError",
     "evalue": "x and y must have same first dimension, but have shapes (120, 10000) and (10000,)",
     "output_type": "error",
     "traceback": [
      "\u001b[0;31m---------------------------------------------------------------------------\u001b[0m",
      "\u001b[0;31mValueError\u001b[0m                                Traceback (most recent call last)",
      "\u001b[0;32m<ipython-input-29-688c20079831>\u001b[0m in \u001b[0;36m<module>\u001b[0;34m\u001b[0m\n\u001b[1;32m     23\u001b[0m \u001b[0;31m#             MaxG = p0W_DijkstraWyithe(Muv= pW_tab[f'{Muv}'], W = pW_tab['W'], z=6., norm=True)\u001b[0m\u001b[0;34m\u001b[0m\u001b[0;34m\u001b[0m\u001b[0;34m\u001b[0m\u001b[0m\n\u001b[1;32m     24\u001b[0m             \u001b[0mplt\u001b[0m\u001b[0;34m.\u001b[0m\u001b[0mplot\u001b[0m\u001b[0;34m(\u001b[0m\u001b[0mpW_tab\u001b[0m\u001b[0;34m[\u001b[0m\u001b[0;34m'W'\u001b[0m\u001b[0;34m]\u001b[0m\u001b[0;34m,\u001b[0m \u001b[0mpW_tab\u001b[0m\u001b[0;34m[\u001b[0m\u001b[0;34mf'{Muv}'\u001b[0m\u001b[0;34m]\u001b[0m\u001b[0;34m,\u001b[0m \u001b[0mls\u001b[0m\u001b[0;34m=\u001b[0m\u001b[0mls\u001b[0m\u001b[0;34m,\u001b[0m \u001b[0mcolor\u001b[0m\u001b[0;34m=\u001b[0m\u001b[0mmy_color\u001b[0m\u001b[0;34m,\u001b[0m \u001b[0mlw\u001b[0m\u001b[0;34m=\u001b[0m\u001b[0;36m2\u001b[0m\u001b[0;34m,\u001b[0m \u001b[0mlabel\u001b[0m\u001b[0;34m=\u001b[0m\u001b[0mlabel\u001b[0m\u001b[0;34m)\u001b[0m\u001b[0;34m\u001b[0m\u001b[0;34m\u001b[0m\u001b[0m\n\u001b[0;32m---> 25\u001b[0;31m             \u001b[0mplt\u001b[0m\u001b[0;34m.\u001b[0m\u001b[0mplot\u001b[0m\u001b[0;34m(\u001b[0m\u001b[0mMaxG\u001b[0m\u001b[0;34m,\u001b[0m\u001b[0mpW_tab\u001b[0m\u001b[0;34m[\u001b[0m\u001b[0;34mf'{Muv}'\u001b[0m\u001b[0;34m]\u001b[0m\u001b[0;34m)\u001b[0m\u001b[0;34m\u001b[0m\u001b[0;34m\u001b[0m\u001b[0m\n\u001b[0m\u001b[1;32m     26\u001b[0m \u001b[0;31m#Legends\u001b[0m\u001b[0;34m\u001b[0m\u001b[0;34m\u001b[0m\u001b[0;34m\u001b[0m\u001b[0m\n\u001b[1;32m     27\u001b[0m \u001b[0mleg_xHI\u001b[0m \u001b[0;34m=\u001b[0m \u001b[0mplt\u001b[0m\u001b[0;34m.\u001b[0m\u001b[0mlegend\u001b[0m\u001b[0;34m(\u001b[0m\u001b[0mframeon\u001b[0m\u001b[0;34m=\u001b[0m\u001b[0;32mFalse\u001b[0m\u001b[0;34m,\u001b[0m \u001b[0mhandletextpad\u001b[0m\u001b[0;34m=\u001b[0m\u001b[0;36m0.5\u001b[0m\u001b[0;34m)\u001b[0m\u001b[0;34m\u001b[0m\u001b[0;34m\u001b[0m\u001b[0m\n",
      "\u001b[0;32m/Applications/anaconda3/lib/python3.7/site-packages/matplotlib/pyplot.py\u001b[0m in \u001b[0;36mplot\u001b[0;34m(scalex, scaley, data, *args, **kwargs)\u001b[0m\n\u001b[1;32m   2794\u001b[0m     return gca().plot(\n\u001b[1;32m   2795\u001b[0m         *args, scalex=scalex, scaley=scaley, **({\"data\": data} if data\n\u001b[0;32m-> 2796\u001b[0;31m         is not None else {}), **kwargs)\n\u001b[0m\u001b[1;32m   2797\u001b[0m \u001b[0;34m\u001b[0m\u001b[0m\n\u001b[1;32m   2798\u001b[0m \u001b[0;34m\u001b[0m\u001b[0m\n",
      "\u001b[0;32m/Applications/anaconda3/lib/python3.7/site-packages/matplotlib/axes/_axes.py\u001b[0m in \u001b[0;36mplot\u001b[0;34m(self, scalex, scaley, data, *args, **kwargs)\u001b[0m\n\u001b[1;32m   1663\u001b[0m         \"\"\"\n\u001b[1;32m   1664\u001b[0m         \u001b[0mkwargs\u001b[0m \u001b[0;34m=\u001b[0m \u001b[0mcbook\u001b[0m\u001b[0;34m.\u001b[0m\u001b[0mnormalize_kwargs\u001b[0m\u001b[0;34m(\u001b[0m\u001b[0mkwargs\u001b[0m\u001b[0;34m,\u001b[0m \u001b[0mmlines\u001b[0m\u001b[0;34m.\u001b[0m\u001b[0mLine2D\u001b[0m\u001b[0;34m.\u001b[0m\u001b[0m_alias_map\u001b[0m\u001b[0;34m)\u001b[0m\u001b[0;34m\u001b[0m\u001b[0;34m\u001b[0m\u001b[0m\n\u001b[0;32m-> 1665\u001b[0;31m         \u001b[0mlines\u001b[0m \u001b[0;34m=\u001b[0m \u001b[0;34m[\u001b[0m\u001b[0;34m*\u001b[0m\u001b[0mself\u001b[0m\u001b[0;34m.\u001b[0m\u001b[0m_get_lines\u001b[0m\u001b[0;34m(\u001b[0m\u001b[0;34m*\u001b[0m\u001b[0margs\u001b[0m\u001b[0;34m,\u001b[0m \u001b[0mdata\u001b[0m\u001b[0;34m=\u001b[0m\u001b[0mdata\u001b[0m\u001b[0;34m,\u001b[0m \u001b[0;34m**\u001b[0m\u001b[0mkwargs\u001b[0m\u001b[0;34m)\u001b[0m\u001b[0;34m]\u001b[0m\u001b[0;34m\u001b[0m\u001b[0;34m\u001b[0m\u001b[0m\n\u001b[0m\u001b[1;32m   1666\u001b[0m         \u001b[0;32mfor\u001b[0m \u001b[0mline\u001b[0m \u001b[0;32min\u001b[0m \u001b[0mlines\u001b[0m\u001b[0;34m:\u001b[0m\u001b[0;34m\u001b[0m\u001b[0;34m\u001b[0m\u001b[0m\n\u001b[1;32m   1667\u001b[0m             \u001b[0mself\u001b[0m\u001b[0;34m.\u001b[0m\u001b[0madd_line\u001b[0m\u001b[0;34m(\u001b[0m\u001b[0mline\u001b[0m\u001b[0;34m)\u001b[0m\u001b[0;34m\u001b[0m\u001b[0;34m\u001b[0m\u001b[0m\n",
      "\u001b[0;32m/Applications/anaconda3/lib/python3.7/site-packages/matplotlib/axes/_base.py\u001b[0m in \u001b[0;36m__call__\u001b[0;34m(self, *args, **kwargs)\u001b[0m\n\u001b[1;32m    223\u001b[0m                 \u001b[0mthis\u001b[0m \u001b[0;34m+=\u001b[0m \u001b[0margs\u001b[0m\u001b[0;34m[\u001b[0m\u001b[0;36m0\u001b[0m\u001b[0;34m]\u001b[0m\u001b[0;34m,\u001b[0m\u001b[0;34m\u001b[0m\u001b[0;34m\u001b[0m\u001b[0m\n\u001b[1;32m    224\u001b[0m                 \u001b[0margs\u001b[0m \u001b[0;34m=\u001b[0m \u001b[0margs\u001b[0m\u001b[0;34m[\u001b[0m\u001b[0;36m1\u001b[0m\u001b[0;34m:\u001b[0m\u001b[0;34m]\u001b[0m\u001b[0;34m\u001b[0m\u001b[0;34m\u001b[0m\u001b[0m\n\u001b[0;32m--> 225\u001b[0;31m             \u001b[0;32myield\u001b[0m \u001b[0;32mfrom\u001b[0m \u001b[0mself\u001b[0m\u001b[0;34m.\u001b[0m\u001b[0m_plot_args\u001b[0m\u001b[0;34m(\u001b[0m\u001b[0mthis\u001b[0m\u001b[0;34m,\u001b[0m \u001b[0mkwargs\u001b[0m\u001b[0;34m)\u001b[0m\u001b[0;34m\u001b[0m\u001b[0;34m\u001b[0m\u001b[0m\n\u001b[0m\u001b[1;32m    226\u001b[0m \u001b[0;34m\u001b[0m\u001b[0m\n\u001b[1;32m    227\u001b[0m     \u001b[0;32mdef\u001b[0m \u001b[0mget_next_color\u001b[0m\u001b[0;34m(\u001b[0m\u001b[0mself\u001b[0m\u001b[0;34m)\u001b[0m\u001b[0;34m:\u001b[0m\u001b[0;34m\u001b[0m\u001b[0;34m\u001b[0m\u001b[0m\n",
      "\u001b[0;32m/Applications/anaconda3/lib/python3.7/site-packages/matplotlib/axes/_base.py\u001b[0m in \u001b[0;36m_plot_args\u001b[0;34m(self, tup, kwargs)\u001b[0m\n\u001b[1;32m    389\u001b[0m             \u001b[0mx\u001b[0m\u001b[0;34m,\u001b[0m \u001b[0my\u001b[0m \u001b[0;34m=\u001b[0m \u001b[0mindex_of\u001b[0m\u001b[0;34m(\u001b[0m\u001b[0mtup\u001b[0m\u001b[0;34m[\u001b[0m\u001b[0;34m-\u001b[0m\u001b[0;36m1\u001b[0m\u001b[0;34m]\u001b[0m\u001b[0;34m)\u001b[0m\u001b[0;34m\u001b[0m\u001b[0;34m\u001b[0m\u001b[0m\n\u001b[1;32m    390\u001b[0m \u001b[0;34m\u001b[0m\u001b[0m\n\u001b[0;32m--> 391\u001b[0;31m         \u001b[0mx\u001b[0m\u001b[0;34m,\u001b[0m \u001b[0my\u001b[0m \u001b[0;34m=\u001b[0m \u001b[0mself\u001b[0m\u001b[0;34m.\u001b[0m\u001b[0m_xy_from_xy\u001b[0m\u001b[0;34m(\u001b[0m\u001b[0mx\u001b[0m\u001b[0;34m,\u001b[0m \u001b[0my\u001b[0m\u001b[0;34m)\u001b[0m\u001b[0;34m\u001b[0m\u001b[0;34m\u001b[0m\u001b[0m\n\u001b[0m\u001b[1;32m    392\u001b[0m \u001b[0;34m\u001b[0m\u001b[0m\n\u001b[1;32m    393\u001b[0m         \u001b[0;32mif\u001b[0m \u001b[0mself\u001b[0m\u001b[0;34m.\u001b[0m\u001b[0mcommand\u001b[0m \u001b[0;34m==\u001b[0m \u001b[0;34m'plot'\u001b[0m\u001b[0;34m:\u001b[0m\u001b[0;34m\u001b[0m\u001b[0;34m\u001b[0m\u001b[0m\n",
      "\u001b[0;32m/Applications/anaconda3/lib/python3.7/site-packages/matplotlib/axes/_base.py\u001b[0m in \u001b[0;36m_xy_from_xy\u001b[0;34m(self, x, y)\u001b[0m\n\u001b[1;32m    268\u001b[0m         \u001b[0;32mif\u001b[0m \u001b[0mx\u001b[0m\u001b[0;34m.\u001b[0m\u001b[0mshape\u001b[0m\u001b[0;34m[\u001b[0m\u001b[0;36m0\u001b[0m\u001b[0;34m]\u001b[0m \u001b[0;34m!=\u001b[0m \u001b[0my\u001b[0m\u001b[0;34m.\u001b[0m\u001b[0mshape\u001b[0m\u001b[0;34m[\u001b[0m\u001b[0;36m0\u001b[0m\u001b[0;34m]\u001b[0m\u001b[0;34m:\u001b[0m\u001b[0;34m\u001b[0m\u001b[0;34m\u001b[0m\u001b[0m\n\u001b[1;32m    269\u001b[0m             raise ValueError(\"x and y must have same first dimension, but \"\n\u001b[0;32m--> 270\u001b[0;31m                              \"have shapes {} and {}\".format(x.shape, y.shape))\n\u001b[0m\u001b[1;32m    271\u001b[0m         \u001b[0;32mif\u001b[0m \u001b[0mx\u001b[0m\u001b[0;34m.\u001b[0m\u001b[0mndim\u001b[0m \u001b[0;34m>\u001b[0m \u001b[0;36m2\u001b[0m \u001b[0;32mor\u001b[0m \u001b[0my\u001b[0m\u001b[0;34m.\u001b[0m\u001b[0mndim\u001b[0m \u001b[0;34m>\u001b[0m \u001b[0;36m2\u001b[0m\u001b[0;34m:\u001b[0m\u001b[0;34m\u001b[0m\u001b[0;34m\u001b[0m\u001b[0m\n\u001b[1;32m    272\u001b[0m             raise ValueError(\"x and y can be no greater than 2-D, but have \"\n",
      "\u001b[0;31mValueError\u001b[0m: x and y must have same first dimension, but have shapes (120, 10000) and (10000,)"
     ]
    },
    {
     "data": {
      "image/png": "[encoded data removed]",
      "text/plain": [
       "<Figure size 750x750 with 1 Axes>"
      ]
     },
     "metadata": {},
     "output_type": "display_data"
    }
   ],
   "source": [
    "# Plot\n",
    "plt.figure(figsize=(5,5), dpi=150.)\n",
    "\n",
    "#For loop, regarding xHI and Muv\n",
    "for xx,xHI in enumerate (xHI_tab): #for each index and corresponding xHI value in list of xHI, call specific data file\n",
    "    if xHI in xHI_array:\n",
    "        pW_tab = load_pW_pandas(pW_files[xx]) #when all files are called, if the value run is within the array, then call that data file\n",
    "        \n",
    "        #Colors being used for plotting data, this statement is used bc otherwise, xHI=0.01 and 0.05 would be plotted with the same color\n",
    "        if xHI==0.01:\n",
    "                my_color = 'black'\n",
    "        else:\n",
    "                my_color = seqcols[int(xx/10)][-3]\n",
    "                \n",
    "        #Within if statement, this is for identifying xHI legend (values and corresponding colors)\n",
    "        for mm,Muv in enumerate (Muv_array):\n",
    "            if mm == 0: #first item in Muv_array, i.e. -18.0 (will show xHI values and corresponding colors as solid)\n",
    "                label = r'$\\overline{x}_\\mathrm{HI} = %.2f$' % xHI\n",
    "                ls = 'solid'\n",
    "            else: #second item in Muv_array, i.e. -22.0 (will not show on xHI legend)\n",
    "                label = None\n",
    "                ls = 'dashed'\n",
    "#             MaxG = p0W_DijkstraWyithe(Muv= pW_tab[f'{Muv}'], W = pW_tab['W'], z=6., norm=True)\n",
    "            plt.plot(pW_tab['W'], pW_tab[f'{Muv}'], ls=ls, color=my_color, lw=2, label=label)\n",
    "            plt.plot(MaxG,pW_tab[f'{Muv}'])          \n",
    "#Legends      \n",
    "leg_xHI = plt.legend(frameon=False, handletextpad=0.5)\n",
    "plt.gca().add_artist(leg_xHI)\n",
    "\n",
    "#This is the legend for Muv values, -18.0 is solid, -22.0 is dashed\n",
    "line1 = mlines.Line2D([], [], color='k', label=r'$M_\\mathrm{UV} = %.1f$' % Muv_array[0])\n",
    "line2 = mlines.Line2D([], [], color='k', ls='dashed', label=r'$M_\\mathrm{UV} = %.1f$' % Muv_array[1])\n",
    "plt.legend(handles=[line1, line2], loc='lower left', frameon=False, handletextpad=0.5, handlelength=1.5)\n",
    "\n",
    "plt.xlim(-10.,150.)\n",
    "plt.ylim(-20.,0.)\n",
    "\n",
    "plt.xlabel('$W$ [$\\mathrm{\\AA}$]')\n",
    "plt.ylabel(r'$\\ln{ p(W \\;|\\; \\overline{x}_\\mathrm{HI}, M_\\mathrm{UV})}$')\n",
    "plt.title(r'Ly-$\\alpha$ EW Probability Distribution')\n",
    "plt.tight_layout()\n",
    "\n",
    "# save the figure\n",
    "# plt.savefig('LyaEWPD2.pdf', dpi=300, bbox_inches='tight')\n",
    "\n",
    "# plt.show()\n"
   ]
  },
  {
   "cell_type": "code",
   "execution_count": 6,
   "metadata": {
    "ExecuteTime": {
     "end_time": "2020-07-17T16:39:37.862807Z",
     "start_time": "2020-07-17T16:39:37.855664Z"
    }
   },
   "outputs": [
    {
     "ename": "SyntaxError",
     "evalue": "keyword can't be an expression (<ipython-input-6-f98f13c39af3>, line 1)",
     "output_type": "error",
     "traceback": [
      "\u001b[0;36m  File \u001b[0;32m\"<ipython-input-6-f98f13c39af3>\"\u001b[0;36m, line \u001b[0;32m1\u001b[0m\n\u001b[0;31m    print(pW_tab['W']=200)\u001b[0m\n\u001b[0m         ^\u001b[0m\n\u001b[0;31mSyntaxError\u001b[0m\u001b[0;31m:\u001b[0m keyword can't be an expression\n"
     ]
    }
   ],
   "source": []
  },
  {
   "cell_type": "code",
   "execution_count": null,
   "metadata": {},
   "outputs": [],
   "source": []
  }
 ],
 "metadata": {
  "kernelspec": {
   "display_name": "Python 3",
   "language": "python",
   "name": "python3"
  },
  "language_info": {
   "codemirror_mode": {
    "name": "ipython",
    "version": 3
   },
   "file_extension": ".py",
   "mimetype": "text/x-python",
   "name": "python",
   "nbconvert_exporter": "python",
   "pygments_lexer": "ipython3",
   "version": "3.7.6"
  },
  "toc": {
   "base_numbering": 1,
   "nav_menu": {},
   "number_sections": true,
   "sideBar": true,
   "skip_h1_title": false,
   "title_cell": "Table of Contents",
   "title_sidebar": "Contents",
   "toc_cell": false,
   "toc_position": {},
   "toc_section_display": true,
   "toc_window_display": false
  }
 },
 "nbformat": 4,
 "nbformat_minor": 2
}
