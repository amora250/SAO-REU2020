{
 "cells": [
  {
   "cell_type": "code",
   "execution_count": 3,
   "metadata": {
    "ExecuteTime": {
     "end_time": "2020-11-03T16:39:21.973860Z",
     "start_time": "2020-11-03T16:39:21.887132Z"
    }
   },
   "outputs": [],
   "source": [
    "import numpy as np\n",
    "import matplotlib.pyplot as plt\n",
    "import matplotlib.lines as mlines\n",
    "import run_LF as LF\n",
    "\n",
    "%matplotlib inline\n",
    "plt.style.use(['seaborn-poster','seaborn-ticks'])"
   ]
  },
  {
   "cell_type": "code",
   "execution_count": 2,
   "metadata": {
    "ExecuteTime": {
     "end_time": "2020-11-03T16:39:21.859887Z",
     "start_time": "2020-11-03T16:39:21.808822Z"
    }
   },
   "outputs": [],
   "source": [
    "%reload_ext autoreload\n",
    "%autoreload 2"
   ]
  },
  {
   "cell_type": "markdown",
   "metadata": {},
   "source": [
    "# Defining observational variables from Konno, Ouchi data"
   ]
  },
  {
   "cell_type": "code",
   "execution_count": 3,
   "metadata": {
    "ExecuteTime": {
     "end_time": "2020-10-26T19:17:37.328384Z",
     "start_time": "2020-10-26T19:17:37.198231Z"
    }
   },
   "outputs": [],
   "source": [
    "Ouchi_info6 = LF.ouchi_data_plt(zval_test = 6.6, plot = False, mean = False)\n",
    "Konno_info6 = LF.konno_data_plt(zval_test = 6.6, plot = False, mean = False)\n",
    "Konno_info7 = LF.konno_data_plt(zval_test = 7.3, plot = False, mean = False)\n",
    "Shibuya_info7 = LF.shibuya_data_plt(zval_test = 7.3, plot = False, mean = False)\n",
    "Zheng_info70 = LF.zheng_data_plt(zval_test = 7.0, plot = False, mean = False)\n",
    "Ota_info70 = LF.ota_data_plt(zval_test = 7.0, plot = False, mean = False)\n",
    "Itoh_info70 = LF.itoh_data_plt(zval_test = 7.0, plot = False, mean = False)\n",
    "Hu_info70 = LF.hu_data_plt(zval_test = 7.0, plot = False, mean = False)"
   ]
  },
  {
   "cell_type": "code",
   "execution_count": 4,
   "metadata": {
    "ExecuteTime": {
     "end_time": "2020-10-26T19:17:38.168702Z",
     "start_time": "2020-10-26T19:17:38.117564Z"
    }
   },
   "outputs": [],
   "source": [
    "# z = 6.6\n",
    "log_L6 = np.concatenate((Ouchi_info6[0], Konno_info6[0]), axis=None)\n",
    "ndens6 = np.concatenate((Ouchi_info6[1], Konno_info6[1]), axis=None)\n",
    "yerror_l6 = np.concatenate((Ouchi_info6[2][0], Konno_info6[2][0]), axis=None)\n",
    "yerror_u6 = np.concatenate((Ouchi_info6[2][1], Konno_info6[2][1]), axis=None)\n"
   ]
  },
  {
   "cell_type": "code",
   "execution_count": 5,
   "metadata": {
    "ExecuteTime": {
     "end_time": "2020-10-26T19:17:45.177061Z",
     "start_time": "2020-10-26T19:17:45.130252Z"
    }
   },
   "outputs": [],
   "source": [
    "# z = 7.0\n",
    "# log_L70 = Itoh_info70[0]\n",
    "# ndens70 = Itoh_info70[1]\n",
    "# yerror_l70 = Itoh_info70[2][0]\n",
    "# yerror_u70 = Itoh_info70[2][1]\n",
    "\n",
    "# log_L70 = Ota_info70[0]\n",
    "# ndens70 = Ota_info70[1]\n",
    "# yerror_l70 = Ota_info70[2][0]\n",
    "# yerror_u70 = Ota_info70[2][1]\n",
    "\n",
    "# log_L70 = Zheng_info70[0]\n",
    "# ndens70 = Zheng_info70[1]\n",
    "# yerror_u70 = Zheng_info70[2][1]\n",
    "# yerror_l70 = Zheng_info70[2][0]\n",
    "\n",
    "# log_L70 = Hu_info70[0]\n",
    "# ndens70 = Hu_info70[1]\n",
    "# yerror_u70 = Hu_info70[2][1]\n",
    "# yerror_l70 = Hu_info70[2][0]"
   ]
  },
  {
   "cell_type": "code",
   "execution_count": 6,
   "metadata": {
    "ExecuteTime": {
     "end_time": "2020-10-26T19:17:47.276807Z",
     "start_time": "2020-10-26T19:17:47.217524Z"
    }
   },
   "outputs": [],
   "source": [
    "# z = 7.0\n",
    "# log_L70 = np.concatenate(( Ota_info70[0], Itoh_info70[0],Zheng_info70[0]), axis=None)\n",
    "# ndens70 = np.concatenate((Ota_info70[1], Itoh_info70[1],Zheng_info70[1]), axis=None)\n",
    "# yerror_l70 = np.concatenate((Ota_info70[2][0], Itoh_info70[2][0],Zheng_info70[2][0]), axis=None)\n",
    "# yerror_u70 = np.concatenate(( Ota_info70[2][1], Itoh_info70[2][1],Zheng_info70[2][1]), axis=None)\n",
    "\n",
    "log_L70 = np.concatenate(( Ota_info70[0], Itoh_info70[0],Hu_info70[0]), axis=None)\n",
    "ndens70 = np.concatenate((Ota_info70[1], Itoh_info70[1],Hu_info70[1]), axis=None)\n",
    "yerror_l70 = np.concatenate((Ota_info70[2][0], Itoh_info70[2][0],Hu_info70[2][0]), axis=None)\n",
    "yerror_u70 = np.concatenate(( Ota_info70[2][1], Itoh_info70[2][1],Hu_info70[2][1]), axis=None)"
   ]
  },
  {
   "cell_type": "code",
   "execution_count": 7,
   "metadata": {
    "ExecuteTime": {
     "end_time": "2020-10-26T19:17:47.880126Z",
     "start_time": "2020-10-26T19:17:47.834024Z"
    }
   },
   "outputs": [],
   "source": [
    "# z = 7.3\n",
    "log_L7 = Konno_info7[0]\n",
    "ndens7 = Konno_info7[1]\n",
    "yerror_l7 = Konno_info7[2][0]\n",
    "yerror_u7 = Konno_info7[2][1]\n",
    "# log_L7 = np.concatenate((Shibuya_info7[0], Konno_info7[0]), axis=None)\n",
    "# ndens7 = np.concatenate((Shibuya_info7[1], Konno_info7[1]), axis=None)\n",
    "# yerror_l7 = np.concatenate((Shibuya_info7[2][0], Konno_info7[2][0]), axis=None)\n",
    "# yerror_u7 = np.concatenate((Shibuya_info7[2][1], Konno_info7[2][1]), axis=None)"
   ]
  },
  {
   "cell_type": "markdown",
   "metadata": {},
   "source": [
    "# Establishing prior, likelihood, & posterior"
   ]
  },
  {
   "cell_type": "code",
   "execution_count": 4,
   "metadata": {
    "ExecuteTime": {
     "end_time": "2020-11-03T16:39:26.249354Z",
     "start_time": "2020-11-03T16:39:25.803873Z"
    }
   },
   "outputs": [
    {
     "name": "stderr",
     "output_type": "stream",
     "text": [
      "/Users/cmason/opt/anaconda3/envs/astroconda/lib/python3.6/site-packages/ipykernel_launcher.py:27: RuntimeWarning: divide by zero encountered in log\n"
     ]
    },
    {
     "data": {
      "text/plain": [
       "<matplotlib.collections.PathCollection at 0x1a1d8e2898>"
      ]
     },
     "execution_count": 4,
     "metadata": {},
     "output_type": "execute_result"
    },
    {
     "data": {
      "image/png": "[encoded data removed]",
      "text/plain": [
       "<Figure size 921.6x633.6 with 1 Axes>"
      ]
     },
     "metadata": {},
     "output_type": "display_data"
    }
   ],
   "source": [
    "xHI_min = 0.\n",
    "xHI_max = 0.95\n",
    "\n",
    "# xHI_grid = np.linspace(-0.1,1.1)\n",
    "xHI_grid = np.arange(-0.1, 1.1, 0.01)\n",
    "def log_prior(theta):\n",
    "    \"\"\"\n",
    "    Returns log(prior) for a given parameter vector\n",
    "    \n",
    "    Parameters\n",
    "    ----------\n",
    "    theta: list, array-like\n",
    "        List of parameters in the form [slope, intercept]\n",
    "    \n",
    "    Returns\n",
    "    -------\n",
    "    ln_prior: float\n",
    "        Natural log of the prior probability function\n",
    "    \"\"\"\n",
    "    xHI = theta\n",
    "    prob_xHI = np.zeros(len(xHI))\n",
    "    \n",
    "    \n",
    "    prob_xHI[(xHI_min <= xHI) & (xHI <= xHI_max)] = 1. # Log prior (not worrying about normalization)\n",
    "\n",
    "\n",
    "    ln_prior = np.log(prob_xHI)  # Log of the probability\n",
    "    return ln_prior\n",
    "# plt.scatter(xHI_grid, [np.exp(log_prior(xHI)) for xHI in xHI_grid])\n",
    "plt.scatter(xHI_grid, np.exp(log_prior(xHI_grid)))"
   ]
  },
  {
   "cell_type": "code",
   "execution_count": 197,
   "metadata": {
    "ExecuteTime": {
     "end_time": "2020-11-03T19:25:41.103035Z",
     "start_time": "2020-11-03T19:25:41.031491Z"
    }
   },
   "outputs": [],
   "source": [
    "def log_likelihood(theta, x, y, dy_l, dy_u, z, model_err=0.1, log=False):\n",
    "    \"\"\"\n",
    "    Returns log(likelihood) for a given parameter vector\n",
    "    \n",
    "    Parameters\n",
    "    ----------\n",
    "    theta: list, array-like\n",
    "        List of parameters in the form [slope, intercept]\n",
    "    x: list, array-like\n",
    "        x-values of your data\n",
    "    y: list, array-like\n",
    "        y-values of your data\n",
    "    dy: list, array-like\n",
    "        Uncertainties on the y-values of your data\n",
    "    \n",
    "    Returns\n",
    "    -------\n",
    "    ln_like: float\n",
    "        Natural log of the likelihood function\n",
    "    \"\"\"\n",
    "    xHI_mod = theta\n",
    "\n",
    "    #Zheng upperlim indexing\n",
    "    idx_ul = np.where(dy_l == 0.)[0]\n",
    "    \n",
    "    #Nearest neighbor to xHI list\n",
    "    idx = (np.abs(LF.xHI_list - xHI_mod)).argmin()\n",
    "    xHI_grid_match = LF.xHI_list[idx]\n",
    "\n",
    "    # Model LF\n",
    "    y_model = LF.xHI_model(xHI_grid_match, obs_L = x, zval= z)\n",
    "    \n",
    "    # Uncertainty in model LF = 0.1*model\n",
    "    sigma_Lya_LF = model_err*y_model\n",
    "    \n",
    "    if log:\n",
    "        # Convert linear observations to log\n",
    "        y_log    = np.log10(y)\n",
    "        dy_l_log = y_log - np.log10(y-dy_l)\n",
    "        dy_u_log = np.log10(y+dy_u) - y_log\n",
    "\n",
    "        y_model_log = np.log10(y_model)\n",
    "        \n",
    "        # Model uncertainty now asymmetric\n",
    "        sigma_Lya_LF_l_log = y_model_log - np.log10(y_model-sigma_Lya_LF)\n",
    "        sigma_Lya_LF_u_log = np.log10(y_model+sigma_Lya_LF) - y_model_log\n",
    "        \n",
    "        # Error bars\n",
    "        dy_l_total_log = np.sqrt(dy_l_log**2. + sigma_Lya_LF_l_log**2.)\n",
    "        dy_u_total_log = np.sqrt(dy_u_log**2. + sigma_Lya_LF_u_log**2.)\n",
    "\n",
    "        A = 1./np.sqrt(2.*np.pi)/(0.5*(dy_l_total_log + dy_u_total_log))\n",
    "\n",
    "        #Defining split-likelihood\n",
    "        lnlikelihood   = np.log(A) - 0.5 * ((y_model_log - y_log)/dy_l_total_log)**2. # lower\n",
    "        lnlikelihood_u = np.log(A) - 0.5 * ((y_model_log - y_log)/dy_u_total_log)**2. # upper\n",
    "        lnlikelihood[y_model >= y] = lnlikelihood_u[y_model >= y]\n",
    "    \n",
    "    else:\n",
    "        # Error bars\n",
    "        dy_l_total = np.sqrt(dy_l**2. + sigma_Lya_LF**2.)\n",
    "        dy_u_total = np.sqrt(dy_u**2. + sigma_Lya_LF**2.)\n",
    "\n",
    "        A = 1./np.sqrt(2.*np.pi)/(0.5*(dy_l_total + dy_u_total))\n",
    "\n",
    "        #Defining split-likelihood\n",
    "        lnlikelihood   = np.log(A) - 0.5 * ((y_model - y)/dy_l_total)**2. # lower\n",
    "        lnlikelihood_u = np.log(A) - 0.5 * ((y_model - y)/dy_u_total)**2. # upper\n",
    "        lnlikelihood[y_model >= y] = lnlikelihood_u[y_model >= y]\n",
    "\n",
    "        # if upper limit exists, replace with this likelihood\n",
    "        if len(idx_ul) >= 1:\n",
    "            print('Treating upper limit')\n",
    "            if y_model[idx_ul] <= y[idx_ul]:\n",
    "\n",
    "                lnlikelihood[idx_ul] = np.log(1.)\n",
    "\n",
    "            elif y_model[idx_ul] > y[idx_ul]:\n",
    "\n",
    "                lnlikelihood[idx_ul] = -(y_model[idx_ul] - y[idx_ul])**2/(2*dy_u[idx_ul]**2)\n",
    "\n",
    "    ln_like = np.sum(lnlikelihood)\n",
    "    \n",
    "    return ln_like"
   ]
  },
  {
   "cell_type": "code",
   "execution_count": 49,
   "metadata": {
    "ExecuteTime": {
     "end_time": "2020-10-29T02:52:13.657505Z",
     "start_time": "2020-10-29T02:52:13.626631Z"
    },
    "scrolled": true
   },
   "outputs": [],
   "source": [
    "# likelihood = np.array([log_likelihood(theta = t, x = log_L70, y = ndens70, dy_l = yerror_l70, dy_u = yerror_u70, z = 7.0) for t in xHI_grid])\n"
   ]
  },
  {
   "cell_type": "code",
   "execution_count": 88,
   "metadata": {
    "ExecuteTime": {
     "end_time": "2020-11-03T18:00:09.129242Z",
     "start_time": "2020-11-03T18:00:09.089378Z"
    }
   },
   "outputs": [],
   "source": [
    "def log_posterior(theta, x, y, dy_l, dy_u, z, log=False):\n",
    "    \"\"\"\n",
    "    Returns log(posterior) for a given parameter vector\n",
    "    \n",
    "    Parameters\n",
    "    ----------\n",
    "    theta: list, array-like\n",
    "        List of parameters in the form [slope, intercept]\n",
    "    x: list, array-like\n",
    "        x-values of your data\n",
    "    y: list, array-like\n",
    "        y-values of your data\n",
    "    dy: list, array-like\n",
    "        Uncertainties on the y-values of your data\n",
    "    \n",
    "    Returns\n",
    "    -------\n",
    "    ln_post: float\n",
    "        Natural log of the posterior probability function\n",
    "    \"\"\"\n",
    "\n",
    "    ln_post = log_prior(theta) + np.array([log_likelihood(t, x, y, dy_l, dy_u, z, log=log) for t in theta])  # From Bayes Theorem\n",
    "    return ln_post"
   ]
  },
  {
   "cell_type": "code",
   "execution_count": 51,
   "metadata": {
    "ExecuteTime": {
     "end_time": "2020-10-29T02:52:48.804269Z",
     "start_time": "2020-10-29T02:52:14.287806Z"
    },
    "scrolled": true
   },
   "outputs": [
    {
     "name": "stderr",
     "output_type": "stream",
     "text": [
      "/Applications/anaconda3/lib/python3.7/site-packages/ipykernel_launcher.py:27: RuntimeWarning: divide by zero encountered in log\n"
     ]
    }
   ],
   "source": [
    "# z = 6.6\n",
    "log_post66 = log_posterior(theta = xHI_grid, x = log_L6, y = ndens6, dy_l = yerror_l6, dy_u = yerror_u6, z = 6.6)"
   ]
  },
  {
   "cell_type": "code",
   "execution_count": 52,
   "metadata": {
    "ExecuteTime": {
     "end_time": "2020-10-29T02:53:18.394761Z",
     "start_time": "2020-10-29T02:52:48.807217Z"
    }
   },
   "outputs": [
    {
     "name": "stderr",
     "output_type": "stream",
     "text": [
      "/Applications/anaconda3/lib/python3.7/site-packages/ipykernel_launcher.py:27: RuntimeWarning: divide by zero encountered in log\n"
     ]
    }
   ],
   "source": [
    "# z = 7.0\n",
    "log_post70 = log_posterior(theta = xHI_grid, x = log_L70, y = ndens70, dy_l = yerror_l70, dy_u = yerror_u70, z = 7.0)\n"
   ]
  },
  {
   "cell_type": "code",
   "execution_count": 53,
   "metadata": {
    "ExecuteTime": {
     "end_time": "2020-10-29T02:53:46.361905Z",
     "start_time": "2020-10-29T02:53:18.397805Z"
    },
    "scrolled": true
   },
   "outputs": [
    {
     "name": "stderr",
     "output_type": "stream",
     "text": [
      "/Applications/anaconda3/lib/python3.7/site-packages/ipykernel_launcher.py:27: RuntimeWarning: divide by zero encountered in log\n"
     ]
    }
   ],
   "source": [
    "# z = 7.3\n",
    "log_post73 = log_posterior(theta = xHI_grid, x = log_L7, y = ndens7, dy_l = yerror_l7, dy_u = yerror_u7, z = 7.3)"
   ]
  },
  {
   "cell_type": "markdown",
   "metadata": {},
   "source": [
    "# Defining function to find xHI for given redshift posterior"
   ]
  },
  {
   "cell_type": "code",
   "execution_count": 87,
   "metadata": {
    "ExecuteTime": {
     "end_time": "2020-11-03T17:59:07.916769Z",
     "start_time": "2020-11-03T17:59:07.867831Z"
    }
   },
   "outputs": [],
   "source": [
    "def finding_xHI(xHI_grid, z, post, plot = False):\n",
    "    \n",
    "    linear_post = np.exp(post)\n",
    "    integral_post = np.trapz(linear_post, xHI_grid)\n",
    "    normalized_post = linear_post / integral_post\n",
    "    \n",
    "    CDF = np.cumsum(normalized_post*np.gradient(xHI_grid))\n",
    "    CDF_norm = CDF / CDF.max()\n",
    "    \n",
    "    if z == 6.6:\n",
    "        # 68% CI\n",
    "        CI68 = np.interp(0.68, CDF_norm, xHI_grid)\n",
    "        print(\"0.68 CI upper limit:  %s\" % CI68)\n",
    "\n",
    "        # 95% CI\n",
    "        CI95 = np.interp(0.95, CDF_norm, xHI_grid)\n",
    "        print(\"0.95 CI upper limit:  %s\" % CI95)\n",
    "    else:\n",
    "        # 68% Confidence Interval lower, median, upper limit\n",
    "        CI16 = np.interp(0.16, CDF_norm, xHI_grid)\n",
    "        CI50 = np.interp(0.5, CDF_norm, xHI_grid)\n",
    "        CI84 = np.interp(0.84, CDF_norm, xHI_grid)\n",
    "        print(\"0.16 CI lower limit:  %s\" % CI16)\n",
    "        print(\"0.50 CI median limit:  %s\" % CI50)\n",
    "        print(\"0.84 CI upper limit:  %s\" % CI84)\n",
    "\n",
    "        # 95% Confidence Interval lower, upper limit\n",
    "        CI025 = np.interp(0.025, CDF_norm, xHI_grid)\n",
    "        CI975 = np.interp(0.975, CDF_norm, xHI_grid)\n",
    "        print(\"0.025 CI lower limit:  %s\" % CI025)\n",
    "        print(\"0.975 CI upper limit:  %s\" % CI975)\n",
    "    \n",
    "    if plot == True:\n",
    "        if z == 6.6:\n",
    "            plt.plot(xHI_grid, normalized_post)\n",
    "            plt.axvline(CI68, color = 'black', lw = 0.9, ls = '--')\n",
    "            plt.axvline(CI95, color = 'black', lw = 0.9, ls = '-')\n",
    "            #Legend info\n",
    "#             leg_zval = plt.legend(title = 'z = 6.6',frameon=False, handletextpad=0.5, loc=\"upper right\")\n",
    "#             plt.gca().add_artist(leg_zval)\n",
    "            line1 = mlines.Line2D([], [], color='black', ls='--', label='68% Confidence Interval')\n",
    "            line2 = mlines.Line2D([], [], color='black', ls='-', label='95% Confidence Interval')\n",
    "            title = mlines.Line2D([], [],marker=' ',linestyle=' ',label='z = 6.6')\n",
    "            plt.legend(handles=[title, line1,line2], loc='upper right', frameon=False,handletextpad=0.5, handlelength=1.5)\n",
    "            plt.xlabel('Neutral Fraction $\\overline{x}_\\mathrm{HI}$')\n",
    "            plt.ylabel('Normalized Posterior')\n",
    "            plt.xlim(0,1)\n",
    "        else:\n",
    "            plt.plot(xHI_grid, normalized_post)\n",
    "            # 68% CI lower, median, upper limit\n",
    "            plt.axvline(CI16, color = 'black', lw = 0.9, ls = '--')\n",
    "            plt.axvline(CI50, color = 'black', lw = 0.9,ls = '--')\n",
    "            plt.axvline(CI84, color = 'black', lw = 0.9,ls = '--')\n",
    "\n",
    "            # 95% CI lower, upper limit\n",
    "            plt.axvline(CI025, color = 'black', lw = 0.9,ls = '-')\n",
    "            plt.axvline(CI975, color = 'black', lw = 0.9,ls = '-')\n",
    "            title = mlines.Line2D([], [],marker=' ',linestyle=' ',label='z = %.1f'%z)\n",
    "            line1 = mlines.Line2D([], [], color='black', ls='--', label='68% Confidence Interval')\n",
    "            line2 = mlines.Line2D([], [], color='black', ls='-', label='95% Confidence Interval')\n",
    "            plt.xlim(0,1)\n",
    "            plt.legend(handles=[title,line1,line2], loc='upper right', frameon=False, handletextpad=0.5, handlelength=1.5)\n",
    "            if z == 7.3:\n",
    "                plt.legend(handles=[title,line1,line2], loc='upper left', frameon=False, handletextpad=0.5, handlelength=1.5)\n",
    "            plt.xlabel('Neutral Fraction $\\overline{x}_\\mathrm{HI}$')\n",
    "            plt.ylabel('Normalized Posterior')\n",
    "    return"
   ]
  },
  {
   "cell_type": "code",
   "execution_count": 68,
   "metadata": {
    "ExecuteTime": {
     "end_time": "2020-10-29T03:02:40.255384Z",
     "start_time": "2020-10-29T03:02:39.756111Z"
    }
   },
   "outputs": [
    {
     "name": "stdout",
     "output_type": "stream",
     "text": [
      "0.68 CI upper limit:  0.09572927922049165\n",
      "0.95 CI upper limit:  0.18774920650162957\n"
     ]
    },
    {
     "data": {
      "image/png": "[encoded data removed]",
      "text/plain": [
       "<Figure size 640x480 with 1 Axes>"
      ]
     },
     "metadata": {},
     "output_type": "display_data"
    }
   ],
   "source": [
    "# z = 6.6\n",
    "finding_xHI(xHI_grid, z = 6.6, post = log_post66, plot = True)\n",
    "plt.savefig('xHIminimize66.pdf', bbox_inches='tight')\n",
    "plt.show()"
   ]
  },
  {
   "cell_type": "code",
   "execution_count": 67,
   "metadata": {
    "ExecuteTime": {
     "end_time": "2020-10-29T03:02:36.693924Z",
     "start_time": "2020-10-29T03:02:36.186535Z"
    },
    "scrolled": false
   },
   "outputs": [
    {
     "name": "stdout",
     "output_type": "stream",
     "text": [
      "0.16 CI lower limit:  0.14706297309202193\n",
      "0.50 CI median limit:  0.20249885361516023\n",
      "0.84 CI upper limit:  0.2569295631772191\n",
      "0.025 CI lower limit:  0.08662526706765522\n",
      "0.975 CI upper limit:  0.29987722736271094\n"
     ]
    },
    {
     "data": {
      "image/png": "[encoded data removed]",
      "text/plain": [
       "<Figure size 640x480 with 1 Axes>"
      ]
     },
     "metadata": {},
     "output_type": "display_data"
    }
   ],
   "source": [
    "# z = 7.0\n",
    "finding_xHI(xHI_grid, z = 7.0, post = log_post70, plot = True)\n",
    "plt.savefig('xHIminimize70.pdf', bbox_inches='tight')\n",
    "plt.show()"
   ]
  },
  {
   "cell_type": "code",
   "execution_count": 66,
   "metadata": {
    "ExecuteTime": {
     "end_time": "2020-10-29T03:02:33.522970Z",
     "start_time": "2020-10-29T03:02:33.069232Z"
    }
   },
   "outputs": [
    {
     "name": "stdout",
     "output_type": "stream",
     "text": [
      "0.16 CI lower limit:  0.680408792015579\n",
      "0.50 CI median limit:  0.7775877626781957\n",
      "0.84 CI upper limit:  0.8825736447999697\n",
      "0.025 CI lower limit:  0.602803206711309\n",
      "0.975 CI upper limit:  0.9383984503341827\n"
     ]
    },
    {
     "data": {
      "image/png": "[encoded data removed]",
      "text/plain": [
       "<Figure size 640x480 with 1 Axes>"
      ]
     },
     "metadata": {},
     "output_type": "display_data"
    }
   ],
   "source": [
    "# z = 7.3\n",
    "finding_xHI(xHI_grid, z = 7.3, post = log_post73, plot = True)\n",
    "plt.savefig('xHIminimize73.pdf', bbox_inches='tight')\n",
    "plt.show()"
   ]
  },
  {
   "cell_type": "markdown",
   "metadata": {},
   "source": [
    "# Test Code"
   ]
  },
  {
   "cell_type": "code",
   "execution_count": 155,
   "metadata": {
    "ExecuteTime": {
     "end_time": "2020-10-05T19:48:21.912527Z",
     "start_time": "2020-10-05T19:48:21.802848Z"
    }
   },
   "outputs": [
    {
     "name": "stdout",
     "output_type": "stream",
     "text": [
      "[0.00582859 0.00389536 0.01358588]\n",
      "[-0.00582859 -0.00389536 -0.01358588]\n",
      "[ 0.00238276  0.04630646  0.01056031  0.0020145  -0.00582859  0.02128509\n",
      " -0.00389536  0.15348608  0.21498316 -0.01358588]\n"
     ]
    }
   ],
   "source": [
    "#Test Cell\n",
    "np.random.seed(0)\n",
    "\n",
    "y_model = np.ones(10)\n",
    "y = np.random.rand(10)+0.5\n",
    "likelihood = (y_model - y)**2.\n",
    "# likelihood = 1\n",
    "\n",
    "# likelihood[y_model >= y] = 0\n",
    "print(likelihood[y_model >= y])\n",
    "\n",
    "likelihood2 = -(y_model - y)**2.\n",
    "print(likelihood2[y_model >= y])\n",
    "likelihood[y_model >= y] = likelihood2[y_model >= y]\n",
    "print(likelihood)"
   ]
  },
  {
   "cell_type": "code",
   "execution_count": 153,
   "metadata": {
    "ExecuteTime": {
     "end_time": "2020-10-05T19:46:45.201010Z",
     "start_time": "2020-10-05T19:46:44.674075Z"
    }
   },
   "outputs": [
    {
     "name": "stdout",
     "output_type": "stream",
     "text": [
      "4\n",
      "[ 0.00238276  0.04630646  0.01056031  0.0020145   1.          0.02128509\n",
      " -0.00389536  0.15348608  0.21498316 -0.01358588]\n",
      "[0. 0. 0. 0. 1. 0. 0. 0.]\n"
     ]
    },
    {
     "name": "stderr",
     "output_type": "stream",
     "text": [
      "/Applications/anaconda3/lib/python3.7/site-packages/ipykernel_launcher.py:43: RuntimeWarning: divide by zero encountered in log\n"
     ]
    },
    {
     "ename": "ValueError",
     "evalue": "x and y must have same first dimension, but have shapes (8,) and (1,)",
     "output_type": "error",
     "traceback": [
      "\u001b[0;31m---------------------------------------------------------------------------\u001b[0m",
      "\u001b[0;31mValueError\u001b[0m                                Traceback (most recent call last)",
      "\u001b[0;32m<ipython-input-153-c1667d3c711e>\u001b[0m in \u001b[0;36m<module>\u001b[0;34m\u001b[0m\n\u001b[1;32m     49\u001b[0m     \u001b[0;32mreturn\u001b[0m\u001b[0;34m\u001b[0m\u001b[0;34m\u001b[0m\u001b[0m\n\u001b[1;32m     50\u001b[0m \u001b[0;34m\u001b[0m\u001b[0m\n\u001b[0;32m---> 51\u001b[0;31m \u001b[0mlog_likelihood2\u001b[0m\u001b[0;34m(\u001b[0m\u001b[0mtheta\u001b[0m \u001b[0;34m=\u001b[0m \u001b[0mLF\u001b[0m\u001b[0;34m.\u001b[0m\u001b[0mxHI_list\u001b[0m\u001b[0;34m,\u001b[0m \u001b[0mx\u001b[0m \u001b[0;34m=\u001b[0m \u001b[0mlog_L70\u001b[0m\u001b[0;34m,\u001b[0m \u001b[0my\u001b[0m \u001b[0;34m=\u001b[0m \u001b[0mndens70\u001b[0m\u001b[0;34m,\u001b[0m \u001b[0mdy_l\u001b[0m \u001b[0;34m=\u001b[0m \u001b[0myerror_l70\u001b[0m\u001b[0;34m,\u001b[0m \u001b[0mdy_u\u001b[0m \u001b[0;34m=\u001b[0m \u001b[0myerror_u70\u001b[0m\u001b[0;34m,\u001b[0m \u001b[0mz\u001b[0m \u001b[0;34m=\u001b[0m \u001b[0;36m7.0\u001b[0m\u001b[0;34m)\u001b[0m\u001b[0;34m\u001b[0m\u001b[0;34m\u001b[0m\u001b[0m\n\u001b[0m",
      "\u001b[0;32m<ipython-input-153-c1667d3c711e>\u001b[0m in \u001b[0;36mlog_likelihood2\u001b[0;34m(theta, x, y, dy_l, dy_u, z)\u001b[0m\n\u001b[1;32m     42\u001b[0m     \u001b[0mprint\u001b[0m\u001b[0;34m(\u001b[0m\u001b[0mlikelihood2\u001b[0m\u001b[0;34m)\u001b[0m\u001b[0;34m\u001b[0m\u001b[0;34m\u001b[0m\u001b[0m\n\u001b[1;32m     43\u001b[0m     \u001b[0mln_like\u001b[0m \u001b[0;34m=\u001b[0m \u001b[0mnp\u001b[0m\u001b[0;34m.\u001b[0m\u001b[0msum\u001b[0m\u001b[0;34m(\u001b[0m\u001b[0mnp\u001b[0m\u001b[0;34m.\u001b[0m\u001b[0mlog\u001b[0m\u001b[0;34m(\u001b[0m\u001b[0mlikelihood2\u001b[0m\u001b[0;34m)\u001b[0m\u001b[0;34m)\u001b[0m\u001b[0;34m\u001b[0m\u001b[0;34m\u001b[0m\u001b[0m\n\u001b[0;32m---> 44\u001b[0;31m     \u001b[0mplt\u001b[0m\u001b[0;34m.\u001b[0m\u001b[0mplot\u001b[0m\u001b[0;34m(\u001b[0m\u001b[0my_model\u001b[0m\u001b[0;34m,\u001b[0m \u001b[0mln_like\u001b[0m\u001b[0;34m)\u001b[0m\u001b[0;34m\u001b[0m\u001b[0;34m\u001b[0m\u001b[0m\n\u001b[0m\u001b[1;32m     45\u001b[0m \u001b[0;31m#     print(ln_like)\u001b[0m\u001b[0;34m\u001b[0m\u001b[0;34m\u001b[0m\u001b[0;34m\u001b[0m\u001b[0m\n\u001b[1;32m     46\u001b[0m \u001b[0;34m\u001b[0m\u001b[0m\n",
      "\u001b[0;32m/Applications/anaconda3/lib/python3.7/site-packages/matplotlib/pyplot.py\u001b[0m in \u001b[0;36mplot\u001b[0;34m(scalex, scaley, data, *args, **kwargs)\u001b[0m\n\u001b[1;32m   2794\u001b[0m     return gca().plot(\n\u001b[1;32m   2795\u001b[0m         *args, scalex=scalex, scaley=scaley, **({\"data\": data} if data\n\u001b[0;32m-> 2796\u001b[0;31m         is not None else {}), **kwargs)\n\u001b[0m\u001b[1;32m   2797\u001b[0m \u001b[0;34m\u001b[0m\u001b[0m\n\u001b[1;32m   2798\u001b[0m \u001b[0;34m\u001b[0m\u001b[0m\n",
      "\u001b[0;32m/Applications/anaconda3/lib/python3.7/site-packages/matplotlib/axes/_axes.py\u001b[0m in \u001b[0;36mplot\u001b[0;34m(self, scalex, scaley, data, *args, **kwargs)\u001b[0m\n\u001b[1;32m   1663\u001b[0m         \"\"\"\n\u001b[1;32m   1664\u001b[0m         \u001b[0mkwargs\u001b[0m \u001b[0;34m=\u001b[0m \u001b[0mcbook\u001b[0m\u001b[0;34m.\u001b[0m\u001b[0mnormalize_kwargs\u001b[0m\u001b[0;34m(\u001b[0m\u001b[0mkwargs\u001b[0m\u001b[0;34m,\u001b[0m \u001b[0mmlines\u001b[0m\u001b[0;34m.\u001b[0m\u001b[0mLine2D\u001b[0m\u001b[0;34m.\u001b[0m\u001b[0m_alias_map\u001b[0m\u001b[0;34m)\u001b[0m\u001b[0;34m\u001b[0m\u001b[0;34m\u001b[0m\u001b[0m\n\u001b[0;32m-> 1665\u001b[0;31m         \u001b[0mlines\u001b[0m \u001b[0;34m=\u001b[0m \u001b[0;34m[\u001b[0m\u001b[0;34m*\u001b[0m\u001b[0mself\u001b[0m\u001b[0;34m.\u001b[0m\u001b[0m_get_lines\u001b[0m\u001b[0;34m(\u001b[0m\u001b[0;34m*\u001b[0m\u001b[0margs\u001b[0m\u001b[0;34m,\u001b[0m \u001b[0mdata\u001b[0m\u001b[0;34m=\u001b[0m\u001b[0mdata\u001b[0m\u001b[0;34m,\u001b[0m \u001b[0;34m**\u001b[0m\u001b[0mkwargs\u001b[0m\u001b[0;34m)\u001b[0m\u001b[0;34m]\u001b[0m\u001b[0;34m\u001b[0m\u001b[0;34m\u001b[0m\u001b[0m\n\u001b[0m\u001b[1;32m   1666\u001b[0m         \u001b[0;32mfor\u001b[0m \u001b[0mline\u001b[0m \u001b[0;32min\u001b[0m \u001b[0mlines\u001b[0m\u001b[0;34m:\u001b[0m\u001b[0;34m\u001b[0m\u001b[0;34m\u001b[0m\u001b[0m\n\u001b[1;32m   1667\u001b[0m             \u001b[0mself\u001b[0m\u001b[0;34m.\u001b[0m\u001b[0madd_line\u001b[0m\u001b[0;34m(\u001b[0m\u001b[0mline\u001b[0m\u001b[0;34m)\u001b[0m\u001b[0;34m\u001b[0m\u001b[0;34m\u001b[0m\u001b[0m\n",
      "\u001b[0;32m/Applications/anaconda3/lib/python3.7/site-packages/matplotlib/axes/_base.py\u001b[0m in \u001b[0;36m__call__\u001b[0;34m(self, *args, **kwargs)\u001b[0m\n\u001b[1;32m    223\u001b[0m                 \u001b[0mthis\u001b[0m \u001b[0;34m+=\u001b[0m \u001b[0margs\u001b[0m\u001b[0;34m[\u001b[0m\u001b[0;36m0\u001b[0m\u001b[0;34m]\u001b[0m\u001b[0;34m,\u001b[0m\u001b[0;34m\u001b[0m\u001b[0;34m\u001b[0m\u001b[0m\n\u001b[1;32m    224\u001b[0m                 \u001b[0margs\u001b[0m \u001b[0;34m=\u001b[0m \u001b[0margs\u001b[0m\u001b[0;34m[\u001b[0m\u001b[0;36m1\u001b[0m\u001b[0;34m:\u001b[0m\u001b[0;34m]\u001b[0m\u001b[0;34m\u001b[0m\u001b[0;34m\u001b[0m\u001b[0m\n\u001b[0;32m--> 225\u001b[0;31m             \u001b[0;32myield\u001b[0m \u001b[0;32mfrom\u001b[0m \u001b[0mself\u001b[0m\u001b[0;34m.\u001b[0m\u001b[0m_plot_args\u001b[0m\u001b[0;34m(\u001b[0m\u001b[0mthis\u001b[0m\u001b[0;34m,\u001b[0m \u001b[0mkwargs\u001b[0m\u001b[0;34m)\u001b[0m\u001b[0;34m\u001b[0m\u001b[0;34m\u001b[0m\u001b[0m\n\u001b[0m\u001b[1;32m    226\u001b[0m \u001b[0;34m\u001b[0m\u001b[0m\n\u001b[1;32m    227\u001b[0m     \u001b[0;32mdef\u001b[0m \u001b[0mget_next_color\u001b[0m\u001b[0;34m(\u001b[0m\u001b[0mself\u001b[0m\u001b[0;34m)\u001b[0m\u001b[0;34m:\u001b[0m\u001b[0;34m\u001b[0m\u001b[0;34m\u001b[0m\u001b[0m\n",
      "\u001b[0;32m/Applications/anaconda3/lib/python3.7/site-packages/matplotlib/axes/_base.py\u001b[0m in \u001b[0;36m_plot_args\u001b[0;34m(self, tup, kwargs)\u001b[0m\n\u001b[1;32m    389\u001b[0m             \u001b[0mx\u001b[0m\u001b[0;34m,\u001b[0m \u001b[0my\u001b[0m \u001b[0;34m=\u001b[0m \u001b[0mindex_of\u001b[0m\u001b[0;34m(\u001b[0m\u001b[0mtup\u001b[0m\u001b[0;34m[\u001b[0m\u001b[0;34m-\u001b[0m\u001b[0;36m1\u001b[0m\u001b[0;34m]\u001b[0m\u001b[0;34m)\u001b[0m\u001b[0;34m\u001b[0m\u001b[0;34m\u001b[0m\u001b[0m\n\u001b[1;32m    390\u001b[0m \u001b[0;34m\u001b[0m\u001b[0m\n\u001b[0;32m--> 391\u001b[0;31m         \u001b[0mx\u001b[0m\u001b[0;34m,\u001b[0m \u001b[0my\u001b[0m \u001b[0;34m=\u001b[0m \u001b[0mself\u001b[0m\u001b[0;34m.\u001b[0m\u001b[0m_xy_from_xy\u001b[0m\u001b[0;34m(\u001b[0m\u001b[0mx\u001b[0m\u001b[0;34m,\u001b[0m \u001b[0my\u001b[0m\u001b[0;34m)\u001b[0m\u001b[0;34m\u001b[0m\u001b[0;34m\u001b[0m\u001b[0m\n\u001b[0m\u001b[1;32m    392\u001b[0m \u001b[0;34m\u001b[0m\u001b[0m\n\u001b[1;32m    393\u001b[0m         \u001b[0;32mif\u001b[0m \u001b[0mself\u001b[0m\u001b[0;34m.\u001b[0m\u001b[0mcommand\u001b[0m \u001b[0;34m==\u001b[0m \u001b[0;34m'plot'\u001b[0m\u001b[0;34m:\u001b[0m\u001b[0;34m\u001b[0m\u001b[0;34m\u001b[0m\u001b[0m\n",
      "\u001b[0;32m/Applications/anaconda3/lib/python3.7/site-packages/matplotlib/axes/_base.py\u001b[0m in \u001b[0;36m_xy_from_xy\u001b[0;34m(self, x, y)\u001b[0m\n\u001b[1;32m    268\u001b[0m         \u001b[0;32mif\u001b[0m \u001b[0mx\u001b[0m\u001b[0;34m.\u001b[0m\u001b[0mshape\u001b[0m\u001b[0;34m[\u001b[0m\u001b[0;36m0\u001b[0m\u001b[0;34m]\u001b[0m \u001b[0;34m!=\u001b[0m \u001b[0my\u001b[0m\u001b[0;34m.\u001b[0m\u001b[0mshape\u001b[0m\u001b[0;34m[\u001b[0m\u001b[0;36m0\u001b[0m\u001b[0;34m]\u001b[0m\u001b[0;34m:\u001b[0m\u001b[0;34m\u001b[0m\u001b[0;34m\u001b[0m\u001b[0m\n\u001b[1;32m    269\u001b[0m             raise ValueError(\"x and y must have same first dimension, but \"\n\u001b[0;32m--> 270\u001b[0;31m                              \"have shapes {} and {}\".format(x.shape, y.shape))\n\u001b[0m\u001b[1;32m    271\u001b[0m         \u001b[0;32mif\u001b[0m \u001b[0mx\u001b[0m\u001b[0;34m.\u001b[0m\u001b[0mndim\u001b[0m \u001b[0;34m>\u001b[0m \u001b[0;36m2\u001b[0m \u001b[0;32mor\u001b[0m \u001b[0my\u001b[0m\u001b[0;34m.\u001b[0m\u001b[0mndim\u001b[0m \u001b[0;34m>\u001b[0m \u001b[0;36m2\u001b[0m\u001b[0;34m:\u001b[0m\u001b[0;34m\u001b[0m\u001b[0;34m\u001b[0m\u001b[0m\n\u001b[1;32m    272\u001b[0m             raise ValueError(\"x and y can be no greater than 2-D, but have \"\n",
      "\u001b[0;31mValueError\u001b[0m: x and y must have same first dimension, but have shapes (8,) and (1,)"
     ]
    },
    {
     "data": {
      "image/png": "[encoded data removed]",
      "text/plain": [
       "<Figure size 921.6x633.6 with 1 Axes>"
      ]
     },
     "metadata": {},
     "output_type": "display_data"
    }
   ],
   "source": [
    "# find index where upper = 0, replace likelihood\n",
    "# give lower = 0.1mu, replace lower likelihood w this \n",
    "\n",
    "def log_likelihood2(theta, x, y, dy_l, dy_u, z):\n",
    "    \"\"\"\n",
    "    Returns log(likelihood) for a given parameter vector\n",
    "    \n",
    "    Parameters\n",
    "    ----------\n",
    "    theta: list, array-like\n",
    "        List of parameters in the form [slope, intercept]\n",
    "    x: list, array-like\n",
    "        x-values of your data\n",
    "    y: list, array-like\n",
    "        y-values of your data\n",
    "    dy: list, array-like\n",
    "        Uncertainties on the y-values of your data\n",
    "    \n",
    "    Returns\n",
    "    -------\n",
    "    ln_like: float\n",
    "        Natural log of the likelihood function\n",
    "    \"\"\"\n",
    "    xHI_mod = theta\n",
    "    \n",
    "    #Zheng upperlim indexing\n",
    "    idx_ul = (np.abs(dy_u)).argmin()   \n",
    "    print(idx_ul)\n",
    "    \n",
    "    #Nearest neighbor to xHI list\n",
    "    idx = (np.abs(LF.xHI_list - xHI_mod)).argmin()\n",
    "    xHI_grid_match = LF.xHI_list[idx]\n",
    "    \n",
    "    y_model = LF.xHI_model(xHI_grid_match, obs_L = x, zval= z)\n",
    "    \n",
    "    #Likelihood info for Zheng 7.0 upperlimit\n",
    "\n",
    "    likelihood[idx_ul] = 1\n",
    "    likelihood2 = np.exp((-(y_model-dy_l[idx_ul])**2)/(2*dy_l**2))\n",
    "    print(likelihood)\n",
    "    likelihood2[idx_ul] = likelihood[idx_ul]\n",
    "    print(likelihood2)\n",
    "    ln_like = np.sum(np.log(likelihood2))\n",
    "    plt.plot(y_model, ln_like)\n",
    "#     print(ln_like)\n",
    "    \n",
    "\n",
    "#     return ln_like\n",
    "    return\n",
    "\n",
    "log_likelihood2(theta = LF.xHI_list, x = log_L70, y = ndens70, dy_l = yerror_l70, dy_u = yerror_u70, z = 7.0)"
   ]
  },
  {
   "cell_type": "code",
   "execution_count": 117,
   "metadata": {
    "ExecuteTime": {
     "end_time": "2020-10-05T18:39:30.559624Z",
     "start_time": "2020-10-05T18:39:30.435472Z"
    }
   },
   "outputs": [
    {
     "name": "stdout",
     "output_type": "stream",
     "text": [
      "(121,)\n"
     ]
    }
   ],
   "source": [
    "idx = (np.abs(LF.xHI_list - xHI_mod)).argmin()\n",
    "xHI_grid_match = LF.xHI_list[idx]\n",
    "\n",
    "y_model = LF.xHI_model(xHI_grid_match, obs_L = x, zval= z)"
   ]
  },
  {
   "cell_type": "code",
   "execution_count": null,
   "metadata": {},
   "outputs": [],
   "source": []
  }
 ],
 "metadata": {
  "kernelspec": {
   "display_name": "Python 3",
   "language": "python",
   "name": "python3"
  },
  "language_info": {
   "codemirror_mode": {
    "name": "ipython",
    "version": 3
   },
   "file_extension": ".py",
   "mimetype": "text/x-python",
   "name": "python",
   "nbconvert_exporter": "python",
   "pygments_lexer": "ipython3",
   "version": "3.6.10"
  },
  "toc": {
   "base_numbering": 1,
   "nav_menu": {},
   "number_sections": true,
   "sideBar": true,
   "skip_h1_title": false,
   "title_cell": "Table of Contents",
   "title_sidebar": "Contents",
   "toc_cell": false,
   "toc_position": {},
   "toc_section_display": true,
   "toc_window_display": false
  }
 },
 "nbformat": 4,
 "nbformat_minor": 4
}
