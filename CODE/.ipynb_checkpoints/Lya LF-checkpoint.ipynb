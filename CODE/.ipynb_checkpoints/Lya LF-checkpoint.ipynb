{
 "cells": [
  {
   "cell_type": "markdown",
   "metadata": {},
   "source": [
    "# Importing and calling data files\n"
   ]
  },
  {
   "cell_type": "code",
   "execution_count": 181,
   "metadata": {
    "ExecuteTime": {
     "end_time": "2020-07-28T20:09:19.451948Z",
     "start_time": "2020-07-28T20:09:19.440881Z"
    }
   },
   "outputs": [],
   "source": [
    "import numpy as np\n",
    "import matplotlib as mpl\n",
    "import matplotlib.pyplot as plt\n",
    "import matplotlib.lines as mlines\n",
    "import pandas as pd\n",
    "import os\n",
    "#import reionizer\n",
    "import glob\n",
    "import astropy\n",
    "import astropy.cosmology\n",
    "from astropy.cosmology import Planck15 as P15\n",
    "from astropy import units as u\n",
    "from astropy import constants as const\n",
    "from scipy import interpolate\n",
    "from scipy.optimize import minimize\n",
    "\n",
    "plt.style.use(['default','seaborn-colorblind','seaborn-ticks'])\n",
    "mpl.rcParams['xtick.direction'] = 'in'\n",
    "mpl.rcParams['ytick.direction'] = 'in'\n",
    "\n"
   ]
  },
  {
   "cell_type": "code",
   "execution_count": 182,
   "metadata": {
    "ExecuteTime": {
     "end_time": "2020-07-28T20:09:19.987501Z",
     "start_time": "2020-07-28T20:09:19.971607Z"
    }
   },
   "outputs": [],
   "source": [
    "def insensitive_glob(pattern):\n",
    "    \"\"\"\n",
    "    Case insensitive find file names\n",
    "    \"\"\"\n",
    "    def either(c):\n",
    "        return '[%s%s]'%(c.lower(),c.upper()) if c.isalpha() else c\n",
    "    return glob.glob(''.join(map(either,pattern)))\n",
    "\n",
    "#Call UV LF data files\n",
    "LFz_data_dir = os.environ['LYA_DATA_DIR']+'data/models/' #calls directory\n",
    "LFz_dir = LFz_data_dir+'MTT15_UVLF/LF_pred/' #inside models folder call MTT15_UVLF/LF_pred/ folder\n",
    "LFz_files = sorted(insensitive_glob(LFz_dir+'LF_pred_z*.txt')) \n",
    "#calls each file in modelled data * will be replaced with corresponding zval\n",
    "\n",
    "#Calling EW files and their Muv values\n",
    "pW_data_dir = os.environ['LYA_DATA_DIR']+'data/models/' \n",
    "pW_dir = pW_data_dir+'M18_z=7.0_lnpWobs_Muv/' #inside models folder call M18_z=7.0_lnpWobs_Muv folder\n",
    "pW_files = sorted(insensitive_glob(pW_dir+'ln_pWobs_*.txt')) #calls each file in modelled data * will be replaced with corresponding xHI\n",
    "\n",
    "#Calling Konno data file\n",
    "K_data_dir = os.environ['LYA_DATA_DIR']+'data/models/' \n",
    "K_dir = pW_data_dir+'Lya_LF_Konno/' \n",
    "K_files = sorted(insensitive_glob(K_dir+'Lya_LF_Konno_z*.txt')) \n",
    "\n",
    "#Calling Ouchi data file\n",
    "O_data_dir = os.environ['LYA_DATA_DIR']+'data/models/' \n",
    "O_dir = pW_data_dir+'Lya_LF_Ouchi/' \n",
    "O_files = sorted(insensitive_glob(O_dir+'Lya_LF_Ouchi_z*.txt')) \n",
    "\n"
   ]
  },
  {
   "cell_type": "markdown",
   "metadata": {},
   "source": [
    "# Methodology\n",
    "## Defining function to call files\n"
   ]
  },
  {
   "cell_type": "code",
   "execution_count": 183,
   "metadata": {
    "ExecuteTime": {
     "end_time": "2020-07-28T20:09:21.603340Z",
     "start_time": "2020-07-28T20:09:21.389213Z"
    }
   },
   "outputs": [],
   "source": [
    "#Function used to load files\n",
    "def load_uvf_pandas(ufl_filename): \n",
    "    \"\"\"\n",
    "    Load table into pandas df\n",
    "    \"\"\"\n",
    "    uvf_tab_df = pd.read_csv(ufl_filename, skiprows=1, delim_whitespace=True)\n",
    "    \n",
    "    # Shuffle the column names to remove the '#' from the first column\n",
    "    uvf_tab_df.columns = np.roll(uvf_tab_df.columns, -1)\n",
    "\n",
    "    # Cut off the last (empty) column\n",
    "    uvf_tab_df = uvf_tab_df.iloc[:, :-1]\n",
    "\n",
    "    return uvf_tab_df\n",
    "\n",
    "\n",
    "\n",
    "#Call UV LF files by calling file name at specific z value \n",
    "LFz_tab = np.array([float(f.split('LF_pred_z')[-1].split('.txt')[0]) for f in LFz_files]) \n",
    "\n",
    "\n",
    "#Call xHI, EW files\n",
    "xHI_tab = np.array([float(f.split('xHI=')[-1].split('.txt')[0]) for f in pW_files]) \n",
    "\n",
    "#Call Konno z value files\n",
    "Konno_tab = np.array([float(f.split('z')[-1].split('.txt')[0]) for f in K_files])\n",
    "\n",
    "#Call Ouchi z value files\n",
    "Ouchi_tab = np.array([float(f.split('z')[-1].split('.txt')[0]) for f in O_files])\n",
    "\n",
    "\n",
    "#Call EW file with xHI = 0.01 \n",
    "#global pW_tab\n",
    "pW_tab = load_uvf_pandas(pW_files[0]) \n",
    "\n",
    "#Get Muv values from EW file as an array to use\n",
    "Muv_EW = np.array([float(Muv_val) for Muv_val in pW_tab.columns[1:]])\n",
    "\n"
   ]
  },
  {
   "cell_type": "markdown",
   "metadata": {},
   "source": [
    "## Defining constants and evaluating equations for given z value. Defining necessary functions for Lya LF"
   ]
  },
  {
   "cell_type": "code",
   "execution_count": 184,
   "metadata": {
    "ExecuteTime": {
     "end_time": "2020-07-28T20:09:22.420217Z",
     "start_time": "2020-07-28T20:09:22.412599Z"
    }
   },
   "outputs": [],
   "source": [
    "#Constants and constraints\n",
    "xHI_array = np.array([0.29]) #chosen xHI value\n",
    "# zval_test = np.array([5.9]) #chosen redshifts\n",
    "Konno_zval = np.array([5.7,6.6,7.3])\n",
    "Muv_array = np.array([-18.0,-22.0,-16.0]) #chosen Muv to test lum_lya vs Muv similar to EW vs Muv\n",
    "beta = -2.0 #usually -2 for high z galaxies as per spectrum as power law\n",
    "pc_10 = 10 * u.pc #1 pc to Mpc\n",
    "wl_lya = 1216 * u.Angstrom #angstrom\n",
    "wl_uv = 1500 * u.Angstrom #angstrom\n",
    "f0 = 3.631e-20 * (u.erg/u.s) * (u.cm**(-2)) * (u.Hz**(-1)) #flux_0 in erg s^-1 cm^-2 Hz^-1\n",
    "c = const.c #speed of light\n",
    "lum_grid = np.logspace(42.5,44) #shape = (50,)\n",
    "log10_lg = np.log10(lum_grid) #log10 luminosity grid in order to plot it on log10 scale similar to past works"
   ]
  },
  {
   "cell_type": "code",
   "execution_count": 199,
   "metadata": {
    "ExecuteTime": {
     "end_time": "2020-07-28T20:10:12.548773Z",
     "start_time": "2020-07-28T20:10:12.530660Z"
    }
   },
   "outputs": [],
   "source": [
    "#Defining lya LF function and all necessary eqs needed \n",
    "\n",
    "def make_lya_LF(zval_test, xHI_test, F=1., plot=False):\n",
    "    \n",
    "    #Calling UV, EW, Konno files to obtain z and xHI values\n",
    "    LFz_file = sorted(insensitive_glob(LFz_dir+ f'LF_pred_z{zval_test}.txt'))[0] \n",
    "    pW_file = sorted(insensitive_glob(pW_dir+f'ln_pWobs_*{xHI_test}.txt'))[0]\n",
    "    K_file = sorted(insensitive_glob(K_dir+f'Lya_LF_Konno_z*{zval_test}.txt'))[0] #Will require data from Unix account\n",
    "\n",
    "    \n",
    "    #Load in z value file\n",
    "    LF_tab = load_uvf_pandas(LFz_file) \n",
    "    \n",
    "    #Load in xHI value file\n",
    "    pW_tab = load_uvf_pandas(pW_file)\n",
    "    \n",
    "    \n",
    "    #Get Muv values from file as an array to use\n",
    "    Muv_EW = np.array([float(Muv_val) for Muv_val in pW_tab.columns[1:]])\n",
    "    \n",
    "    \n",
    "    #Interpolating UV LF Muv and ndens values into a 1d array\n",
    "    LF_interp = interpolate.interp1d(LF_tab['Muv'],LF_tab['ndens']) #old values\n",
    "    new_ndens = LF_interp(Muv_EW)\n",
    "\n",
    "    \n",
    "    #Defines distance modulus\n",
    "    d_l = P15.luminosity_distance(zval_test) \n",
    "    \n",
    "    \n",
    "    #Define apparent magnitude equation\n",
    "    def muv(Muv_EW,d_l,zval_test): \n",
    "        p1 = Muv_EW\n",
    "        p2 = 5*(np.log10((d_l/pc_10).to(u.pc/u.pc))) #convert d_l/pc_10 to pc units and then dimensionless\n",
    "        ans = p1 + p2\n",
    "        return ans\n",
    "    muv = muv(Muv_EW,d_l,zval_test)\n",
    "\n",
    "\n",
    "    #Flux density of UV continuum at Lya wavelength from Muv for given zvals\n",
    "    fd_uv = f0 * (10**(-0.4*muv)) *(c/(wl_lya**2)) *((wl_lya/wl_uv)**(beta+2.0))\n",
    "    fd_units = fd_uv.to(u.erg/u.s* (u.cm**(-2))/u.Angstrom) ##use this to show units\n",
    "\n",
    "    \n",
    "    #Jacobian - partial EW / partial Lya Luminosity for given zvals \n",
    "    jacobian = 1/((4*np.pi*d_l**2.)*fd_units)\n",
    "\n",
    "    # Flux_Lya\n",
    "    EW_200 = pW_tab['W'][9002]\n",
    "    f_lya = np.outer(pW_tab['W'],fd_units) * u.Angstrom\n",
    "    \n",
    "    f_test = f_lya[9002]\n",
    "    \n",
    "    #Lya luminosity \n",
    "    lum_lya = (f_lya * (4*np.pi*d_l**2.)).to(u.erg/u.s)\n",
    "    \n",
    "    \n",
    "    #Drops first column of EW values\n",
    "    new_pW_tab = np.exp(pW_tab.drop('W',axis=1))\n",
    "    #new_pW_tab = pW_tab.drop('W',axis=1) this was original code, was changed to exponential form\n",
    "\n",
    "    \n",
    "    #EW values for each Muv in EW file\n",
    "    pEW_vals = np.array(new_pW_tab) \n",
    "\n",
    "\n",
    "    # P(Lya|Muv)\n",
    "    pLya = jacobian * pEW_vals\n",
    "\n",
    "    \n",
    "    #Normalizes pLya to correctly plot lum_lya vs pLya\n",
    "    A1 = pLya[0] #first term of p(L) integral, where these lum = 0 (the height in y)(-inf to 0)\n",
    "    integral = np.trapz(pLya[1:].T,lum_lya.value[1:].T) #second term for lum>0 (L>0 to inf) transposed to correct matrix \n",
    "    sum_int = A1 + integral #This is whole integral of p(L)dL\n",
    "    norm_pLya = pLya / sum_int #new normalized pLya, divide original pLya values by integral to normalize\n",
    "\n",
    "    new_A1 = norm_pLya[0]\n",
    "    integral2 = np.trapz(norm_pLya[1:].T,lum_lya.value[1:].T)\n",
    "    new_sum = new_A1 + integral2 #verifies that new normalized integral adds up to 1 \n",
    "    assert(new_sum.value.all() == 1.)\n",
    "\n",
    "    \n",
    "    #Define an empty matrix in order to fill later with luminosity grid values and Muv values\n",
    "    new_pLya = np.zeros((len(lum_grid), len(Muv_EW))) \n",
    "\n",
    "    for mm,Muv in enumerate (Muv_EW):\n",
    "        #Interpolating pLya and ndens values into a 1d array\n",
    "        LF_interp1 = interpolate.interp1d(lum_lya[:,mm],norm_pLya[:,mm],fill_value=0., bounds_error=False)\n",
    "        new_pLya[:,mm] = LF_interp1(lum_grid) #column values of pLya\n",
    "    \n",
    "        \n",
    "    #Product of UVLF ndens values * pLya in new luminosity grid\n",
    "    product_LF = new_ndens * new_pLya \n",
    "\n",
    "\n",
    "    #Integral of this product = Lya LF (missing fudge factor corrections)\n",
    "    lya_LF =np.trapz(product_LF, x = Muv_EW) \n",
    "\n",
    "\n",
    "    #Log10 of Lya LF is lya_LF value * Jacobian - partial L / partial log10(L)\n",
    "    log10_LF = lya_LF*np.log(10)*lum_grid\n",
    "     \n",
    "    #Plotting Information\n",
    "    if plot == True:\n",
    "        #Plot Konno info \n",
    "        konno_data_plt(zval_test, plot = True)\n",
    "        \n",
    "        #Plot Ouchi info\n",
    "#         ouchi_data_plt(zval_test, plot = True)\n",
    "\n",
    "#         #Jacobian vs Muv plot info\n",
    "#         plot_jvsMuv(jacobian, Muv_EW, zval_test)\n",
    "\n",
    "#         #Plot Lum vs PLum info\n",
    "#         LvsPLya(Muv_array, zval_test, lum_lya, norm_pLya, new_pLya)\n",
    "\n",
    "        #LF vs Konno plot info\n",
    "        log10_LF_plot(log10_LF,zval_test,xHI_test, plot = True)\n",
    "    \n",
    "    \n",
    "\n",
    "    \n",
    "    return F*log10_LF\n"
   ]
  },
  {
   "cell_type": "code",
   "execution_count": 186,
   "metadata": {
    "ExecuteTime": {
     "end_time": "2020-07-28T20:09:23.500868Z",
     "start_time": "2020-07-28T20:09:23.389038Z"
    }
   },
   "outputs": [
    {
     "name": "stdout",
     "output_type": "stream",
     "text": [
      "[0.67279911]\n"
     ]
    }
   ],
   "source": [
    "def line_model(F, Ko_L):\n",
    "    \"\"\"\n",
    "    Evaluate a straight line model at the input Konno luminosity values.\n",
    "    \n",
    "    Parameters\n",
    "    ----------\n",
    "    F : list, array\n",
    "        This should be a length-2 array or list containing the \n",
    "        parameter values (a, b) for the (slope, intercept).\n",
    "    new_phi_Li : numeric, list, array\n",
    "        The coordinate values.\n",
    "        \n",
    "    Returns\n",
    "    -------\n",
    "    F*new_phi_Li : array\n",
    "        The computed y values at each input x.\n",
    "    \"\"\"\n",
    "    #Interpolating Konno and lum grid \n",
    "    LF_interp2 = interpolate.interp1d(log10_lg, log10_LF_calibrate)\n",
    "    new_phi_Li = LF_interp2(Ko_L)\n",
    "    \n",
    "    return F*new_phi_Li\n",
    "\n",
    "def line_model2(F, Ou_L):\n",
    "    \"\"\"\n",
    "    Evaluate a straight line model at the input Konno luminosity values.\n",
    "    \n",
    "    Parameters\n",
    "    ----------\n",
    "    F : list, array\n",
    "        This should be a length-2 array or list containing the \n",
    "        parameter values (a, b) for the (slope, intercept).\n",
    "    new_phi_Li : numeric, list, array\n",
    "        The coordinate values.\n",
    "        \n",
    "    Returns\n",
    "    -------\n",
    "    F*new_phi_Li2 : array\n",
    "        The computed y values at each input x.\n",
    "    \"\"\"\n",
    "    #Interpolating Ouchi and lum grid \n",
    "    LF_interp3 = interpolate.interp1d(log10_lg, log10_LF_calibrate)\n",
    "    new_phi_Li2 = LF_interp3(Ou_L)\n",
    "    \n",
    "    return F*new_phi_Li2\n",
    "\n",
    "F = np.linspace(0,2) #Start prediction F to be within 0-2 range\n",
    "\n",
    "def weighted_squared_deviation(F):\n",
    "    \"\"\"\n",
    "    Chi = Konno ndens values - our ndens values at corresponding Konno lum grid * F / Konno error values\n",
    "    Compute the weighted squared deviation between the data \n",
    "    (x, y, y_err) and the model points computed with the input \n",
    "    parameters (F).\n",
    "    \"\"\"\n",
    "    Ko_L, Ko_ndens, yerror_mean = konno_data_plt(zval_test=5.7, plot = False) #Defined here rather than as func. parameters\n",
    "    chi = (Ko_ndens - line_model(F[:,None], Ko_L)) / yerror_mean\n",
    "    \n",
    "    Ou_L, Ou_ndens, yerror_mean2 = ouchi_data_plt(zval_test=5.7, plot = False) #Defined here rather than as func. parameters\n",
    "    chi = (Ou_ndens - line_model2(F[:,None], Ou_L)) / yerror_mean2\n",
    "    \n",
    " \n",
    "    return np.sum(chi**2, axis=1)\n",
    "# plt.plot(F, weighted_squared_deviation(F)) #Plot to estimate min. F value\n",
    "\n",
    "\n",
    "x0 = 0.6 # starting guess for the optimizer \n",
    "result_sq = minimize(weighted_squared_deviation, x0=x0,method='BFGS')\n",
    "best_pars_sq = result_sq.x\n",
    "print(best_pars_sq)"
   ]
  },
  {
   "cell_type": "code",
   "execution_count": 187,
   "metadata": {
    "ExecuteTime": {
     "end_time": "2020-07-28T20:09:23.922479Z",
     "start_time": "2020-07-28T20:09:23.915243Z"
    },
    "scrolled": true
   },
   "outputs": [],
   "source": [
    "#Plot UV LF values vs interpolated Muv that is the same as EW \n",
    "def plot_UV_LF(Muv_EW,new_ndens):\n",
    "    '''\n",
    "    Plots UV LF for a interpolated EW Muv grid\n",
    "    \n",
    "    '''\n",
    "    plt.semilogy(LF_tab['Muv'],LF_tab['ndens'],label = 'z = %.1f'%zval_test) #UV LF values (181 Muv vals)\n",
    "    plt.plot(Muv_EW,new_ndens,'o')#EW Values along UV LF plot (61 Muv vals)\n",
    "    #Muv values for EW are restricted in range, we'll have to extend range, use same EW PD > -23 and < -17 \n",
    "    plt.legend()\n",
    "    plt.xlabel('$M_\\mathrm{UV}$')\n",
    "    plt.ylabel(r'$\\phi(M_\\mathrm{UV})\\ Mpc^-3$')\n",
    "    plt.show()\n",
    "    return"
   ]
  },
  {
   "cell_type": "code",
   "execution_count": 188,
   "metadata": {
    "ExecuteTime": {
     "end_time": "2020-07-28T20:09:24.709323Z",
     "start_time": "2020-07-28T20:09:24.704265Z"
    }
   },
   "outputs": [],
   "source": [
    "def plot_jvsMuv(jacobian, Muv_EW, zval_test):\n",
    "    '''\n",
    "    Plots relationship between lya/EW jacobian vs Muv values\n",
    "    \n",
    "    '''\n",
    "#Shows a positive linear relationship b/t Muv and jacobian, (fd_uv vs Muv shows neg. LR)\n",
    "#As Muv becomes fainter, value for jacobian increases, they're inversely proportional?\n",
    "\n",
    "    plt.semilogx(jacobian, Muv_EW, label = 'z = %.1f'%zval_test)     \n",
    "    plt.legend()\n",
    "    plt.xlabel(r'$\\partial EW/\\partial L_\\alpha$, [$\\mathrm{\\AA} cm^2 s/erg Mpc^2$]')\n",
    "    plt.ylabel('$M_\\mathrm{UV}$')\n",
    "    plt.title('Jacobian vs $M_\\mathrm{UV}$ for a Given Redshift ')\n",
    "    return\n"
   ]
  },
  {
   "cell_type": "code",
   "execution_count": 189,
   "metadata": {
    "ExecuteTime": {
     "end_time": "2020-07-28T20:09:25.637102Z",
     "start_time": "2020-07-28T20:09:25.627693Z"
    }
   },
   "outputs": [],
   "source": [
    "def konno_data_plt(zval_test, plot = False):\n",
    "    '''\n",
    "    Plots observational Lya LF data from Konno+18,+14 to fit model\n",
    "    \n",
    "    '''\n",
    "    K_file = sorted(insensitive_glob(K_dir+f'Lya_LF_Konno_z*{zval_test}.txt'))[0]\n",
    "    Ko_tab = load_uvf_pandas(K_file)\n",
    "    \n",
    "   \n",
    "    yerr_l = 10**(Ko_tab['log(ndens)']) - 10**(Ko_tab['ndens_l2']) \n",
    "    yerr_u = 10**(Ko_tab['ndens_u2']) - 10**(Ko_tab['log(ndens)'])\n",
    "    yerror = np.array([yerr_l,yerr_u])\n",
    "    \n",
    "    Ko_ndens = np.array(10**(Ko_tab['log(ndens)']))\n",
    "    Ko_L = np.array(Ko_tab['log(L)'])\n",
    "    yerror_mean = np.mean(yerror,axis=0)\n",
    "    \n",
    "\n",
    "    if plot==True:\n",
    "        if zval_test == 5.7:\n",
    "            my_color = 'blue'\n",
    "            label2 = 'Konno+18'\n",
    "        elif zval_test == 6.6:\n",
    "            my_color = 'red'\n",
    "            label2 = 'Konno+18'\n",
    "        else:\n",
    "            my_color = 'orange'\n",
    "            label2 = 'Konno+14'\n",
    "\n",
    "\n",
    "\n",
    "        plt.semilogy(Ko_tab['log(L)'], 10**(Ko_tab['log(ndens)']),color=my_color, alpha=0.5, marker='o', lw=0)\n",
    "        plt.errorbar(Ko_tab['log(L)'], 10**(Ko_tab['log(ndens)']),yerr=yerror, fmt = ' ',capsize=5, color=my_color)\n",
    "    return Ko_L, Ko_ndens, yerror_mean"
   ]
  },
  {
   "cell_type": "code",
   "execution_count": 190,
   "metadata": {
    "ExecuteTime": {
     "end_time": "2020-07-28T20:09:26.529264Z",
     "start_time": "2020-07-28T20:09:26.519537Z"
    }
   },
   "outputs": [],
   "source": [
    "def ouchi_data_plt(zval_test, plot = False):\n",
    "    '''\n",
    "    Plots observational Lya LF data from Ouchi+08,+10 to fit model\n",
    "    \n",
    "    '''\n",
    "    O_file = sorted(insensitive_glob(O_dir+f'Lya_LF_Ouchi_z*{zval_test}.txt'))[0]\n",
    "    Ou_tab = load_uvf_pandas(O_file)\n",
    "    \n",
    "   \n",
    "    yerr_l2 = 10**(Ou_tab['log(ndens)']) - 10**(Ou_tab['ndens_l2']) \n",
    "    yerr_u2 = 10**(Ou_tab['ndens_u2']) - 10**(Ou_tab['log(ndens)'])\n",
    "    yerror2 = np.array([yerr_l2,yerr_u2])\n",
    "    \n",
    "    Ou_ndens = np.array(10**(Ou_tab['log(ndens)']))\n",
    "    Ou_L = np.array(Ou_tab['log(L)'])\n",
    "    yerror_mean2 = np.mean(yerror2,axis=0)\n",
    "    \n",
    "\n",
    "    if plot==True:\n",
    "        if zval_test == 5.7:\n",
    "            my_color = 'blue'\n",
    "            label2 = 'Ouchi+08'\n",
    "        elif zval_test == 6.6:\n",
    "            my_color = 'red'\n",
    "            label2 = 'Ouchi+10'\n",
    "\n",
    "\n",
    "\n",
    "        plt.semilogy(Ou_tab['log(L)'], 10**(Ou_tab['log(ndens)']),color=my_color, alpha=0.5, marker='^', lw=0)\n",
    "        plt.errorbar(Ou_tab['log(L)'], 10**(Ou_tab['log(ndens)']),yerr=yerror2, fmt = ' ',capsize=5, color=my_color)\n",
    "    return Ou_L, Ou_ndens, yerror_mean2\n",
    "\n"
   ]
  },
  {
   "cell_type": "code",
   "execution_count": 191,
   "metadata": {
    "ExecuteTime": {
     "end_time": "2020-07-28T20:09:27.300244Z",
     "start_time": "2020-07-28T20:09:27.296125Z"
    }
   },
   "outputs": [],
   "source": [
    "def log10_LF_plot(log10_LF,zval_test,xHI_test,plot = False):\n",
    "    '''\n",
    "    This is used to plot the model of the Lya LF at different xHI and z values\n",
    "    '''\n",
    "    plt.semilogy(log10_lg, log10_LF,label = '$\\overline{x}_\\mathrm{HI}$ = %.2f'%xHI_test)\n",
    "    return    "
   ]
  },
  {
   "cell_type": "code",
   "execution_count": 192,
   "metadata": {
    "ExecuteTime": {
     "end_time": "2020-07-28T20:09:28.138653Z",
     "start_time": "2020-07-28T20:09:28.127804Z"
    }
   },
   "outputs": [],
   "source": [
    "def LvsPLya(Muv_array, zval_test, lum_lya, norm_pLya, new_pLya):\n",
    "    '''\n",
    "    Still needs to be fixed, new plot created with old code formatting\n",
    "    \n",
    "    Plots relationship between Lum. and P(Lum.) for different Muv and xHI values\n",
    "    '''\n",
    "    \n",
    "    for mm,Muv in enumerate (Muv_array):\n",
    "            if mm == 0: #first item in Muv_array, i.e. -18.0\n",
    "                ls = 'solid'\n",
    "                label = 'z = %.1f'%zval_test\n",
    "            elif mm == 1: #second item in Muv_array, i.e. -22.0 (will not show on xHI legend)\n",
    "                ls = 'dashed'\n",
    "                label = None\n",
    "            elif mm == 2: # Third item in Muv_array, i.e. -16.0\n",
    "                ls = 'dashdot'\n",
    "                plt.loglog(lum_lya[:,mm], norm_pLya[:,mm], ls=ls, color = my_color, label = label) #[:,mm] gets corresponding column than row [mm]\n",
    "                plt.plot(lum_grid, new_pLya[:,mm], ls=ls, color = 'blue')\n",
    "\n",
    "    leg_zval = plt.legend(frameon=False, handletextpad=0.5)\n",
    "    plt.gca().add_artist(leg_zval)\n",
    "    #This is the legend for Muv values, -18.0 is solid, -22.0 is dashed, -16.0 is dash-dot\n",
    "    line2 = mlines.Line2D([], [], color='k', label=r'$M_\\mathrm{UV} = %.1f$' % Muv_array[0])\n",
    "    line3 = mlines.Line2D([], [], color='k', ls='dashed', label=r'$M_\\mathrm{UV} = %.1f$' % Muv_array[1])\n",
    "    line1 = mlines.Line2D([], [], color='k', ls='dashdot', label=r'$M_\\mathrm{UV} = %.1f$' % Muv_array[2])\n",
    "    plt.legend(handles=[line1, line2, line3], loc='lower left', frameon=False, handletextpad=0.5, handlelength=1.5)\n",
    "\n",
    "    plt.ylim(1e-50,1e-44)\n",
    "    plt.xlabel(r'${\\mathrm{L_\\alpha}}$, [$erg/s$]')\n",
    "    plt.ylabel(r'${ P (L_\\alpha \\;|\\; M_\\mathrm{UV})}$')\n",
    "    return"
   ]
  },
  {
   "cell_type": "markdown",
   "metadata": {},
   "source": [
    "# Lya LF Plots (Calibrated, z = 5.7, 6.6, 7.3)"
   ]
  },
  {
   "cell_type": "code",
   "execution_count": 193,
   "metadata": {
    "ExecuteTime": {
     "end_time": "2020-07-28T20:09:30.691710Z",
     "start_time": "2020-07-28T20:09:30.095580Z"
    }
   },
   "outputs": [
    {
     "data": {
      "text/plain": [
       "[<matplotlib.lines.Line2D at 0x7fae0f8bde50>]"
      ]
     },
     "execution_count": 193,
     "metadata": {},
     "output_type": "execute_result"
    },
    {
     "data": {
      "image/png": "[encoded data removed]",
      "text/plain": [
       "<Figure size 640x480 with 1 Axes>"
      ]
     },
     "metadata": {},
     "output_type": "display_data"
    }
   ],
   "source": [
    "#Calibrated Lya LF\n",
    "\n",
    "log10_LF_calibrate = make_lya_LF(zval_test = 5.7,xHI_test = 0.01, F = 1., plot=True)\n",
    "plt.semilogy(log10_lg, log10_LF_calibrate,label = '$\\overline{x}_\\mathrm{HI}$ = 0.01')"
   ]
  },
  {
   "cell_type": "code",
   "execution_count": 198,
   "metadata": {
    "ExecuteTime": {
     "end_time": "2020-07-28T20:10:00.716159Z",
     "start_time": "2020-07-28T20:10:00.709986Z"
    }
   },
   "outputs": [],
   "source": [
    "# #LF z = 5.7\n",
    "# #Uses Konno and Ouchi functions\n",
    "\n",
    "# plt.figure(figsize=(4.,4.), dpi=150)\n",
    "# log10_LF1 = make_lya_LF(zval_test = 5.7,xHI_test = 0.01,F=0.672, plot=True)\n",
    "# log10_LF2 = make_lya_LF(zval_test = 5.7,xHI_test = 0.15,F=0.672,plot=True)\n",
    "# log10_LF3 = make_lya_LF(zval_test = 5.7,xHI_test = 0.36, F=0.672, plot=True)\n",
    "# log10_LF4 = make_lya_LF(zval_test = 5.7,xHI_test = 0.66,F=0.672, plot=True)\n",
    "# log10_LF5 = make_lya_LF(zval_test = 5.7,xHI_test = 0.87,F=0.672, plot=True)\n",
    "\n",
    "# leg_zval1 = plt.legend(title = 'z = 5.7',frameon=False, handletextpad=0.5, loc=\"lower left\")\n",
    "# plt.gca().add_artist(leg_zval1)\n",
    "# line2 = mlines.Line2D([], [], color='blue', marker='o', label='Konno+18')\n",
    "# line3 = mlines.Line2D([], [], color='blue', marker='^', label='Ouchi+08')\n",
    "# plt.legend(handles=[line2,line3], loc='upper right', frameon=False, handletextpad=0.5, handlelength=1.5)\n",
    "# plt.xlabel(r'$log_{10}(\\mathrm{L_\\alpha})$, [$erg/s$]')\n",
    "# plt.ylabel(r'$\\phi(log_{10}(\\mathrm{L_\\alpha}))\\ [Mpc^-3]$')\n",
    "# plt.savefig('KonnovsLF5.7.pdf', bbox_inches='tight')\n",
    "# plt.show()\n"
   ]
  },
  {
   "cell_type": "code",
   "execution_count": 197,
   "metadata": {
    "ExecuteTime": {
     "end_time": "2020-07-28T20:09:55.971237Z",
     "start_time": "2020-07-28T20:09:55.967437Z"
    }
   },
   "outputs": [],
   "source": [
    "# #LF z = 6.6\n",
    "# #Uses Konno and Ouchi functions\n",
    "\n",
    "# plt.figure(figsize=(4.,4.), dpi=150)\n",
    "# log10_LF6 = make_lya_LF(zval_test = 6.6,xHI_test = 0.01, F=0.672, plot=True)\n",
    "# log10_LF7 = make_lya_LF(zval_test = 6.6,xHI_test = 0.15,F=0.672,plot=True)\n",
    "# log10_LF8 = make_lya_LF(zval_test = 6.6,xHI_test = 0.36, F=0.672, plot=True)\n",
    "# log10_LF9 = make_lya_LF(zval_test = 6.6,xHI_test = 0.66, F=0.672, plot=True)\n",
    "# log10_LF10 = make_lya_LF(zval_test = 6.6,xHI_test = 0.87, F=0.672, plot=True)\n",
    "\n",
    "\n",
    "# leg_zval2 = plt.legend(title = 'z = 6.6',frameon=False, handletextpad=0.5, loc=\"lower left\")\n",
    "# plt.gca().add_artist(leg_zval2)\n",
    "# line2 = mlines.Line2D([], [], color='red', marker='o', label='Konno+18')\n",
    "# line3 = mlines.Line2D([], [], color='red', marker='^', label='Ouchi+10')\n",
    "# plt.legend(handles=[line2,line3], loc='upper right', frameon=False, handletextpad=0.5, handlelength=1.5)\n",
    "# plt.xlabel(r'$log_{10}(\\mathrm{L_\\alpha})$, [$erg/s$]')\n",
    "# plt.ylabel(r'$\\phi(log_{10}(\\mathrm{L_\\alpha}))\\ [Mpc^-3]$')\n",
    "# plt.savefig('KonnovsLF6.6.pdf', bbox_inches='tight')\n",
    "# plt.show()"
   ]
  },
  {
   "cell_type": "code",
   "execution_count": 200,
   "metadata": {
    "ExecuteTime": {
     "end_time": "2020-07-28T20:10:20.699695Z",
     "start_time": "2020-07-28T20:10:18.426382Z"
    }
   },
   "outputs": [
    {
     "data": {
      "image/png": "[encoded data removed]",
      "text/plain": [
       "<Figure size 600x600 with 1 Axes>"
      ]
     },
     "metadata": {},
     "output_type": "display_data"
    }
   ],
   "source": [
    "# #LF z = 7.3\n",
    "# #Uses Konno function (**COMMENT OUT OUCHI FUNCTION**)\n",
    "\n",
    "# plt.figure(figsize=(4.,4.), dpi=150)\n",
    "# log10_LF11 = make_lya_LF(zval_test = 7.3,xHI_test = 0.01, F=0.672, plot=True)\n",
    "# log10_LF12 = make_lya_LF(zval_test = 7.3,xHI_test = 0.15,F=0.672,plot=True)\n",
    "# log10_LF13 = make_lya_LF(zval_test = 7.3,xHI_test = 0.36, F=0.672, plot=True)\n",
    "# log10_LF14 = make_lya_LF(zval_test = 7.3,xHI_test = 0.66, F=0.672, plot=True)\n",
    "# log10_LF15 = make_lya_LF(zval_test = 7.3,xHI_test = 0.87, F=0.672, plot=True)\n",
    "\n",
    "# leg_zval3 = plt.legend(title = 'z = 7.3',frameon=False, handletextpad=0.5, loc=\"lower left\")\n",
    "# plt.gca().add_artist(leg_zval3)\n",
    "# line2 = mlines.Line2D([], [], color='orange', marker='o', label='Konno+14')\n",
    "# plt.legend(handles=[line2], loc='upper right', frameon=False, handletextpad=0.5, handlelength=1.5)\n",
    "# plt.xlabel(r'$log_{10}(\\mathrm{L_\\alpha})$, [$erg/s$]')\n",
    "# plt.ylabel(r'$\\phi(log_{10}(\\mathrm{L_\\alpha}))\\ [Mpc^-3]$')\n",
    "# plt.savefig('KonnovsLF7.3.pdf', bbox_inches='tight')\n",
    "# plt.show()"
   ]
  },
  {
   "cell_type": "code",
   "execution_count": null,
   "metadata": {},
   "outputs": [],
   "source": []
  }
 ],
 "metadata": {
  "kernelspec": {
   "display_name": "Python 3",
   "language": "python",
   "name": "python3"
  },
  "language_info": {
   "codemirror_mode": {
    "name": "ipython",
    "version": 3
   },
   "file_extension": ".py",
   "mimetype": "text/x-python",
   "name": "python",
   "nbconvert_exporter": "python",
   "pygments_lexer": "ipython3",
   "version": "3.7.6"
  },
  "toc": {
   "base_numbering": 1,
   "nav_menu": {},
   "number_sections": true,
   "sideBar": true,
   "skip_h1_title": false,
   "title_cell": "Table of Contents",
   "title_sidebar": "Contents",
   "toc_cell": false,
   "toc_position": {
    "height": "calc(100% - 180px)",
    "left": "10px",
    "top": "150px",
    "width": "165px"
   },
   "toc_section_display": true,
   "toc_window_display": false
  }
 },
 "nbformat": 4,
 "nbformat_minor": 4
}
