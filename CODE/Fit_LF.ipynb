{
 "cells": [
  {
   "cell_type": "code",
   "execution_count": 93,
   "metadata": {
    "ExecuteTime": {
     "end_time": "2020-09-08T17:17:32.245364Z",
     "start_time": "2020-09-08T17:17:32.024618Z"
    }
   },
   "outputs": [],
   "source": [
    "import numpy as np\n",
    "import matplotlib.pyplot as plt\n",
    "import run_LF as LF\n",
    "\n",
    "%matplotlib inline\n",
    "plt.style.use(['seaborn-poster','seaborn-ticks'])"
   ]
  },
  {
   "cell_type": "code",
   "execution_count": 94,
   "metadata": {
    "ExecuteTime": {
     "end_time": "2020-09-08T17:17:32.518142Z",
     "start_time": "2020-09-08T17:17:32.304762Z"
    }
   },
   "outputs": [],
   "source": [
    "%reload_ext autoreload\n",
    "%autoreload 2"
   ]
  },
  {
   "cell_type": "markdown",
   "metadata": {},
   "source": [
    "# Defining observational variables from Konno, Ouchi data"
   ]
  },
  {
   "cell_type": "code",
   "execution_count": 246,
   "metadata": {
    "ExecuteTime": {
     "end_time": "2020-09-13T22:33:49.917250Z",
     "start_time": "2020-09-13T22:33:49.083286Z"
    }
   },
   "outputs": [],
   "source": [
    "Ouchi_info6 = LF.ouchi_data_plt(zval_test = 6.6, plot = False, mean = False)\n",
    "Konno_info6 = LF.konno_data_plt(zval_test = 6.6, plot = False, mean = False)\n",
    "Konno_info7 = LF.konno_data_plt(zval_test = 7.3, plot = False, mean = False)\n",
    "Shibuya_info7 = LF.shibuya_data_plt(zval_test = 7.3, plot = False, mean = False)"
   ]
  },
  {
   "cell_type": "code",
   "execution_count": 248,
   "metadata": {
    "ExecuteTime": {
     "end_time": "2020-09-13T22:35:17.650696Z",
     "start_time": "2020-09-13T22:35:17.519831Z"
    }
   },
   "outputs": [],
   "source": [
    "# z = 6.6\n",
    "log_L6 = np.concatenate((Ouchi_info6[0], Konno_info6[0]), axis=None)\n",
    "ndens6 = np.concatenate((Ouchi_info6[1], Konno_info6[1]), axis=None)\n",
    "yerror_l6 = np.concatenate((Ouchi_info6[2][0], Konno_info6[2][0]), axis=None)\n",
    "yerror_u6 = np.concatenate((Ouchi_info6[2][1], Konno_info6[2][1]), axis=None)"
   ]
  },
  {
   "cell_type": "code",
   "execution_count": 249,
   "metadata": {
    "ExecuteTime": {
     "end_time": "2020-09-13T22:35:18.805434Z",
     "start_time": "2020-09-13T22:35:18.682737Z"
    }
   },
   "outputs": [],
   "source": [
    "# z = 7.3\n",
    "log_L7 = np.concatenate((Shibuya_info7[0], Konno_info7[0]), axis=None)\n",
    "ndens7 = np.concatenate((Shibuya_info7[1], Konno_info7[1]), axis=None)\n",
    "yerror_l7 = np.concatenate((Shibuya_info7[2][0], Konno_info7[2][0]), axis=None)\n",
    "yerror_u7 = np.concatenate((Shibuya_info7[2][1], Konno_info7[2][1]), axis=None)"
   ]
  },
  {
   "cell_type": "markdown",
   "metadata": {},
   "source": [
    "# Establishing prior, likelihood, & posterior"
   ]
  },
  {
   "cell_type": "code",
   "execution_count": 250,
   "metadata": {
    "ExecuteTime": {
     "end_time": "2020-09-13T22:36:09.187050Z",
     "start_time": "2020-09-13T22:36:08.502642Z"
    }
   },
   "outputs": [
    {
     "name": "stderr",
     "output_type": "stream",
     "text": [
      "/Applications/anaconda3/lib/python3.7/site-packages/ipykernel_launcher.py:27: RuntimeWarning: divide by zero encountered in log\n"
     ]
    },
    {
     "data": {
      "text/plain": [
       "<matplotlib.collections.PathCollection at 0x7f89e682b950>"
      ]
     },
     "execution_count": 250,
     "metadata": {},
     "output_type": "execute_result"
    },
    {
     "data": {
      "image/png": "[encoded data removed]",
      "text/plain": [
       "<Figure size 640x480 with 1 Axes>"
      ]
     },
     "metadata": {},
     "output_type": "display_data"
    }
   ],
   "source": [
    "xHI_min = 0.\n",
    "xHI_max = 0.95\n",
    "\n",
    "# xHI_grid = np.linspace(-0.1,1.1)\n",
    "xHI_grid = np.arange(-0.1, 1.1, 0.01)\n",
    "def log_prior(theta):\n",
    "    \"\"\"\n",
    "    Returns log(prior) for a given parameter vector\n",
    "    \n",
    "    Parameters\n",
    "    ----------\n",
    "    theta: list, array-like\n",
    "        List of parameters in the form [slope, intercept]\n",
    "    \n",
    "    Returns\n",
    "    -------\n",
    "    ln_prior: float\n",
    "        Natural log of the prior probability function\n",
    "    \"\"\"\n",
    "    xHI = theta\n",
    "    prob_xHI = np.zeros(len(xHI))\n",
    "    \n",
    "    \n",
    "    prob_xHI[(xHI_min <= xHI) & (xHI <= xHI_max)] = 1. # Log prior (not worrying about normalization)\n",
    "\n",
    "\n",
    "    ln_prior = np.log(prob_xHI)  # Log of the probability\n",
    "    return ln_prior\n",
    "# plt.scatter(xHI_grid, [np.exp(log_prior(xHI)) for xHI in xHI_grid])\n",
    "plt.scatter(xHI_grid, np.exp(log_prior(xHI_grid)))"
   ]
  },
  {
   "cell_type": "code",
   "execution_count": 251,
   "metadata": {
    "ExecuteTime": {
     "end_time": "2020-09-13T22:36:10.409675Z",
     "start_time": "2020-09-13T22:36:10.272815Z"
    }
   },
   "outputs": [],
   "source": [
    "def log_likelihood(theta, x, y, dy_l, dy_u, z):\n",
    "    \"\"\"\n",
    "    Returns log(likelihood) for a given parameter vector\n",
    "    \n",
    "    Parameters\n",
    "    ----------\n",
    "    theta: list, array-like\n",
    "        List of parameters in the form [slope, intercept]\n",
    "    x: list, array-like\n",
    "        x-values of your data\n",
    "    y: list, array-like\n",
    "        y-values of your data\n",
    "    dy: list, array-like\n",
    "        Uncertainties on the y-values of your data\n",
    "    \n",
    "    Returns\n",
    "    -------\n",
    "    ln_like: float\n",
    "        Natural log of the likelihood function\n",
    "    \"\"\"\n",
    "    xHI_mod = theta\n",
    "    \n",
    "    #Nearest neighbor to xHI list\n",
    "    idx = (np.abs(LF.xHI_list - xHI_mod)).argmin()\n",
    "    xHI_grid_match = LF.xHI_list[idx]\n",
    "    \n",
    "    y_model = LF.xHI_model(xHI_grid_match, obs_L = x, zval= z)\n",
    "    \n",
    "    #Defining split-likelihood\n",
    "    #chi2 use split\n",
    "    A = (np.sqrt(2.*np.pi)*(((dy_u + dy_l)/2.)**2.))**(-1)\n",
    "    \n",
    "    likelihood = A * np.exp(-0.5* ((y_model - y)**2.)/(dy_u**2.))\n",
    "\n",
    "    likelihood2 = A * np.exp(-0.5* ((y_model - y)**2.)/(dy_l**2.))\n",
    "    \n",
    "    likelihood[y_model >= y] = likelihood2[y_model >= y]\n",
    "    ln_like = np.sum(np.log(likelihood))\n",
    "   \n",
    "    return ln_like\n"
   ]
  },
  {
   "cell_type": "code",
   "execution_count": 252,
   "metadata": {
    "ExecuteTime": {
     "end_time": "2020-09-13T22:37:17.002333Z",
     "start_time": "2020-09-13T22:36:11.495837Z"
    }
   },
   "outputs": [
    {
     "name": "stderr",
     "output_type": "stream",
     "text": [
      "/Applications/anaconda3/lib/python3.7/site-packages/ipykernel_launcher.py:27: RuntimeWarning: divide by zero encountered in log\n",
      "/Applications/anaconda3/lib/python3.7/site-packages/ipykernel_launcher.py:38: RuntimeWarning: divide by zero encountered in log\n"
     ]
    }
   ],
   "source": [
    "def log_posterior(theta, x, y, dy_l, dy_u, z):\n",
    "    \"\"\"\n",
    "    Returns log(posterior) for a given parameter vector\n",
    "    \n",
    "    Parameters\n",
    "    ----------\n",
    "    theta: list, array-like\n",
    "        List of parameters in the form [slope, intercept]\n",
    "    x: list, array-like\n",
    "        x-values of your data\n",
    "    y: list, array-like\n",
    "        y-values of your data\n",
    "    dy: list, array-like\n",
    "        Uncertainties on the y-values of your data\n",
    "    \n",
    "    Returns\n",
    "    -------\n",
    "    ln_post: float\n",
    "        Natural log of the posterior probability function\n",
    "    \"\"\"\n",
    "\n",
    "    ln_post = log_prior(theta) + np.array([log_likelihood(t, x, y, dy_l, dy_u, z) for t in theta])  # From Bayes Theorem\n",
    "    return ln_post\n",
    "log_post6 = log_posterior(theta = xHI_grid, x = log_L6, y = ndens6, dy_l = yerror_l6, dy_u = yerror_u6, z = 6.6)\n",
    "log_post7 = log_posterior(theta = xHI_grid, x = log_L7, y = ndens7, dy_l = yerror_l7, dy_u = yerror_u7, z = 7.3)"
   ]
  },
  {
   "cell_type": "code",
   "execution_count": 253,
   "metadata": {
    "ExecuteTime": {
     "end_time": "2020-09-13T22:38:07.586658Z",
     "start_time": "2020-09-13T22:38:07.047732Z"
    }
   },
   "outputs": [],
   "source": [
    "# z = 6.6 \n",
    "linear_post6 = np.exp(log_post6)\n",
    "integral_post6 = np.trapz(linear_post6,xHI_grid)\n",
    "normalized_post6 = linear_post6 / integral_post6"
   ]
  },
  {
   "cell_type": "code",
   "execution_count": 254,
   "metadata": {
    "ExecuteTime": {
     "end_time": "2020-09-13T22:38:09.178387Z",
     "start_time": "2020-09-13T22:38:09.031415Z"
    }
   },
   "outputs": [
    {
     "name": "stdout",
     "output_type": "stream",
     "text": [
      "0.07293964504622646\n",
      "0.15895709539263628\n"
     ]
    }
   ],
   "source": [
    "# Confidence interval information, z = 6.6\n",
    "CDF_6 = np.cumsum(normalized_post6*np.gradient(xHI_grid))\n",
    "CDF_norm_6 = CDF_6/CDF_6.max()\n",
    "\n",
    "# 68% Confidence Interval upper limit\n",
    "z6_CI68 = np.interp(0.68, CDF_norm_6, xHI_grid)\n",
    "print(z6_CI68)\n",
    "\n",
    "# 95% Confidence Interval upper limit\n",
    "z6_CI95 = np.interp(0.95, CDF_norm_6, xHI_grid)\n",
    "print(z6_CI95)"
   ]
  },
  {
   "cell_type": "code",
   "execution_count": 255,
   "metadata": {
    "ExecuteTime": {
     "end_time": "2020-09-13T22:38:10.993140Z",
     "start_time": "2020-09-13T22:38:10.727578Z"
    }
   },
   "outputs": [
    {
     "data": {
      "text/plain": [
       "<matplotlib.lines.Line2D at 0x7f89e6b19850>"
      ]
     },
     "execution_count": 255,
     "metadata": {},
     "output_type": "execute_result"
    },
    {
     "data": {
      "image/png": "[encoded data removed]",
      "text/plain": [
       "<Figure size 640x480 with 1 Axes>"
      ]
     },
     "metadata": {},
     "output_type": "display_data"
    }
   ],
   "source": [
    "plt.plot(xHI_grid, normalized_post6)\n",
    "plt.axvline(z6_CI68, color = 'red', lw = 0.5)\n",
    "plt.axvline(z6_CI95, color = 'green', lw = 0.5)"
   ]
  },
  {
   "cell_type": "code",
   "execution_count": 256,
   "metadata": {
    "ExecuteTime": {
     "end_time": "2020-09-13T22:38:15.166530Z",
     "start_time": "2020-09-13T22:38:14.908213Z"
    }
   },
   "outputs": [
    {
     "data": {
      "text/plain": [
       "<matplotlib.lines.Line2D at 0x7f89e7010a10>"
      ]
     },
     "execution_count": 256,
     "metadata": {},
     "output_type": "execute_result"
    },
    {
     "data": {
      "image/png": "[encoded data removed]",
      "text/plain": [
       "<Figure size 640x480 with 1 Axes>"
      ]
     },
     "metadata": {},
     "output_type": "display_data"
    }
   ],
   "source": [
    "plt.plot(xHI_grid, CDF_norm_6)\n",
    "\n",
    "# 68% CI upper limit\n",
    "plt.axhline(0.68, color = 'red', lw = 0.5)\n",
    "plt.axvline(z6_CI68, color = 'red', lw = 0.5)\n",
    "\n",
    "# 95% CI upper limit\n",
    "plt.axhline(0.95, color = 'green', lw = 0.5)\n",
    "plt.axvline(z6_CI95, color = 'green', lw = 0.5)"
   ]
  },
  {
   "cell_type": "code",
   "execution_count": 257,
   "metadata": {
    "ExecuteTime": {
     "end_time": "2020-09-13T22:38:19.950540Z",
     "start_time": "2020-09-13T22:38:19.821917Z"
    }
   },
   "outputs": [],
   "source": [
    "# z = 7.3\n",
    "linear_post7 = np.exp(log_post7)\n",
    "integral_post7 = np.trapz(linear_post7,xHI_grid)\n",
    "normalized_post7 = linear_post7 / integral_post7"
   ]
  },
  {
   "cell_type": "code",
   "execution_count": 258,
   "metadata": {
    "ExecuteTime": {
     "end_time": "2020-09-13T22:38:22.509116Z",
     "start_time": "2020-09-13T22:38:22.373233Z"
    }
   },
   "outputs": [
    {
     "name": "stdout",
     "output_type": "stream",
     "text": [
      "0.9321011747180281\n",
      "0.9414943168176103\n",
      "0.9472781813816349\n",
      "0.9213030829957012\n",
      "0.9495747158408799\n"
     ]
    }
   ],
   "source": [
    "# Confidence interval information, z = 7.3\n",
    "\n",
    "CDF_7 = np.cumsum(normalized_post7*np.gradient(xHI_grid))\n",
    "CDF_norm_7 = CDF_7/CDF_7.max()\n",
    "\n",
    "# 68% Confidence Interval lower, median, upper limit\n",
    "z7_CI16 = np.interp(0.16, CDF_norm_7, xHI_grid)\n",
    "z7_CI50 = np.interp(0.5, CDF_norm_7, xHI_grid)\n",
    "z7_CI84 = np.interp(0.84, CDF_norm_7, xHI_grid)\n",
    "print(z7_CI16)\n",
    "print(z7_CI50)\n",
    "print(z7_CI84)\n",
    "\n",
    "# 95% Confidence Interval lower, upper limit\n",
    "z7_CI025 = np.interp(0.025, CDF_norm_7, xHI_grid)\n",
    "z7_CI975 = np.interp(0.975, CDF_norm_7, xHI_grid)\n",
    "print(z7_CI025)\n",
    "print(z7_CI975)"
   ]
  },
  {
   "cell_type": "code",
   "execution_count": 259,
   "metadata": {
    "ExecuteTime": {
     "end_time": "2020-09-13T22:38:26.648179Z",
     "start_time": "2020-09-13T22:38:26.393107Z"
    }
   },
   "outputs": [
    {
     "data": {
      "text/plain": [
       "<matplotlib.lines.Line2D at 0x7f89e7648050>"
      ]
     },
     "execution_count": 259,
     "metadata": {},
     "output_type": "execute_result"
    },
    {
     "data": {
      "image/png": "[encoded data removed]",
      "text/plain": [
       "<Figure size 640x480 with 1 Axes>"
      ]
     },
     "metadata": {},
     "output_type": "display_data"
    }
   ],
   "source": [
    "plt.plot(xHI_grid, normalized_post7)\n",
    "\n",
    "# 68% CI lower, median, upper limit\n",
    "plt.axvline(z7_CI16, color = 'red', lw = 0.5)\n",
    "plt.axvline(z7_CI50, color = 'red', lw = 0.5)\n",
    "plt.axvline(z7_CI84, color = 'red', lw = 0.5)\n",
    "\n",
    "# 95% CI lower, upper limit\n",
    "plt.axvline(z7_CI025, color = 'green', lw = 0.5)\n",
    "plt.axvline(z7_CI975, color = 'green', lw = 0.5)"
   ]
  },
  {
   "cell_type": "code",
   "execution_count": 233,
   "metadata": {
    "ExecuteTime": {
     "end_time": "2020-09-10T15:55:37.108704Z",
     "start_time": "2020-09-10T15:55:36.137466Z"
    }
   },
   "outputs": [
    {
     "data": {
      "text/plain": [
       "<matplotlib.lines.Line2D at 0x7f89e4fd9c10>"
      ]
     },
     "execution_count": 233,
     "metadata": {},
     "output_type": "execute_result"
    },
    {
     "data": {
      "image/png": "[encoded data removed]",
      "text/plain": [
       "<Figure size 921.6x633.6 with 1 Axes>"
      ]
     },
     "metadata": {},
     "output_type": "display_data"
    }
   ],
   "source": [
    "plt.plot(xHI_grid, CDF_norm_7)\n",
    "\n",
    "# 68% CI lower, median, upper limit\n",
    "plt.axhline(0.16, color = 'red', lw = 0.5)\n",
    "plt.axhline(0.5, color = 'red', lw = 0.5)\n",
    "plt.axhline(0.84, color = 'red', lw = 0.5)\n",
    "plt.axvline(z7_CI16, color = 'red', lw = 0.5)\n",
    "plt.axvline(z7_CI50, color = 'red', lw = 0.5)\n",
    "plt.axvline(z7_CI84, color = 'red', lw = 0.5)\n",
    "\n",
    "# 95% CI lower, upper limit\n",
    "plt.axhline(0.025, color = 'green', lw = 0.5)\n",
    "plt.axhline(0.975, color = 'green', lw = 0.5)\n",
    "plt.axvline(z7_CI025, color = 'green', lw = 0.5)\n",
    "plt.axvline(z7_CI975, color = 'green', lw = 0.5)\n"
   ]
  },
  {
   "cell_type": "markdown",
   "metadata": {},
   "source": [
    "# Test Code"
   ]
  },
  {
   "cell_type": "code",
   "execution_count": 97,
   "metadata": {
    "ExecuteTime": {
     "end_time": "2020-09-08T17:17:41.570506Z",
     "start_time": "2020-09-08T17:17:41.322145Z"
    }
   },
   "outputs": [
    {
     "name": "stdout",
     "output_type": "stream",
     "text": [
      "[0.00238276 0.04630646 0.01056031 0.0020145  0.00582859 0.02128509\n",
      " 0.00389536 0.15348608 0.21498316 0.01358588]\n",
      "[1.0488135  1.21518937 1.10276338 1.04488318 0.9236548  1.14589411\n",
      " 0.93758721 1.391773   1.46366276 0.88344152]\n",
      "[ 0.00238276  0.04630646  0.01056031  0.0020145  -0.00582859  0.02128509\n",
      " -0.00389536  0.15348608  0.21498316 -0.01358588]\n"
     ]
    }
   ],
   "source": [
    "#Test Cell\n",
    "np.random.seed(0)\n",
    "\n",
    "y_model = np.ones(10)\n",
    "y = np.random.rand(10)+0.5\n",
    "likelihood = (y_model - y)**2.\n",
    "print(likelihood)\n",
    "print(y)\n",
    "# likelihood[y_model >= y] = 0\n",
    "# print(likelihood)\n",
    "\n",
    "likelihood2 = -(y_model - y)**2.\n",
    "# print(likelihood2)\n",
    "likelihood[y_model >= y] = likelihood2[y_model >= y]\n",
    "print(likelihood)"
   ]
  }
 ],
 "metadata": {
  "kernelspec": {
   "display_name": "Python 3",
   "language": "python",
   "name": "python3"
  },
  "language_info": {
   "codemirror_mode": {
    "name": "ipython",
    "version": 3
   },
   "file_extension": ".py",
   "mimetype": "text/x-python",
   "name": "python",
   "nbconvert_exporter": "python",
   "pygments_lexer": "ipython3",
   "version": "3.7.6"
  },
  "toc": {
   "base_numbering": 1,
   "nav_menu": {},
   "number_sections": true,
   "sideBar": true,
   "skip_h1_title": false,
   "title_cell": "Table of Contents",
   "title_sidebar": "Contents",
   "toc_cell": false,
   "toc_position": {},
   "toc_section_display": true,
   "toc_window_display": false
  }
 },
 "nbformat": 4,
 "nbformat_minor": 4
}
