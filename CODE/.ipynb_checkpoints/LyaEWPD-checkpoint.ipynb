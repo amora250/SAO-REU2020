{
 "cells": [
  {
   "cell_type": "markdown",
   "metadata": {},
   "source": [
    "# Import packages and call variables"
   ]
  },
  {
   "cell_type": "code",
   "execution_count": 2,
   "metadata": {
    "ExecuteTime": {
     "end_time": "2020-07-17T16:38:50.867833Z",
     "start_time": "2020-07-17T16:38:43.922859Z"
    }
   },
   "outputs": [],
   "source": [
    "import numpy as np\n",
    "import matplotlib.pyplot as plt\n",
    "import pandas as pd\n",
    "import os\n",
    "import reionizer\n",
    "import matplotlib.lines as mlines\n",
    "\n",
    "\n",
    "\n",
    "## this is manipulated data from original code in README\n",
    "\n",
    "#/Users/alexamia/Desktop/REU2020_DATA/REU2020/data/models/M18_z\\=7.0_lnpWobs_Muv\n",
    "# Colors\n",
    "from palettable.colorbrewer.sequential import Purples_6\n",
    "from palettable.colorbrewer.sequential import Oranges_6\n",
    "from palettable.colorbrewer.sequential import Greens_6\n",
    "from palettable.colorbrewer.sequential import Blues_6\n",
    "from palettable.colorbrewer.sequential import Reds_6\n",
    "\n",
    "seqcols = [Blues_6.hex_colors, Greens_6.hex_colors, Purples_6.hex_colors, Oranges_6.hex_colors]\n",
    "\n",
    "pW_data_dir = os.environ['LYA_DATA_DIR']+'data/models/' \n",
    "pW_dir = pW_data_dir+'M18_z=7.0_lnpWobs_Muv/' #inside models folder call M18_z=7.0_lnpWobs_Muv folder\n",
    "pW_files = sorted(reionizer.insensitive_glob(pW_dir+'ln_pWobs_*.txt')) #calls each file in modelled data * will be replaced with corresponding xHI\n",
    "\n",
    "#Call xHI files\n",
    "xHI_tab = np.array([float(f.split('xHI=')[-1].split('.txt')[0]) for f in pW_files]) \n",
    "#For each float in pW_files, call each xHI, -1 returns last item and 0 returns first item, so it gets xHI=___.txt\n",
    "\n",
    "\n",
    "def load_pW_pandas(lypW_filename): ##defined parameter as my_function then eventually paseed lnpW_file into it\n",
    "    \"\"\"\n",
    "    Load table into pandas df\n",
    "    \"\"\"\n",
    "    lnpW_tab_df = pd.read_csv(lypW_filename, skiprows=1, delim_whitespace=True)\n",
    "    \n",
    "    # Shuffle the column names to remove the '#' from the first column\n",
    "    lnpW_tab_df.columns = np.roll(lnpW_tab_df.columns, -1)\n",
    "\n",
    "    # Cut off the last (empty) column\n",
    "    lnpW_tab_df = lnpW_tab_df.iloc[:, :-1]\n",
    "\n",
    "    return lnpW_tab_df\n",
    "\n",
    "#Now call arrays for corresponding xHI values and Muvs being looked at\n",
    "xHI_array = np.array([0.01,0.05, 0.36, 0.66, 0.87])\n",
    "Muv_array = np.array([-18.0,-22.0])\n"
   ]
  },
  {
   "cell_type": "markdown",
   "metadata": {},
   "source": [
    "# Plotting data"
   ]
  },
  {
   "cell_type": "code",
   "execution_count": null,
   "metadata": {
    "ExecuteTime": {
     "start_time": "2020-07-17T16:38:45.592Z"
    },
    "scrolled": true
   },
   "outputs": [],
   "source": [
    "# Plot\n",
    "plt.figure(figsize=(5,5))\n",
    "\n",
    "#For loop, regarding xHI and Muv\n",
    "for xx,xHI in enumerate (xHI_tab): #for each index and corresponding xHI value in list of xHI, call specific data file\n",
    "    if xHI in xHI_array:\n",
    "        pW_tab = load_pW_pandas(pW_files[xx]) #when all files are called, if the value run is within the array, then call that data file\n",
    "        \n",
    "        #Colors being used for plotting data, this statement is used bc otherwise, xHI=0.01 and 0.05 would be plotted with the same color\n",
    "        if xHI==0.01:\n",
    "                my_color = 'black'\n",
    "        else:\n",
    "                my_color = seqcols[int(xx/10)][-3]\n",
    "                \n",
    "        #Within if statement, this is for identifying xHI legend (values and corresponding colors)\n",
    "        for mm,Muv in enumerate (Muv_array):\n",
    "            if mm == 0: #first item in Muv_array, i.e. -18.0 (will show xHI values and corresponding colors as solid)\n",
    "                label = r'$\\overline{x}_\\mathrm{HI} = %.2f$' % xHI\n",
    "                ls = 'solid'\n",
    "            else: #second item in Muv_array, i.e. -22.0 (will not show on xHI legend)\n",
    "                label = None\n",
    "                ls = 'dashed'\n",
    "            \n",
    "            plt.plot(pW_tab['W'], pW_tab[f'{Muv}'], ls=ls, color=my_color, lw=2, label=label)\n",
    "            \n",
    "#Legends      \n",
    "leg_xHI = plt.legend(frameon=False, handletextpad=0.5)\n",
    "plt.gca().add_artist(leg_xHI)\n",
    "\n",
    "#This is the legend for Muv values, -18.0 is solid, -22.0 is dashed\n",
    "line1 = mlines.Line2D([], [], color='k', label=r'$M_\\mathrm{UV} = %.1f$' % Muv_array[0])\n",
    "line2 = mlines.Line2D([], [], color='k', ls='dashed', label=r'$M_\\mathrm{UV} = %.1f$' % Muv_array[1])\n",
    "plt.legend(handles=[line1, line2], loc='lower left', frameon=False, handletextpad=0.5, handlelength=1.5)\n",
    "\n",
    "plt.xlim(-10.,250.)\n",
    "plt.ylim(-10.,0.)\n",
    "\n",
    "plt.xlabel('$W$ [$\\mathrm{\\AA}$]')\n",
    "plt.ylabel(r'$\\ln{ p(W \\;|\\; \\overline{x}_\\mathrm{HI}, M_\\mathrm{UV})}$')\n",
    "plt.title(r'Ly-$\\alpha$ EW Probability Distribution')\n",
    "plt.tight_layout()\n",
    "\n",
    "# # save the figure\n",
    "# plt.savefig('LyaEWPD2.pdf', dpi=300, bbox_inches='tight')\n",
    "\n",
    "# plt.show()\n"
   ]
  },
  {
   "cell_type": "code",
   "execution_count": null,
   "metadata": {},
   "outputs": [],
   "source": []
  }
 ],
 "metadata": {
  "kernelspec": {
   "display_name": "Python 3",
   "language": "python",
   "name": "python3"
  },
  "language_info": {
   "codemirror_mode": {
    "name": "ipython",
    "version": 3
   },
   "file_extension": ".py",
   "mimetype": "text/x-python",
   "name": "python",
   "nbconvert_exporter": "python",
   "pygments_lexer": "ipython3",
   "version": "3.7.6"
  },
  "toc": {
   "base_numbering": 1,
   "nav_menu": {},
   "number_sections": true,
   "sideBar": true,
   "skip_h1_title": false,
   "title_cell": "Table of Contents",
   "title_sidebar": "Contents",
   "toc_cell": false,
   "toc_position": {},
   "toc_section_display": true,
   "toc_window_display": false
  }
 },
 "nbformat": 4,
 "nbformat_minor": 2
}
