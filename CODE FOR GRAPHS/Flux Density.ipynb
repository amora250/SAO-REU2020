{
 "cells": [
  {
   "cell_type": "code",
   "execution_count": 26,
   "metadata": {
    "ExecuteTime": {
     "end_time": "2020-06-19T17:54:35.159820Z",
     "start_time": "2020-06-19T17:54:35.151768Z"
    }
   },
   "outputs": [],
   "source": [
    "import numpy as np\n",
    "import matplotlib as mpl\n",
    "import matplotlib.pyplot as plt\n",
    "import pandas as pd\n",
    "import os\n",
    "import reionizer\n",
    "import astropy\n",
    "import astropy.cosmology\n",
    "from astropy.cosmology import Planck15 as P15\n",
    "from scipy import constants\n",
    "\n",
    "#Call data files\n",
    "LFz_data_dir = os.environ['LYA_DATA_DIR']+'data/models/' #calls directory\n",
    "LFz_dir = LFz_data_dir+'MTT15_UVLF/LF_pred/' #inside models folder call MTT15_UVLF/LF_pred/ folder\n",
    "LFz_files = sorted(reionizer.insensitive_glob(LFz_dir+'LF_pred_z*.txt')) \n",
    "#calls each file in modelled data * will be replaced with corresponding zval\n"
   ]
  },
  {
   "cell_type": "code",
   "execution_count": 18,
   "metadata": {
    "ExecuteTime": {
     "end_time": "2020-06-19T17:49:16.857745Z",
     "start_time": "2020-06-19T17:49:16.851153Z"
    }
   },
   "outputs": [],
   "source": [
    "#Call LF_pred files by calling file name at specific z value \n",
    "LFz_tab = np.array([float(f.split('LF_pred_z')[-1].split('.txt')[0]) for f in LFz_files]) \n",
    "\n",
    "#Function used to load files\n",
    "def load_uvf_pandas(ufl_filename): \n",
    "    \"\"\"\n",
    "    Load table into pandas df\n",
    "    \"\"\"\n",
    "    uvf_tab_df = pd.read_csv(ufl_filename, skiprows=1, delim_whitespace=True)\n",
    "    \n",
    "    # Shuffle the column names to remove the '#' from the first column\n",
    "    uvf_tab_df.columns = np.roll(uvf_tab_df.columns, -1)\n",
    "\n",
    "    # Cut off the last (empty) column\n",
    "    uvf_tab_df = uvf_tab_df.iloc[:, :-1]\n",
    "\n",
    "    return uvf_tab_df"
   ]
  },
  {
   "cell_type": "code",
   "execution_count": 49,
   "metadata": {
    "ExecuteTime": {
     "end_time": "2020-06-19T20:43:51.320720Z",
     "start_time": "2020-06-19T20:43:51.294886Z"
    }
   },
   "outputs": [
    {
     "name": "stdout",
     "output_type": "stream",
     "text": [
      "0      26.8\n",
      "1      27.4\n",
      "2      27.5\n",
      "3      27.5\n",
      "4      27.5\n",
      "       ... \n",
      "176    43.6\n",
      "177    43.6\n",
      "178    43.6\n",
      "179    43.4\n",
      "180    41.7\n",
      "Name: Muv, Length: 181, dtype: float64\n",
      "0      26.8\n",
      "1      27.4\n",
      "2      27.4\n",
      "3      27.5\n",
      "4      27.5\n",
      "       ... \n",
      "176    43.6\n",
      "177    43.6\n",
      "178    43.5\n",
      "179    43.3\n",
      "180    41.9\n",
      "Name: Muv, Length: 181, dtype: float64\n"
     ]
    }
   ],
   "source": [
    "zval_test = np.array([5.9,6.8]) #chosen redshifts\n",
    "beta = -2.0 #usually -2 for high z galaxies as per spectrum as power law\n",
    "pc_10 = 1e-6 #1 pc to Mpc\n",
    "wl_lya = 1216 #angstrom\n",
    "wl_uv = 1500 #angstrom\n",
    "f0 = 3.631e-23 #flux_0 in ergs^-1 cm^-2 Hz^-1\n",
    "c = constants.c #speed of light\n",
    "\n",
    "\n",
    "for zz,zval2 in enumerate (LFz_tab): \n",
    "    if zval2 in zval_test:\n",
    "        LF_tab = load_uvf_pandas(LFz_files[zz]) #load in files\n",
    "        Muv = LF_tab['Muv'] #Muv values in UVLF data\n",
    "        \n",
    "        def muv(Muv,d_l,zval2): #define apparent magnitude equation\n",
    "            d_l = P15.luminosity_distance(zval2).value #define distance modulus\n",
    "            p1 = Muv\n",
    "            p2 = 5*(np.log10(d_l/pc_10))\n",
    "            p3 = 2.5*(beta+1.0)*np.log10(zval2+1.0)\n",
    "            ans = p1 + p2 + p3\n",
    "            return ans\n",
    "        muv = muv(Muv,d_l,zval2)\n",
    "        muv_rounded = round(muv,1)\n",
    "        \n",
    "        #flux density of UV continuum at Lya wavelength from Muv for given zvals\n",
    "        fd_uv = f0 * (10**(-0.4*muv)) *(c/(wl_lya**2)) *((wl_lya/wl_uv)**(beta+2.0))\n",
    "        \n",
    "        #jacobian - partial EW / partial Lya Luminosity for given zvals \n",
    "        jacobian = 1/((4*np.pi*d_l**2.)*fd_uv)\n",
    "        print(muv_rounded)\n",
    "        \n",
    "        \n",
    "        "
   ]
  },
  {
   "cell_type": "code",
   "execution_count": null,
   "metadata": {},
   "outputs": [],
   "source": []
  }
 ],
 "metadata": {
  "kernelspec": {
   "display_name": "Python 3",
   "language": "python",
   "name": "python3"
  },
  "language_info": {
   "codemirror_mode": {
    "name": "ipython",
    "version": 3
   },
   "file_extension": ".py",
   "mimetype": "text/x-python",
   "name": "python",
   "nbconvert_exporter": "python",
   "pygments_lexer": "ipython3",
   "version": "3.7.6"
  },
  "toc": {
   "base_numbering": 1,
   "nav_menu": {},
   "number_sections": true,
   "sideBar": true,
   "skip_h1_title": false,
   "title_cell": "Table of Contents",
   "title_sidebar": "Contents",
   "toc_cell": false,
   "toc_position": {},
   "toc_section_display": true,
   "toc_window_display": false
  }
 },
 "nbformat": 4,
 "nbformat_minor": 4
}
