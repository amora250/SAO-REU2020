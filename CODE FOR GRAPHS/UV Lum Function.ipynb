{
 "cells": [
  {
   "cell_type": "code",
   "execution_count": 126,
   "metadata": {
    "ExecuteTime": {
     "end_time": "2020-06-15T20:47:50.816788Z",
     "start_time": "2020-06-15T20:47:50.799038Z"
    }
   },
   "outputs": [],
   "source": [
    "import numpy as np\n",
    "import matplotlib.pyplot as plt\n",
    "import pandas as pd\n",
    "import matplotlib.lines as mlines\n",
    "import os\n",
    "import reionizer\n",
    "\n",
    "\n",
    "# Colors\n",
    "from palettable.colorbrewer.sequential import Purples_6\n",
    "from palettable.colorbrewer.sequential import Oranges_6\n",
    "from palettable.colorbrewer.sequential import Greens_6\n",
    "from palettable.colorbrewer.sequential import Blues_6\n",
    "from palettable.colorbrewer.sequential import Reds_6\n",
    "\n",
    "seqcols = [Blues_6.hex_colors, Greens_6.hex_colors, Purples_6.hex_colors, Oranges_6.hex_colors]\n",
    "\n",
    "LFz_data_dir = os.environ['LYA_DATA_DIR']+'data/models/' \n",
    "LFz_dir = LFz_data_dir+'MTT15_UVLF/LF_pred/' #inside models folder call MTT15_UVLF/LF_pred/ folder\n",
    "LFz_files = sorted(reionizer.insensitive_glob(LFz_dir+'LF_pred_z*.txt')) #calls each file in modelled data * will be replaced with corresponding zval\n",
    "\n",
    "#Call LF_pred files\n",
    "LFz_tab = np.array([float(f.split('LF_pred_z')[-1].split('.txt')[0]) for f in LFz_files]) \n",
    "\n",
    "\n",
    "def load_uvf_pandas(ufl_filename): \n",
    "    \"\"\"\n",
    "    Load table into pandas df\n",
    "    \"\"\"\n",
    "    uvf_tab_df = pd.read_csv(ufl_filename, skiprows=1, delim_whitespace=True)\n",
    "    \n",
    "    # Shuffle the column names to remove the '#' from the first column\n",
    "    uvf_tab_df.columns = np.roll(uvf_tab_df.columns, -1)\n",
    "\n",
    "    # Cut off the last (empty) column\n",
    "    uvf_tab_df = uvf_tab_df.iloc[:, :-1]\n",
    "\n",
    "    return uvf_tab_df\n",
    "\n",
    "#Define variables by calling arrays \n",
    "zval_array = np.array([5.9,6.8])\n",
    "\n",
    "\n",
    "\n",
    "\n"
   ]
  },
  {
   "cell_type": "code",
   "execution_count": 145,
   "metadata": {
    "ExecuteTime": {
     "end_time": "2020-06-15T23:35:37.312160Z",
     "start_time": "2020-06-15T23:35:36.940122Z"
    }
   },
   "outputs": [
    {
     "name": "stderr",
     "output_type": "stream",
     "text": [
      "/Applications/anaconda3/lib/python3.7/site-packages/ipykernel_launcher.py:4: FutureWarning: elementwise comparison failed; returning scalar instead, but in the future will perform elementwise comparison\n",
      "  after removing the cwd from sys.path.\n"
     ]
    },
    {
     "data": {
      "text/plain": [
       "[<matplotlib.lines.Line2D at 0x1a2a113710>]"
      ]
     },
     "execution_count": 145,
     "metadata": {},
     "output_type": "execute_result"
    },
    {
     "data": {
      "image/png": "[encoded data removed]",
      "text/plain": [
       "<Figure size 360x720 with 2 Axes>"
      ]
     },
     "metadata": {
      "needs_background": "light"
     },
     "output_type": "display_data"
    }
   ],
   "source": [
    "# Plot\n",
    "\n",
    "for zz,zval in enumerate (LFz_tab): \n",
    "    if zval in zval_array:\n",
    "        LFz_tab = load_uvf_pandas(LFz_files[zz])\n",
    "#         if zval == 5.9:\n",
    "#             my_color='red'\n",
    "#         else:\n",
    "#             my_color='blue' \n",
    "        plt.plot(LFz_tab['Muv'],LFz_tab['ndens'],color=my_color)        \n",
    "\n",
    "fig = plt.figure(figsize=(5,10))\n",
    "axs= fig.subplots(ncols=1,nrows=2, gridspec_kw={'hspace': 0},sharex=True, sharey=True)\n",
    "plt.xlim(-24,-14)\n",
    "y=[5e-10,1e-5,1e-1]\n",
    "plt.semilogy(y)\n",
    "\n"
   ]
  },
  {
   "cell_type": "code",
   "execution_count": null,
   "metadata": {
    "ExecuteTime": {
     "end_time": "2020-06-15T20:20:54.484304Z",
     "start_time": "2020-06-15T20:20:54.116Z"
    }
   },
   "outputs": [],
   "source": [
    "#Plotting\n",
    "fig = plt.figure(figsize=(5,10))\n",
    "axs= fig.subplots(ncols=1,nrows=2, gridspec_kw={'hspace': 0},sharex=True, sharey=True)\n",
    "plt.plot(uvf_tab['Muv'],uvf_tab['ndens'],label='z~0',color='blue') \n",
    "plt.plot(uvf_tab1['Muv'],uvf_tab1['ndens'],label='z~0.3',color='green') \n",
    "\n",
    "plt.xlim(-24.,-14.)\n",
    "plt.semilogy()"
   ]
  },
  {
   "cell_type": "code",
   "execution_count": null,
   "metadata": {
    "ExecuteTime": {
     "end_time": "2020-06-10T18:44:47.549065Z",
     "start_time": "2020-06-10T18:44:47.542595Z"
    }
   },
   "outputs": [],
   "source": []
  },
  {
   "cell_type": "code",
   "execution_count": null,
   "metadata": {},
   "outputs": [],
   "source": []
  }
 ],
 "metadata": {
  "kernelspec": {
   "display_name": "Python 3",
   "language": "python",
   "name": "python3"
  },
  "language_info": {
   "codemirror_mode": {
    "name": "ipython",
    "version": 3
   },
   "file_extension": ".py",
   "mimetype": "text/x-python",
   "name": "python",
   "nbconvert_exporter": "python",
   "pygments_lexer": "ipython3",
   "version": "3.7.6"
  },
  "toc": {
   "base_numbering": 1,
   "nav_menu": {},
   "number_sections": true,
   "sideBar": true,
   "skip_h1_title": false,
   "title_cell": "Table of Contents",
   "title_sidebar": "Contents",
   "toc_cell": false,
   "toc_position": {},
   "toc_section_display": true,
   "toc_window_display": false
  }
 },
 "nbformat": 4,
 "nbformat_minor": 4
}
