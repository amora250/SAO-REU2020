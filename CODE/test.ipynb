{
 "cells": [
  {
   "cell_type": "code",
   "execution_count": 1,
   "metadata": {
    "ExecuteTime": {
     "end_time": "2020-07-21T17:14:14.671856Z",
     "start_time": "2020-07-21T17:14:13.098930Z"
    }
   },
   "outputs": [],
   "source": [
    "from IPython import display\n",
    "import numpy as np\n",
    "import matplotlib.pyplot as plt\n",
    "from scipy.optimize import minimize\n",
    "\n",
    "%matplotlib inline\n",
    "rnd = np.random.RandomState(seed=42)"
   ]
  },
  {
   "cell_type": "code",
   "execution_count": 2,
   "metadata": {
    "ExecuteTime": {
     "end_time": "2020-07-21T17:14:22.796675Z",
     "start_time": "2020-07-21T17:14:22.790746Z"
    }
   },
   "outputs": [],
   "source": [
    "n_data = 9 # number of data points\n",
    "a_true = 1.255 # randomly chosen truth\n",
    "b_true = 4.507 "
   ]
  },
  {
   "cell_type": "code",
   "execution_count": 3,
   "metadata": {
    "ExecuteTime": {
     "end_time": "2020-07-21T17:14:38.751159Z",
     "start_time": "2020-07-21T17:14:38.735000Z"
    }
   },
   "outputs": [],
   "source": [
    "# randomly generate some x values over some domain by sampling from a uniform distribution\n",
    "x = rnd.uniform(0, 2., n_data)\n",
    "#x = log10_lg\n",
    "x.sort() # sort the values in place\n",
    "\n",
    "# evaluate the true model at the given x values\n",
    "y = a_true*x + b_true\n",
    "\n",
    "# Heteroscedastic Gaussian uncertainties only in y direction\n",
    "y_err = rnd.uniform(0.1, 0.2, size=n_data) # randomly generate uncertainty for each datum\n",
    "#y_err = np.mean(yerror)\n",
    "y = rnd.normal(y, y_err) # re-sample y data with noise\n",
    "#y = Ko_ndens"
   ]
  },
  {
   "cell_type": "code",
   "execution_count": 5,
   "metadata": {
    "ExecuteTime": {
     "end_time": "2020-07-21T17:16:11.824433Z",
     "start_time": "2020-07-21T17:16:11.514653Z"
    }
   },
   "outputs": [
    {
     "data": {
      "image/png": "[encoded data removed]",
      "text/plain": [
       "<Figure size 432x288 with 1 Axes>"
      ]
     },
     "metadata": {
      "needs_background": "light"
     },
     "output_type": "display_data"
    }
   ],
   "source": [
    "datastyle = dict(linestyle='none', marker='o', color='k', ecolor='#666666')\n",
    "plt.errorbar(x, y, y_err, **datastyle)\n",
    "plt.xlabel(r'$log_{10}({L(\\mathrm{L_\\alpha})})$, [$erg/s$]')\n",
    "plt.ylabel(r'$\\phi(log_{10}(\\mathrm{L_\\alpha}))\\ [Mpc^-3]$')\n",
    "plt.tight_layout()"
   ]
  },
  {
   "cell_type": "code",
   "execution_count": 18,
   "metadata": {
    "ExecuteTime": {
     "end_time": "2020-07-21T17:58:32.013052Z",
     "start_time": "2020-07-21T17:58:32.003757Z"
    }
   },
   "outputs": [],
   "source": [
    "def line_model(pars, x):\n",
    "    \"\"\"\n",
    "    Evaluate a straight line model at the input x values.\n",
    "    \n",
    "    Parameters\n",
    "    ----------\n",
    "    pars : list, array\n",
    "        This should be a length-2 array or list containing the \n",
    "        parameter values (a, b) for the (slope, intercept).\n",
    "    x : numeric, list, array\n",
    "        The coordinate values.\n",
    "        \n",
    "    Returns\n",
    "    -------\n",
    "    y : array\n",
    "        The computed y values at each input x.\n",
    "    \"\"\"\n",
    "    return pars[0]*np.array(x) + pars[1]\n",
    "\n",
    "def weighted_squared_deviation(pars, x, y, y_err):\n",
    "    \"\"\"\n",
    "    Compute the weighted squared deviation between the data \n",
    "    (x, y, y_err) and the model points computed with the input \n",
    "    parameters (pars).\n",
    "    \"\"\"\n",
    "    chi = (y - line_model(pars, x)) / y_err\n",
    "    return np.sum(chi**2)"
   ]
  },
  {
   "cell_type": "code",
   "execution_count": 19,
   "metadata": {
    "ExecuteTime": {
     "end_time": "2020-07-21T17:58:32.481032Z",
     "start_time": "2020-07-21T17:58:32.474253Z"
    }
   },
   "outputs": [],
   "source": [
    "# make a 256x256 grid of parameter values centered on the true values\n",
    "a_grid = np.linspace(a_true-2., a_true+2, 256)\n",
    "b_grid = np.linspace(b_true-2., b_true+2, 256)\n",
    "a_grid,b_grid = np.meshgrid(a_grid, b_grid)\n",
    "ab_grid = np.vstack((a_grid.ravel(), b_grid.ravel())).T"
   ]
  },
  {
   "cell_type": "code",
   "execution_count": 20,
   "metadata": {
    "ExecuteTime": {
     "end_time": "2020-07-21T17:58:32.989651Z",
     "start_time": "2020-07-21T17:58:32.982388Z"
    }
   },
   "outputs": [],
   "source": [
    "x0 = [1., 1.] # starting guess for the optimizer \n",
    "\n",
    "result_sq = minimize(weighted_squared_deviation, x0=x0, \n",
    "                     args=(x, y, y_err), # passed to the weighted_*_deviation function after pars\n",
    "                     method='BFGS')\n",
    "\n",
    "best_pars_sq = result_sq.x"
   ]
  },
  {
   "cell_type": "code",
   "execution_count": 22,
   "metadata": {
    "ExecuteTime": {
     "end_time": "2020-07-21T18:11:31.392800Z",
     "start_time": "2020-07-21T18:11:31.116033Z"
    }
   },
   "outputs": [
    {
     "name": "stdout",
     "output_type": "stream",
     "text": [
      "      fun: 13.186069955514327\n",
      " hess_inv: array([[ 0.00126685, -0.00122482],\n",
      "       [-0.00122482,  0.00175654]])\n",
      "      jac: array([-8.34465027e-06, -5.60283661e-06])\n",
      "  message: 'Optimization terminated successfully.'\n",
      "     nfev: 28\n",
      "      nit: 5\n",
      "     njev: 7\n",
      "   status: 0\n",
      "  success: True\n",
      "        x: array([1.25017892, 4.48345389])\n",
      "[1.25017892 4.48345389]\n"
     ]
    },
    {
     "data": {
      "image/png": "[encoded data removed]",
      "text/plain": [
       "<Figure size 432x288 with 1 Axes>"
      ]
     },
     "metadata": {
      "needs_background": "light"
     },
     "output_type": "display_data"
    }
   ],
   "source": [
    "plt.errorbar(x, y, y_err, linestyle='none', marker='o', ecolor='#666666')\n",
    "\n",
    "x_grid = np.linspace(x.min()-0.1, x.max()+0.1, 128)\n",
    "\n",
    "#plot(interp. info, linemodel)?\n",
    "plt.plot(x_grid, line_model(best_pars_sq, x_grid), \n",
    "         marker='', linestyle='-', label='squared deviation')\n",
    "\n",
    "plt.xlabel('$x$')\n",
    "plt.ylabel('$y$')\n",
    "\n",
    "plt.legend(loc='best')\n",
    "plt.tight_layout()"
   ]
  },
  {
   "cell_type": "code",
   "execution_count": null,
   "metadata": {},
   "outputs": [],
   "source": []
  }
 ],
 "metadata": {
  "kernelspec": {
   "display_name": "Python 3",
   "language": "python",
   "name": "python3"
  },
  "language_info": {
   "codemirror_mode": {
    "name": "ipython",
    "version": 3
   },
   "file_extension": ".py",
   "mimetype": "text/x-python",
   "name": "python",
   "nbconvert_exporter": "python",
   "pygments_lexer": "ipython3",
   "version": "3.7.6"
  },
  "toc": {
   "base_numbering": 1,
   "nav_menu": {},
   "number_sections": true,
   "sideBar": true,
   "skip_h1_title": false,
   "title_cell": "Table of Contents",
   "title_sidebar": "Contents",
   "toc_cell": false,
   "toc_position": {},
   "toc_section_display": true,
   "toc_window_display": false
  }
 },
 "nbformat": 4,
 "nbformat_minor": 4
}
