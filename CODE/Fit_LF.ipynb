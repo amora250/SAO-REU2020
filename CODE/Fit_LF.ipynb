{
 "cells": [
  {
   "cell_type": "code",
   "execution_count": 93,
   "metadata": {
    "ExecuteTime": {
     "end_time": "2020-09-08T17:17:32.245364Z",
     "start_time": "2020-09-08T17:17:32.024618Z"
    }
   },
   "outputs": [],
   "source": [
    "import numpy as np\n",
    "import matplotlib.pyplot as plt\n",
    "import run_LF as LF\n",
    "\n",
    "%matplotlib inline\n",
    "plt.style.use(['seaborn-poster','seaborn-ticks'])"
   ]
  },
  {
   "cell_type": "code",
   "execution_count": 401,
   "metadata": {
    "ExecuteTime": {
     "end_time": "2020-09-20T20:24:17.946571Z",
     "start_time": "2020-09-20T20:24:17.489110Z"
    }
   },
   "outputs": [],
   "source": [
    "%reload_ext autoreload\n",
    "%autoreload 2"
   ]
  },
  {
   "cell_type": "markdown",
   "metadata": {},
   "source": [
    "# Defining observational variables from Konno, Ouchi data"
   ]
  },
  {
   "cell_type": "code",
   "execution_count": 402,
   "metadata": {
    "ExecuteTime": {
     "end_time": "2020-09-20T20:24:18.984035Z",
     "start_time": "2020-09-20T20:24:18.622608Z"
    }
   },
   "outputs": [],
   "source": [
    "Ouchi_info6 = LF.ouchi_data_plt(zval_test = 6.6, plot = False, mean = False)\n",
    "Konno_info6 = LF.konno_data_plt(zval_test = 6.6, plot = False, mean = False)\n",
    "Konno_info7 = LF.konno_data_plt(zval_test = 7.3, plot = False, mean = False)\n",
    "Shibuya_info7 = LF.shibuya_data_plt(zval_test = 7.3, plot = False, mean = False)\n",
    "Zheng_info70 = LF.zheng_data_plt(zval_test = 7.0, plot = False, mean = False)\n",
    "Ota_info70 = LF.ota_data_plt(zval_test = 7.0, plot = False, mean = False)\n",
    "Itoh_info70 = LF.itoh_data_plt(zval_test = 7.0, plot = False, mean = False)"
   ]
  },
  {
   "cell_type": "code",
   "execution_count": 264,
   "metadata": {
    "ExecuteTime": {
     "end_time": "2020-09-16T19:48:44.595407Z",
     "start_time": "2020-09-16T19:48:44.402791Z"
    }
   },
   "outputs": [],
   "source": [
    "# z = 6.6\n",
    "log_L6 = np.concatenate((Ouchi_info6[0], Konno_info6[0]), axis=None)\n",
    "ndens6 = np.concatenate((Ouchi_info6[1], Konno_info6[1]), axis=None)\n",
    "yerror_l6 = np.concatenate((Ouchi_info6[2][0], Konno_info6[2][0]), axis=None)\n",
    "yerror_u6 = np.concatenate((Ouchi_info6[2][1], Konno_info6[2][1]), axis=None)"
   ]
  },
  {
   "cell_type": "code",
   "execution_count": 403,
   "metadata": {
    "ExecuteTime": {
     "end_time": "2020-09-20T20:24:21.846255Z",
     "start_time": "2020-09-20T20:24:21.601655Z"
    }
   },
   "outputs": [],
   "source": [
    "# z = 7.0\n",
    "# log_L70 = Zheng_info70[0]\n",
    "# ndens70 = Zheng_info70[1]\n",
    "# yerror_l70 = Zheng_info70[2][0]\n",
    "# yerror_u70 = Zheng_info70[2][1]\n",
    "# print(ndens70)\n",
    "# print(yerror_l70)\n",
    "# print(yerror_u70)\n",
    "log_L70 = np.concatenate((Zheng_info70[0], Ota_info70[0], Itoh_info70[0]), axis=None)\n",
    "ndens70 = np.concatenate((Zheng_info70[1], Ota_info70[1], Itoh_info70[1]), axis=None)\n",
    "yerror_l70 = np.concatenate((Zheng_info70[2][0], Ota_info70[2][0], Itoh_info70[2][0]), axis=None)\n",
    "yerror_u70 = np.concatenate((Zheng_info70[2][1], Ota_info70[2][1], Itoh_info70[2][1]), axis=None)"
   ]
  },
  {
   "cell_type": "code",
   "execution_count": 292,
   "metadata": {
    "ExecuteTime": {
     "end_time": "2020-09-16T21:53:33.664121Z",
     "start_time": "2020-09-16T21:53:33.484299Z"
    }
   },
   "outputs": [],
   "source": [
    "# z = 7.3\n",
    "log_L7 = Konno_info7[0]\n",
    "ndens7 = Konno_info7[1]\n",
    "yerror_l7 = Konno_info7[2][0]\n",
    "yerror_u7 = Konno_info7[2][1]\n",
    "# log_L7 = np.concatenate((Shibuya_info7[0], Konno_info7[0]), axis=None)\n",
    "# ndens7 = np.concatenate((Shibuya_info7[1], Konno_info7[1]), axis=None)\n",
    "# yerror_l7 = np.concatenate((Shibuya_info7[2][0], Konno_info7[2][0]), axis=None)\n",
    "# yerror_u7 = np.concatenate((Shibuya_info7[2][1], Konno_info7[2][1]), axis=None)"
   ]
  },
  {
   "cell_type": "markdown",
   "metadata": {},
   "source": [
    "# Establishing prior, likelihood, & posterior"
   ]
  },
  {
   "cell_type": "code",
   "execution_count": 395,
   "metadata": {
    "ExecuteTime": {
     "end_time": "2020-09-20T20:20:20.616801Z",
     "start_time": "2020-09-20T20:20:20.289218Z"
    }
   },
   "outputs": [
    {
     "name": "stderr",
     "output_type": "stream",
     "text": [
      "/Applications/anaconda3/lib/python3.7/site-packages/ipykernel_launcher.py:27: RuntimeWarning: divide by zero encountered in log\n"
     ]
    },
    {
     "data": {
      "text/plain": [
       "<matplotlib.collections.PathCollection at 0x7f89d579a190>"
      ]
     },
     "execution_count": 395,
     "metadata": {},
     "output_type": "execute_result"
    },
    {
     "data": {
      "image/png": "[encoded data removed]",
      "text/plain": [
       "<Figure size 640x480 with 1 Axes>"
      ]
     },
     "metadata": {},
     "output_type": "display_data"
    }
   ],
   "source": [
    "xHI_min = 0.\n",
    "xHI_max = 0.95\n",
    "\n",
    "# xHI_grid = np.linspace(-0.1,1.1)\n",
    "xHI_grid = np.arange(-0.1, 1.1, 0.01)\n",
    "def log_prior(theta):\n",
    "    \"\"\"\n",
    "    Returns log(prior) for a given parameter vector\n",
    "    \n",
    "    Parameters\n",
    "    ----------\n",
    "    theta: list, array-like\n",
    "        List of parameters in the form [slope, intercept]\n",
    "    \n",
    "    Returns\n",
    "    -------\n",
    "    ln_prior: float\n",
    "        Natural log of the prior probability function\n",
    "    \"\"\"\n",
    "    xHI = theta\n",
    "    prob_xHI = np.zeros(len(xHI))\n",
    "    \n",
    "    \n",
    "    prob_xHI[(xHI_min <= xHI) & (xHI <= xHI_max)] = 1. # Log prior (not worrying about normalization)\n",
    "\n",
    "\n",
    "    ln_prior = np.log(prob_xHI)  # Log of the probability\n",
    "    return ln_prior\n",
    "# plt.scatter(xHI_grid, [np.exp(log_prior(xHI)) for xHI in xHI_grid])\n",
    "plt.scatter(xHI_grid, np.exp(log_prior(xHI_grid)))"
   ]
  },
  {
   "cell_type": "code",
   "execution_count": 396,
   "metadata": {
    "ExecuteTime": {
     "end_time": "2020-09-20T20:20:21.420739Z",
     "start_time": "2020-09-20T20:20:21.206844Z"
    }
   },
   "outputs": [],
   "source": [
    "def log_likelihood(theta, x, y, dy_l, dy_u, z):\n",
    "    \"\"\"\n",
    "    Returns log(likelihood) for a given parameter vector\n",
    "    \n",
    "    Parameters\n",
    "    ----------\n",
    "    theta: list, array-like\n",
    "        List of parameters in the form [slope, intercept]\n",
    "    x: list, array-like\n",
    "        x-values of your data\n",
    "    y: list, array-like\n",
    "        y-values of your data\n",
    "    dy: list, array-like\n",
    "        Uncertainties on the y-values of your data\n",
    "    \n",
    "    Returns\n",
    "    -------\n",
    "    ln_like: float\n",
    "        Natural log of the likelihood function\n",
    "    \"\"\"\n",
    "    xHI_mod = theta\n",
    "    \n",
    "    #Nearest neighbor to xHI list\n",
    "    idx = (np.abs(LF.xHI_list - xHI_mod)).argmin()\n",
    "    xHI_grid_match = LF.xHI_list[idx]\n",
    "    \n",
    "    y_model = LF.xHI_model(xHI_grid_match, obs_L = x, zval= z)\n",
    "    \n",
    "    #Defining split-likelihood\n",
    "    #chi2 use split\n",
    "    A = (np.sqrt(2.*np.pi)*(((dy_u + dy_l)/2.)**2.))**(-1)\n",
    "    \n",
    "    likelihood = A * np.exp(-0.5* ((y_model - y)**2.)/(dy_u**2.))\n",
    "\n",
    "    likelihood2 = A * np.exp(-0.5* ((y_model - y)**2.)/(dy_l**2.))\n",
    "    \n",
    "    likelihood[y_model >= y] = likelihood2[y_model >= y]\n",
    "    ln_like = np.sum(np.log(likelihood))\n",
    "   \n",
    "    return ln_like\n"
   ]
  },
  {
   "cell_type": "code",
   "execution_count": 397,
   "metadata": {
    "ExecuteTime": {
     "end_time": "2020-09-20T20:20:22.086826Z",
     "start_time": "2020-09-20T20:20:21.881890Z"
    }
   },
   "outputs": [],
   "source": [
    "def log_posterior(theta, x, y, dy_l, dy_u, z):\n",
    "    \"\"\"\n",
    "    Returns log(posterior) for a given parameter vector\n",
    "    \n",
    "    Parameters\n",
    "    ----------\n",
    "    theta: list, array-like\n",
    "        List of parameters in the form [slope, intercept]\n",
    "    x: list, array-like\n",
    "        x-values of your data\n",
    "    y: list, array-like\n",
    "        y-values of your data\n",
    "    dy: list, array-like\n",
    "        Uncertainties on the y-values of your data\n",
    "    \n",
    "    Returns\n",
    "    -------\n",
    "    ln_post: float\n",
    "        Natural log of the posterior probability function\n",
    "    \"\"\"\n",
    "\n",
    "    ln_post = log_prior(theta) + np.array([log_likelihood(t, x, y, dy_l, dy_u, z) for t in theta])  # From Bayes Theorem\n",
    "    return ln_post"
   ]
  },
  {
   "cell_type": "code",
   "execution_count": 359,
   "metadata": {
    "ExecuteTime": {
     "end_time": "2020-09-20T19:56:07.638298Z",
     "start_time": "2020-09-20T19:55:18.378818Z"
    }
   },
   "outputs": [
    {
     "name": "stderr",
     "output_type": "stream",
     "text": [
      "/Applications/anaconda3/lib/python3.7/site-packages/ipykernel_launcher.py:27: RuntimeWarning: divide by zero encountered in log\n"
     ]
    }
   ],
   "source": [
    "# z = 6.6\n",
    "log_post66 = log_posterior(theta = xHI_grid, x = log_L6, y = ndens6, dy_l = yerror_l6, dy_u = yerror_u6, z = 6.6)"
   ]
  },
  {
   "cell_type": "code",
   "execution_count": 404,
   "metadata": {
    "ExecuteTime": {
     "end_time": "2020-09-20T20:24:59.947322Z",
     "start_time": "2020-09-20T20:24:26.460747Z"
    }
   },
   "outputs": [
    {
     "name": "stderr",
     "output_type": "stream",
     "text": [
      "/Applications/anaconda3/lib/python3.7/site-packages/ipykernel_launcher.py:27: RuntimeWarning: divide by zero encountered in log\n",
      "/Applications/anaconda3/lib/python3.7/site-packages/ipykernel_launcher.py:33: RuntimeWarning: divide by zero encountered in true_divide\n",
      "/Applications/anaconda3/lib/python3.7/site-packages/ipykernel_launcher.py:38: RuntimeWarning: divide by zero encountered in log\n"
     ]
    }
   ],
   "source": [
    "# z = 7.0\n",
    "log_post70 = log_posterior(theta = xHI_grid, x = log_L70, y = ndens70, dy_l = yerror_l70, dy_u = yerror_u70, z = 7.0)"
   ]
  },
  {
   "cell_type": "code",
   "execution_count": 381,
   "metadata": {
    "ExecuteTime": {
     "end_time": "2020-09-20T20:17:14.435872Z",
     "start_time": "2020-09-20T20:17:06.478449Z"
    },
    "scrolled": true
   },
   "outputs": [
    {
     "name": "stderr",
     "output_type": "stream",
     "text": [
      "/Applications/anaconda3/lib/python3.7/site-packages/ipykernel_launcher.py:27: RuntimeWarning: divide by zero encountered in log\n"
     ]
    },
    {
     "ename": "KeyboardInterrupt",
     "evalue": "",
     "output_type": "error",
     "traceback": [
      "\u001b[0;31m---------------------------------------------------------------------------\u001b[0m",
      "\u001b[0;31mKeyboardInterrupt\u001b[0m                         Traceback (most recent call last)",
      "\u001b[0;32m<ipython-input-381-f11d241aa1d2>\u001b[0m in \u001b[0;36m<module>\u001b[0;34m\u001b[0m\n\u001b[1;32m      1\u001b[0m \u001b[0;31m# z = 7.3\u001b[0m\u001b[0;34m\u001b[0m\u001b[0;34m\u001b[0m\u001b[0;34m\u001b[0m\u001b[0m\n\u001b[0;32m----> 2\u001b[0;31m \u001b[0mlog_post73\u001b[0m \u001b[0;34m=\u001b[0m \u001b[0mlog_posterior\u001b[0m\u001b[0;34m(\u001b[0m\u001b[0mtheta\u001b[0m \u001b[0;34m=\u001b[0m \u001b[0mxHI_grid\u001b[0m\u001b[0;34m,\u001b[0m \u001b[0mx\u001b[0m \u001b[0;34m=\u001b[0m \u001b[0mlog_L7\u001b[0m\u001b[0;34m,\u001b[0m \u001b[0my\u001b[0m \u001b[0;34m=\u001b[0m \u001b[0mndens7\u001b[0m\u001b[0;34m,\u001b[0m \u001b[0mdy_l\u001b[0m \u001b[0;34m=\u001b[0m \u001b[0myerror_l7\u001b[0m\u001b[0;34m,\u001b[0m \u001b[0mdy_u\u001b[0m \u001b[0;34m=\u001b[0m \u001b[0myerror_u7\u001b[0m\u001b[0;34m,\u001b[0m \u001b[0mz\u001b[0m \u001b[0;34m=\u001b[0m \u001b[0;36m7.3\u001b[0m\u001b[0;34m)\u001b[0m\u001b[0;34m\u001b[0m\u001b[0;34m\u001b[0m\u001b[0m\n\u001b[0m",
      "\u001b[0;32m<ipython-input-374-ed7c6a114266>\u001b[0m in \u001b[0;36mlog_posterior\u001b[0;34m(theta, x, y, dy_l, dy_u, z)\u001b[0m\n\u001b[1;32m     20\u001b[0m     \"\"\"\n\u001b[1;32m     21\u001b[0m \u001b[0;34m\u001b[0m\u001b[0m\n\u001b[0;32m---> 22\u001b[0;31m     \u001b[0mln_post\u001b[0m \u001b[0;34m=\u001b[0m \u001b[0mlog_prior\u001b[0m\u001b[0;34m(\u001b[0m\u001b[0mtheta\u001b[0m\u001b[0;34m)\u001b[0m \u001b[0;34m+\u001b[0m \u001b[0mnp\u001b[0m\u001b[0;34m.\u001b[0m\u001b[0marray\u001b[0m\u001b[0;34m(\u001b[0m\u001b[0;34m[\u001b[0m\u001b[0mlog_likelihood\u001b[0m\u001b[0;34m(\u001b[0m\u001b[0mt\u001b[0m\u001b[0;34m,\u001b[0m \u001b[0mx\u001b[0m\u001b[0;34m,\u001b[0m \u001b[0my\u001b[0m\u001b[0;34m,\u001b[0m \u001b[0mdy_l\u001b[0m\u001b[0;34m,\u001b[0m \u001b[0mdy_u\u001b[0m\u001b[0;34m,\u001b[0m \u001b[0mz\u001b[0m\u001b[0;34m)\u001b[0m \u001b[0;32mfor\u001b[0m \u001b[0mt\u001b[0m \u001b[0;32min\u001b[0m \u001b[0mtheta\u001b[0m\u001b[0;34m]\u001b[0m\u001b[0;34m)\u001b[0m  \u001b[0;31m# From Bayes Theorem\u001b[0m\u001b[0;34m\u001b[0m\u001b[0;34m\u001b[0m\u001b[0m\n\u001b[0m\u001b[1;32m     23\u001b[0m     \u001b[0;32mreturn\u001b[0m \u001b[0mln_post\u001b[0m\u001b[0;34m\u001b[0m\u001b[0;34m\u001b[0m\u001b[0m\n",
      "\u001b[0;32m<ipython-input-374-ed7c6a114266>\u001b[0m in \u001b[0;36m<listcomp>\u001b[0;34m(.0)\u001b[0m\n\u001b[1;32m     20\u001b[0m     \"\"\"\n\u001b[1;32m     21\u001b[0m \u001b[0;34m\u001b[0m\u001b[0m\n\u001b[0;32m---> 22\u001b[0;31m     \u001b[0mln_post\u001b[0m \u001b[0;34m=\u001b[0m \u001b[0mlog_prior\u001b[0m\u001b[0;34m(\u001b[0m\u001b[0mtheta\u001b[0m\u001b[0;34m)\u001b[0m \u001b[0;34m+\u001b[0m \u001b[0mnp\u001b[0m\u001b[0;34m.\u001b[0m\u001b[0marray\u001b[0m\u001b[0;34m(\u001b[0m\u001b[0;34m[\u001b[0m\u001b[0mlog_likelihood\u001b[0m\u001b[0;34m(\u001b[0m\u001b[0mt\u001b[0m\u001b[0;34m,\u001b[0m \u001b[0mx\u001b[0m\u001b[0;34m,\u001b[0m \u001b[0my\u001b[0m\u001b[0;34m,\u001b[0m \u001b[0mdy_l\u001b[0m\u001b[0;34m,\u001b[0m \u001b[0mdy_u\u001b[0m\u001b[0;34m,\u001b[0m \u001b[0mz\u001b[0m\u001b[0;34m)\u001b[0m \u001b[0;32mfor\u001b[0m \u001b[0mt\u001b[0m \u001b[0;32min\u001b[0m \u001b[0mtheta\u001b[0m\u001b[0;34m]\u001b[0m\u001b[0;34m)\u001b[0m  \u001b[0;31m# From Bayes Theorem\u001b[0m\u001b[0;34m\u001b[0m\u001b[0;34m\u001b[0m\u001b[0m\n\u001b[0m\u001b[1;32m     23\u001b[0m     \u001b[0;32mreturn\u001b[0m \u001b[0mln_post\u001b[0m\u001b[0;34m\u001b[0m\u001b[0;34m\u001b[0m\u001b[0m\n",
      "\u001b[0;32m<ipython-input-373-fc5d3a0967e4>\u001b[0m in \u001b[0;36mlog_likelihood\u001b[0;34m(theta, x, y, dy_l, dy_u, z)\u001b[0m\n\u001b[1;32m     25\u001b[0m     \u001b[0mxHI_grid_match\u001b[0m \u001b[0;34m=\u001b[0m \u001b[0mLF\u001b[0m\u001b[0;34m.\u001b[0m\u001b[0mxHI_list\u001b[0m\u001b[0;34m[\u001b[0m\u001b[0midx\u001b[0m\u001b[0;34m]\u001b[0m\u001b[0;34m\u001b[0m\u001b[0;34m\u001b[0m\u001b[0m\n\u001b[1;32m     26\u001b[0m \u001b[0;34m\u001b[0m\u001b[0m\n\u001b[0;32m---> 27\u001b[0;31m     \u001b[0my_model\u001b[0m \u001b[0;34m=\u001b[0m \u001b[0mLF\u001b[0m\u001b[0;34m.\u001b[0m\u001b[0mxHI_model\u001b[0m\u001b[0;34m(\u001b[0m\u001b[0mxHI_grid_match\u001b[0m\u001b[0;34m,\u001b[0m \u001b[0mobs_L\u001b[0m \u001b[0;34m=\u001b[0m \u001b[0mx\u001b[0m\u001b[0;34m,\u001b[0m \u001b[0mzval\u001b[0m\u001b[0;34m=\u001b[0m \u001b[0mz\u001b[0m\u001b[0;34m)\u001b[0m\u001b[0;34m\u001b[0m\u001b[0;34m\u001b[0m\u001b[0m\n\u001b[0m\u001b[1;32m     28\u001b[0m \u001b[0;34m\u001b[0m\u001b[0m\n\u001b[1;32m     29\u001b[0m     \u001b[0;31m#Defining split-likelihood\u001b[0m\u001b[0;34m\u001b[0m\u001b[0;34m\u001b[0m\u001b[0;34m\u001b[0m\u001b[0m\n",
      "\u001b[0;32m~/Desktop/REU2020/SAO-REU2020/CODE/run_LF.py\u001b[0m in \u001b[0;36mxHI_model\u001b[0;34m(xHI, obs_L, zval)\u001b[0m\n\u001b[1;32m    623\u001b[0m     \"\"\"\n\u001b[1;32m    624\u001b[0m     \u001b[0;31m#Interpolating Konno and lum grid\u001b[0m\u001b[0;34m\u001b[0m\u001b[0;34m\u001b[0m\u001b[0;34m\u001b[0m\u001b[0m\n\u001b[0;32m--> 625\u001b[0;31m     \u001b[0mxHI_LF_calibrate\u001b[0m \u001b[0;34m=\u001b[0m \u001b[0mmake_lya_LF\u001b[0m\u001b[0;34m(\u001b[0m\u001b[0mzval_test\u001b[0m \u001b[0;34m=\u001b[0m \u001b[0mzval\u001b[0m\u001b[0;34m,\u001b[0m \u001b[0mxHI_test\u001b[0m \u001b[0;34m=\u001b[0m \u001b[0mxHI\u001b[0m\u001b[0;34m,\u001b[0m \u001b[0mF\u001b[0m \u001b[0;34m=\u001b[0m \u001b[0;36m0.615\u001b[0m\u001b[0;34m,\u001b[0m \u001b[0mplot\u001b[0m\u001b[0;34m=\u001b[0m\u001b[0;32mFalse\u001b[0m\u001b[0;34m,\u001b[0m\u001b[0mlog\u001b[0m\u001b[0;34m=\u001b[0m\u001b[0;32mTrue\u001b[0m\u001b[0;34m)\u001b[0m\u001b[0;34m\u001b[0m\u001b[0;34m\u001b[0m\u001b[0m\n\u001b[0m\u001b[1;32m    626\u001b[0m     \u001b[0mLF_interp\u001b[0m \u001b[0;34m=\u001b[0m \u001b[0minterpolate\u001b[0m\u001b[0;34m.\u001b[0m\u001b[0minterp1d\u001b[0m\u001b[0;34m(\u001b[0m\u001b[0mlog10_lg\u001b[0m\u001b[0;34m,\u001b[0m \u001b[0mxHI_LF_calibrate\u001b[0m\u001b[0;34m)\u001b[0m\u001b[0;34m\u001b[0m\u001b[0;34m\u001b[0m\u001b[0m\n\u001b[1;32m    627\u001b[0m     \u001b[0mnew_phi_Li\u001b[0m \u001b[0;34m=\u001b[0m \u001b[0mLF_interp\u001b[0m\u001b[0;34m(\u001b[0m\u001b[0mobs_L\u001b[0m\u001b[0;34m)\u001b[0m\u001b[0;34m\u001b[0m\u001b[0;34m\u001b[0m\u001b[0m\n",
      "\u001b[0;32m~/Desktop/REU2020/SAO-REU2020/CODE/run_LF.py\u001b[0m in \u001b[0;36mmake_lya_LF\u001b[0;34m(zval_test, xHI_test, F, plot, log)\u001b[0m\n\u001b[1;32m    523\u001b[0m \u001b[0;34m\u001b[0m\u001b[0m\n\u001b[1;32m    524\u001b[0m     \u001b[0;31m# Make p(L_Lya | Muv)\u001b[0m\u001b[0;34m\u001b[0m\u001b[0;34m\u001b[0m\u001b[0;34m\u001b[0m\u001b[0m\n\u001b[0;32m--> 525\u001b[0;31m     \u001b[0mMuv_grid\u001b[0m\u001b[0;34m,\u001b[0m \u001b[0mnew_pLya\u001b[0m \u001b[0;34m=\u001b[0m \u001b[0mmake_pL_Lya\u001b[0m\u001b[0;34m(\u001b[0m\u001b[0mzval_test\u001b[0m\u001b[0;34m,\u001b[0m \u001b[0mxHI_test\u001b[0m\u001b[0;34m)\u001b[0m\u001b[0;34m\u001b[0m\u001b[0;34m\u001b[0m\u001b[0m\n\u001b[0m\u001b[1;32m    526\u001b[0m \u001b[0;34m\u001b[0m\u001b[0m\n\u001b[1;32m    527\u001b[0m     \u001b[0;31m#Load in z value file\u001b[0m\u001b[0;34m\u001b[0m\u001b[0;34m\u001b[0m\u001b[0;34m\u001b[0m\u001b[0m\n",
      "\u001b[0;32m~/Desktop/REU2020/SAO-REU2020/CODE/run_LF.py\u001b[0m in \u001b[0;36mmake_pL_Lya\u001b[0;34m(zval_test, xHI_test)\u001b[0m\n\u001b[1;32m    492\u001b[0m \u001b[0;34m\u001b[0m\u001b[0m\n\u001b[1;32m    493\u001b[0m     \u001b[0;31m# P(Lya|Muv)\u001b[0m\u001b[0;34m\u001b[0m\u001b[0;34m\u001b[0m\u001b[0;34m\u001b[0m\u001b[0m\n\u001b[0;32m--> 494\u001b[0;31m     \u001b[0mpLya\u001b[0m \u001b[0;34m=\u001b[0m \u001b[0mjacobian\u001b[0m \u001b[0;34m*\u001b[0m \u001b[0mpEW_vals_Muv_grid\u001b[0m\u001b[0;34m\u001b[0m\u001b[0;34m\u001b[0m\u001b[0m\n\u001b[0m\u001b[1;32m    495\u001b[0m \u001b[0;34m\u001b[0m\u001b[0m\n\u001b[1;32m    496\u001b[0m     \u001b[0;31m#Normalizes pLya to correctly plot lum_lya vs pLya\u001b[0m\u001b[0;34m\u001b[0m\u001b[0;34m\u001b[0m\u001b[0;34m\u001b[0m\u001b[0m\n",
      "\u001b[0;32m/Applications/anaconda3/lib/python3.7/site-packages/astropy/units/quantity.py\u001b[0m in \u001b[0;36m__mul__\u001b[0;34m(self, other)\u001b[0m\n\u001b[1;32m    945\u001b[0m                 \u001b[0;32mreturn\u001b[0m \u001b[0mNotImplemented\u001b[0m\u001b[0;34m\u001b[0m\u001b[0;34m\u001b[0m\u001b[0m\n\u001b[1;32m    946\u001b[0m \u001b[0;34m\u001b[0m\u001b[0m\n\u001b[0;32m--> 947\u001b[0;31m         \u001b[0;32mreturn\u001b[0m \u001b[0msuper\u001b[0m\u001b[0;34m(\u001b[0m\u001b[0;34m)\u001b[0m\u001b[0;34m.\u001b[0m\u001b[0m__mul__\u001b[0m\u001b[0;34m(\u001b[0m\u001b[0mother\u001b[0m\u001b[0;34m)\u001b[0m\u001b[0;34m\u001b[0m\u001b[0;34m\u001b[0m\u001b[0m\n\u001b[0m\u001b[1;32m    948\u001b[0m \u001b[0;34m\u001b[0m\u001b[0m\n\u001b[1;32m    949\u001b[0m     \u001b[0;32mdef\u001b[0m \u001b[0m__imul__\u001b[0m\u001b[0;34m(\u001b[0m\u001b[0mself\u001b[0m\u001b[0;34m,\u001b[0m \u001b[0mother\u001b[0m\u001b[0;34m)\u001b[0m\u001b[0;34m:\u001b[0m\u001b[0;34m\u001b[0m\u001b[0;34m\u001b[0m\u001b[0m\n",
      "\u001b[0;32m/Applications/anaconda3/lib/python3.7/site-packages/astropy/units/quantity.py\u001b[0m in \u001b[0;36m__array_ufunc__\u001b[0;34m(self, function, method, *inputs, **kwargs)\u001b[0m\n\u001b[1;32m    479\u001b[0m \u001b[0;34m\u001b[0m\u001b[0m\n\u001b[1;32m    480\u001b[0m         \u001b[0;31m# Call our superclass's __array_ufunc__\u001b[0m\u001b[0;34m\u001b[0m\u001b[0;34m\u001b[0m\u001b[0;34m\u001b[0m\u001b[0m\n\u001b[0;32m--> 481\u001b[0;31m         \u001b[0mresult\u001b[0m \u001b[0;34m=\u001b[0m \u001b[0msuper\u001b[0m\u001b[0;34m(\u001b[0m\u001b[0;34m)\u001b[0m\u001b[0;34m.\u001b[0m\u001b[0m__array_ufunc__\u001b[0m\u001b[0;34m(\u001b[0m\u001b[0mfunction\u001b[0m\u001b[0;34m,\u001b[0m \u001b[0mmethod\u001b[0m\u001b[0;34m,\u001b[0m \u001b[0;34m*\u001b[0m\u001b[0marrays\u001b[0m\u001b[0;34m,\u001b[0m \u001b[0;34m**\u001b[0m\u001b[0mkwargs\u001b[0m\u001b[0;34m)\u001b[0m\u001b[0;34m\u001b[0m\u001b[0;34m\u001b[0m\u001b[0m\n\u001b[0m\u001b[1;32m    482\u001b[0m         \u001b[0;31m# If unit is None, a plain array is expected (e.g., comparisons), which\u001b[0m\u001b[0;34m\u001b[0m\u001b[0;34m\u001b[0m\u001b[0;34m\u001b[0m\u001b[0m\n\u001b[1;32m    483\u001b[0m         \u001b[0;31m# means we're done.\u001b[0m\u001b[0;34m\u001b[0m\u001b[0;34m\u001b[0m\u001b[0;34m\u001b[0m\u001b[0m\n",
      "\u001b[0;31mKeyboardInterrupt\u001b[0m: "
     ]
    }
   ],
   "source": [
    "# z = 7.3\n",
    "log_post73 = log_posterior(theta = xHI_grid, x = log_L7, y = ndens7, dy_l = yerror_l7, dy_u = yerror_u7, z = 7.3)"
   ]
  },
  {
   "cell_type": "markdown",
   "metadata": {},
   "source": [
    "# Defining function to find xHI for given redshift posterior"
   ]
  },
  {
   "cell_type": "code",
   "execution_count": 405,
   "metadata": {
    "ExecuteTime": {
     "end_time": "2020-09-20T20:25:05.004244Z",
     "start_time": "2020-09-20T20:25:04.761496Z"
    }
   },
   "outputs": [],
   "source": [
    "def finding_xHI(xHI_grid, z, post = log_post6, plot = False):\n",
    "    \n",
    "    linear_post = np.exp(post)\n",
    "    integral_post = np.trapz(linear_post, xHI_grid)\n",
    "    normalized_post = linear_post / integral_post\n",
    "    \n",
    "    CDF = np.cumsum(normalized_post*np.gradient(xHI_grid))\n",
    "    CDF_norm = CDF / CDF.max()\n",
    "    \n",
    "    if z == 6.6:\n",
    "        # 68% CI\n",
    "        CI68 = np.interp(0.68, CDF_norm, xHI_grid)\n",
    "        print(\"0.68 CI upper limit:  %s\" % CI68)\n",
    "\n",
    "        # 95% CI\n",
    "        CI95 = np.interp(0.95, CDF_norm, xHI_grid)\n",
    "        print(\"0.95 CI upper limit:  %s\" % CI95)\n",
    "    else:\n",
    "        # 68% Confidence Interval lower, median, upper limit\n",
    "        CI16 = np.interp(0.16, CDF_norm, xHI_grid)\n",
    "        CI50 = np.interp(0.5, CDF_norm, xHI_grid)\n",
    "        CI84 = np.interp(0.84, CDF_norm, xHI_grid)\n",
    "        print(\"0.16 CI lower limit:  %s\" % CI16)\n",
    "        print(\"0.50 CI median limit:  %s\" % CI50)\n",
    "        print(\"0.84 CI upper limit:  %s\" % CI84)\n",
    "\n",
    "        # 95% Confidence Interval lower, upper limit\n",
    "        CI025 = np.interp(0.025, CDF_norm, xHI_grid)\n",
    "        CI975 = np.interp(0.975, CDF_norm, xHI_grid)\n",
    "        print(\"0.025 CI lower limit:  %s\" % CI025)\n",
    "        print(\"0.975 CI upper limit:  %s\" % CI975)\n",
    "    \n",
    "    if plot == True:\n",
    "        if z == 6.6:\n",
    "            plt.plot(xHI_grid, normalized_post)\n",
    "            plt.axvline(CI68, color = 'red', lw = 0.5)\n",
    "            plt.axvline(CI95, color = 'green', lw = 0.5)\n",
    "        else:\n",
    "            plt.plot(xHI_grid, normalized_post)\n",
    "            # 68% CI lower, median, upper limit\n",
    "            plt.axvline(CI16, color = 'red', lw = 0.5)\n",
    "            plt.axvline(CI50, color = 'red', lw = 0.5)\n",
    "            plt.axvline(CI84, color = 'red', lw = 0.5)\n",
    "\n",
    "            # 95% CI lower, upper limit\n",
    "            plt.axvline(CI025, color = 'green', lw = 0.5)\n",
    "            plt.axvline(CI975, color = 'green', lw = 0.5)\n",
    "    return"
   ]
  },
  {
   "cell_type": "code",
   "execution_count": 357,
   "metadata": {
    "ExecuteTime": {
     "end_time": "2020-09-20T19:52:41.956460Z",
     "start_time": "2020-09-20T19:52:41.321077Z"
    }
   },
   "outputs": [
    {
     "name": "stdout",
     "output_type": "stream",
     "text": [
      "0.68 CI upper limit:  0.07293964504622646\n",
      "0.95 CI upper limit:  0.15895709539263628\n"
     ]
    },
    {
     "data": {
      "image/png": "[encoded data removed]",
      "text/plain": [
       "<Figure size 640x480 with 1 Axes>"
      ]
     },
     "metadata": {},
     "output_type": "display_data"
    }
   ],
   "source": [
    "# z = 6.6\n",
    "finding_xHI(xHI_grid, z = 6.6, post = log_post66, plot = True)"
   ]
  },
  {
   "cell_type": "code",
   "execution_count": 407,
   "metadata": {
    "ExecuteTime": {
     "end_time": "2020-09-20T20:26:56.226949Z",
     "start_time": "2020-09-20T20:26:55.676268Z"
    }
   },
   "outputs": [
    {
     "name": "stdout",
     "output_type": "stream",
     "text": [
      "0.16 CI lower limit:  0.3801421709125136\n",
      "0.50 CI median limit:  0.4201166701906668\n",
      "0.84 CI upper limit:  0.46477410243333434\n",
      "0.025 CI lower limit:  0.3417531026579398\n",
      "0.975 CI upper limit:  0.5012111071253369\n"
     ]
    },
    {
     "data": {
      "image/png": "[encoded data removed]",
      "text/plain": [
       "<Figure size 640x480 with 1 Axes>"
      ]
     },
     "metadata": {},
     "output_type": "display_data"
    }
   ],
   "source": [
    "# z = 7.0\n",
    "finding_xHI(xHI_grid, z = 7.0, post = log_post70, plot = True)"
   ]
  },
  {
   "cell_type": "code",
   "execution_count": 349,
   "metadata": {
    "ExecuteTime": {
     "end_time": "2020-09-20T19:03:49.014546Z",
     "start_time": "2020-09-20T19:03:48.621609Z"
    }
   },
   "outputs": [
    {
     "name": "stdout",
     "output_type": "stream",
     "text": [
      "0.16 CI lower limit:  0.6663370001526867\n",
      "0.50 CI median limit:  0.7662426990074139\n",
      "0.84 CI upper limit:  0.8778757270664179\n",
      "0.025 CI lower limit:  0.5872322540032084\n",
      "0.975 CI upper limit:  0.937532542006216\n"
     ]
    },
    {
     "data": {
      "image/png": "[encoded data removed]",
      "text/plain": [
       "<Figure size 640x480 with 1 Axes>"
      ]
     },
     "metadata": {},
     "output_type": "display_data"
    }
   ],
   "source": [
    "# z = 7.3\n",
    "finding_xHI(xHI_grid, z = 7.3, post = log_post73, plot = True)"
   ]
  },
  {
   "cell_type": "markdown",
   "metadata": {},
   "source": [
    "# Test Code"
   ]
  },
  {
   "cell_type": "code",
   "execution_count": 97,
   "metadata": {
    "ExecuteTime": {
     "end_time": "2020-09-08T17:17:41.570506Z",
     "start_time": "2020-09-08T17:17:41.322145Z"
    }
   },
   "outputs": [
    {
     "name": "stdout",
     "output_type": "stream",
     "text": [
      "[0.00238276 0.04630646 0.01056031 0.0020145  0.00582859 0.02128509\n",
      " 0.00389536 0.15348608 0.21498316 0.01358588]\n",
      "[1.0488135  1.21518937 1.10276338 1.04488318 0.9236548  1.14589411\n",
      " 0.93758721 1.391773   1.46366276 0.88344152]\n",
      "[ 0.00238276  0.04630646  0.01056031  0.0020145  -0.00582859  0.02128509\n",
      " -0.00389536  0.15348608  0.21498316 -0.01358588]\n"
     ]
    }
   ],
   "source": [
    "#Test Cell\n",
    "np.random.seed(0)\n",
    "\n",
    "y_model = np.ones(10)\n",
    "y = np.random.rand(10)+0.5\n",
    "likelihood = (y_model - y)**2.\n",
    "print(likelihood)\n",
    "print(y)\n",
    "# likelihood[y_model >= y] = 0\n",
    "# print(likelihood)\n",
    "\n",
    "likelihood2 = -(y_model - y)**2.\n",
    "# print(likelihood2)\n",
    "likelihood[y_model >= y] = likelihood2[y_model >= y]\n",
    "print(likelihood)"
   ]
  }
 ],
 "metadata": {
  "kernelspec": {
   "display_name": "Python 3",
   "language": "python",
   "name": "python3"
  },
  "language_info": {
   "codemirror_mode": {
    "name": "ipython",
    "version": 3
   },
   "file_extension": ".py",
   "mimetype": "text/x-python",
   "name": "python",
   "nbconvert_exporter": "python",
   "pygments_lexer": "ipython3",
   "version": "3.7.6"
  },
  "toc": {
   "base_numbering": 1,
   "nav_menu": {},
   "number_sections": true,
   "sideBar": true,
   "skip_h1_title": false,
   "title_cell": "Table of Contents",
   "title_sidebar": "Contents",
   "toc_cell": false,
   "toc_position": {},
   "toc_section_display": true,
   "toc_window_display": false
  }
 },
 "nbformat": 4,
 "nbformat_minor": 4
}
